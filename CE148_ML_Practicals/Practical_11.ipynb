{
  "nbformat": 4,
  "nbformat_minor": 0,
  "metadata": {
    "colab": {
      "provenance": []
    },
    "kernelspec": {
      "name": "python3",
      "display_name": "Python 3"
    },
    "language_info": {
      "name": "python"
    }
  },
  "cells": [
    {
      "cell_type": "markdown",
      "metadata": {
        "id": "view-in-github"
      },
      "source": []
    },
    {
      "cell_type": "markdown",
      "source": [
        "# **Practical - 11** : Support Vector Machine\n",
        "\n",
        "> ### **Objective** : To implement SVM using scikit-learn library and train it to classify the given dataset."
      ],
      "metadata": {
        "id": "cSfPNJ7626zw"
      }
    },
    {
      "cell_type": "code",
      "execution_count": 1,
      "metadata": {
        "id": "T1-5_H4sIye9",
        "colab": {
          "base_uri": "https://localhost:8080/"
        },
        "outputId": "a9fb971e-efe4-4cb8-c3a7-f3fdc5e89659"
      },
      "outputs": [
        {
          "output_type": "stream",
          "name": "stdout",
          "text": [
            "Accuracy 0.9736842105263158\n",
            "Precision 0.9861111111111112\n",
            "Recall 0.9726027397260274\n",
            "              precision    recall  f1-score   support\n",
            "\n",
            "           0       0.95      0.98      0.96        41\n",
            "           1       0.99      0.97      0.98        73\n",
            "\n",
            "    accuracy                           0.97       114\n",
            "   macro avg       0.97      0.97      0.97       114\n",
            "weighted avg       0.97      0.97      0.97       114\n",
            "\n"
          ]
        }
      ],
      "source": [
        "import sys, os\n",
        "import matplotlib.pyplot as plt\n",
        "from sklearn import svm\n",
        "from sklearn.model_selection import train_test_split\n",
        "import numpy as np\n",
        "import pandas as pd\n",
        "from sklearn.datasets import make_blobs, load_breast_cancer, load_digits\n",
        "from sklearn.metrics import accuracy_score, precision_score, recall_score, classification_report\n",
        "from mlxtend.plotting import plot_decision_regions\n",
        "\n",
        "data = load_breast_cancer()\n",
        "features = data.data\n",
        "labels = data.target\n",
        "\n",
        "model = svm.SVC(kernel='linear')\n",
        "\n",
        "trainX, testX, trainL, testL = train_test_split(features, labels, random_state=110, test_size=0.2)\n",
        "model.fit(trainX, trainL)\n",
        "\n",
        "predicted = model.predict(testX)\n",
        "\n",
        "print('Accuracy {}'.format(accuracy_score(testL, predicted)))\n",
        "print('Precision {}'.format(precision_score(testL, predicted)))\n",
        "print('Recall {}'.format(recall_score(testL, predicted)))\n",
        "\n",
        "print(classification_report(testL, predicted))"
      ]
    },
    {
      "cell_type": "code",
      "source": [
        "model = svm.SVC(kernel='poly')\n",
        "\n",
        "trainX, testX, trainL, testL = train_test_split(features, labels, random_state=110, test_size=0.2)\n",
        "model.fit(trainX, trainL)\n",
        "\n",
        "predicted = model.predict(testX)\n",
        "\n",
        "print('Accuracy {}'.format(accuracy_score(testL, predicted)))\n",
        "print('Precision {}'.format(precision_score(testL, predicted)))\n",
        "print('Recall {}'.format(recall_score(testL, predicted)))\n",
        "\n",
        "print(classification_report(testL, predicted))"
      ],
      "metadata": {
        "colab": {
          "base_uri": "https://localhost:8080/"
        },
        "id": "jGdL_br8OZT3",
        "outputId": "c4fad649-e388-4fc9-f85b-de7d538dc230"
      },
      "execution_count": 2,
      "outputs": [
        {
          "output_type": "stream",
          "name": "stdout",
          "text": [
            "Accuracy 0.8947368421052632\n",
            "Precision 0.8961038961038961\n",
            "Recall 0.9452054794520548\n",
            "              precision    recall  f1-score   support\n",
            "\n",
            "           0       0.89      0.80      0.85        41\n",
            "           1       0.90      0.95      0.92        73\n",
            "\n",
            "    accuracy                           0.89       114\n",
            "   macro avg       0.89      0.88      0.88       114\n",
            "weighted avg       0.89      0.89      0.89       114\n",
            "\n"
          ]
        }
      ]
    },
    {
      "cell_type": "code",
      "source": [
        "model = svm.SVC(kernel='rbf')\n",
        "\n",
        "trainX, testX, trainL, testL = train_test_split(features, labels, random_state=110, test_size=0.2)\n",
        "model.fit(trainX, trainL)\n",
        "\n",
        "predicted = model.predict(testX)\n",
        "\n",
        "print('Accuracy {}'.format(accuracy_score(testL, predicted)))\n",
        "print('Precision {}'.format(precision_score(testL, predicted)))\n",
        "print('Recall {}'.format(recall_score(testL, predicted)))\n",
        "\n",
        "print(classification_report(testL, predicted))"
      ],
      "metadata": {
        "colab": {
          "base_uri": "https://localhost:8080/"
        },
        "id": "dQqX8435R2I-",
        "outputId": "ce7cc814-6f05-4856-d84a-0b3e7f81d79e"
      },
      "execution_count": 3,
      "outputs": [
        {
          "output_type": "stream",
          "name": "stdout",
          "text": [
            "Accuracy 0.8947368421052632\n",
            "Precision 0.8961038961038961\n",
            "Recall 0.9452054794520548\n",
            "              precision    recall  f1-score   support\n",
            "\n",
            "           0       0.89      0.80      0.85        41\n",
            "           1       0.90      0.95      0.92        73\n",
            "\n",
            "    accuracy                           0.89       114\n",
            "   macro avg       0.89      0.88      0.88       114\n",
            "weighted avg       0.89      0.89      0.89       114\n",
            "\n"
          ]
        }
      ]
    },
    {
      "cell_type": "code",
      "source": [
        "data = load_digits()\n",
        "features = data.data\n",
        "labels = data.target\n",
        "\n",
        "model = svm.SVC(kernel='linear')\n",
        "\n",
        "trainX, testX, trainL, testL = train_test_split(features, labels, random_state=110, test_size=0.2)\n",
        "model.fit(trainX, trainL)\n",
        "\n",
        "predicted = model.predict(testX)\n",
        "\n",
        "print('Accuracy {}'.format(accuracy_score(testL, predicted)))\n",
        "print('Precision {}'.format(precision_score(testL, predicted, average='weighted')))\n",
        "print('Recall {}'.format(recall_score(testL, predicted, average='weighted')))\n",
        "\n",
        "print(classification_report(testL, predicted))"
      ],
      "metadata": {
        "colab": {
          "base_uri": "https://localhost:8080/"
        },
        "id": "TaErnFhaR64e",
        "outputId": "86e632de-43bf-462c-f1fd-97916de2fc55"
      },
      "execution_count": 4,
      "outputs": [
        {
          "output_type": "stream",
          "name": "stdout",
          "text": [
            "Accuracy 0.9888888888888889\n",
            "Precision 0.9892000129500129\n",
            "Recall 0.9888888888888889\n",
            "              precision    recall  f1-score   support\n",
            "\n",
            "           0       1.00      1.00      1.00        34\n",
            "           1       1.00      0.98      0.99        47\n",
            "           2       1.00      1.00      1.00        37\n",
            "           3       1.00      0.97      0.98        31\n",
            "           4       0.98      1.00      0.99        43\n",
            "           5       1.00      0.97      0.98        30\n",
            "           6       1.00      0.97      0.99        39\n",
            "           7       0.97      1.00      0.98        29\n",
            "           8       0.97      1.00      0.98        32\n",
            "           9       0.97      1.00      0.99        38\n",
            "\n",
            "    accuracy                           0.99       360\n",
            "   macro avg       0.99      0.99      0.99       360\n",
            "weighted avg       0.99      0.99      0.99       360\n",
            "\n"
          ]
        }
      ]
    },
    {
      "cell_type": "code",
      "source": [
        "model = svm.SVC(kernel='poly')\n",
        "\n",
        "trainX, testX, trainL, testL = train_test_split(features, labels, random_state=110, test_size=0.2)\n",
        "model.fit(trainX, trainL)\n",
        "\n",
        "predicted = model.predict(testX)\n",
        "\n",
        "print('Accuracy {}'.format(accuracy_score(testL, predicted)))\n",
        "print('Precision {}'.format(precision_score(testL, predicted, average='weighted')))\n",
        "print('Recall {}'.format(recall_score(testL, predicted, average='weighted')))\n",
        "\n",
        "print(classification_report(testL, predicted))"
      ],
      "metadata": {
        "colab": {
          "base_uri": "https://localhost:8080/"
        },
        "id": "gDATjcyVSGV2",
        "outputId": "7ccf593d-8be4-4ec0-87d8-c4f380e5f1da"
      },
      "execution_count": 5,
      "outputs": [
        {
          "output_type": "stream",
          "name": "stdout",
          "text": [
            "Accuracy 0.9944444444444445\n",
            "Precision 0.9946082621082619\n",
            "Recall 0.9944444444444445\n",
            "              precision    recall  f1-score   support\n",
            "\n",
            "           0       1.00      1.00      1.00        34\n",
            "           1       1.00      1.00      1.00        47\n",
            "           2       1.00      1.00      1.00        37\n",
            "           3       1.00      0.97      0.98        31\n",
            "           4       1.00      1.00      1.00        43\n",
            "           5       1.00      0.97      0.98        30\n",
            "           6       1.00      1.00      1.00        39\n",
            "           7       0.97      1.00      0.98        29\n",
            "           8       1.00      1.00      1.00        32\n",
            "           9       0.97      1.00      0.99        38\n",
            "\n",
            "    accuracy                           0.99       360\n",
            "   macro avg       0.99      0.99      0.99       360\n",
            "weighted avg       0.99      0.99      0.99       360\n",
            "\n"
          ]
        }
      ]
    },
    {
      "cell_type": "code",
      "source": [
        "# decreasing value of C tends to reduce accuracy of the model\n",
        "model = svm.SVC(kernel='poly', C=1000)\n",
        "\n",
        "trainX, testX, trainL, testL = train_test_split(features, labels, random_state=110, test_size=0.2)\n",
        "model.fit(trainX, trainL)\n",
        "\n",
        "predicted = model.predict(testX)\n",
        "\n",
        "print('Accuracy {}'.format(accuracy_score(testL, predicted)))\n",
        "print('Precision {}'.format(precision_score(testL, predicted, average='weighted')))\n",
        "print('Recall {}'.format(recall_score(testL, predicted, average='weighted')))\n",
        "\n",
        "print(classification_report(testL, predicted))"
      ],
      "metadata": {
        "colab": {
          "base_uri": "https://localhost:8080/"
        },
        "id": "AnUg0B_OTHam",
        "outputId": "539c8cec-a972-4af0-a068-9d7bc91a6b34"
      },
      "execution_count": 6,
      "outputs": [
        {
          "output_type": "stream",
          "name": "stdout",
          "text": [
            "Accuracy 0.9944444444444445\n",
            "Precision 0.9946082621082619\n",
            "Recall 0.9944444444444445\n",
            "              precision    recall  f1-score   support\n",
            "\n",
            "           0       1.00      1.00      1.00        34\n",
            "           1       1.00      1.00      1.00        47\n",
            "           2       1.00      1.00      1.00        37\n",
            "           3       1.00      0.97      0.98        31\n",
            "           4       1.00      1.00      1.00        43\n",
            "           5       1.00      0.97      0.98        30\n",
            "           6       1.00      1.00      1.00        39\n",
            "           7       0.97      1.00      0.98        29\n",
            "           8       1.00      1.00      1.00        32\n",
            "           9       0.97      1.00      0.99        38\n",
            "\n",
            "    accuracy                           0.99       360\n",
            "   macro avg       0.99      0.99      0.99       360\n",
            "weighted avg       0.99      0.99      0.99       360\n",
            "\n"
          ]
        }
      ]
    },
    {
      "cell_type": "code",
      "source": [
        "model = svm.SVC(kernel='rbf')\n",
        "\n",
        "trainX, testX, trainL, testL = train_test_split(features, labels, random_state=110, test_size=0.2)\n",
        "model.fit(trainX, trainL)\n",
        "\n",
        "predicted = model.predict(testX)\n",
        "\n",
        "print('Accuracy {}'.format(accuracy_score(testL, predicted)))\n",
        "print('Precision {}'.format(precision_score(testL, predicted, average='weighted')))\n",
        "print('Recall {}'.format(recall_score(testL, predicted, average='weighted')))\n",
        "\n",
        "print(classification_report(testL, predicted))"
      ],
      "metadata": {
        "colab": {
          "base_uri": "https://localhost:8080/"
        },
        "id": "A1-Jr80jSIiO",
        "outputId": "0a3f42cf-0f80-42a5-e21f-22589588d3f1"
      },
      "execution_count": 7,
      "outputs": [
        {
          "output_type": "stream",
          "name": "stdout",
          "text": [
            "Accuracy 0.9944444444444445\n",
            "Precision 0.9946082621082619\n",
            "Recall 0.9944444444444445\n",
            "              precision    recall  f1-score   support\n",
            "\n",
            "           0       1.00      1.00      1.00        34\n",
            "           1       1.00      1.00      1.00        47\n",
            "           2       1.00      1.00      1.00        37\n",
            "           3       1.00      0.97      0.98        31\n",
            "           4       1.00      1.00      1.00        43\n",
            "           5       1.00      0.97      0.98        30\n",
            "           6       1.00      1.00      1.00        39\n",
            "           7       0.97      1.00      0.98        29\n",
            "           8       1.00      1.00      1.00        32\n",
            "           9       0.97      1.00      0.99        38\n",
            "\n",
            "    accuracy                           0.99       360\n",
            "   macro avg       0.99      0.99      0.99       360\n",
            "weighted avg       0.99      0.99      0.99       360\n",
            "\n"
          ]
        }
      ]
    },
    {
      "cell_type": "code",
      "source": [
        "# decreasing value of C tends to reduce accuracy of the model\n",
        "model = svm.SVC(kernel='rbf', C=100000)\n",
        "\n",
        "trainX, testX, trainL, testL = train_test_split(features, labels, random_state=110, test_size=0.2)\n",
        "model.fit(trainX, trainL)\n",
        "\n",
        "predicted = model.predict(testX)\n",
        "\n",
        "print('Accuracy {}'.format(accuracy_score(testL, predicted)))\n",
        "print('Precision {}'.format(precision_score(testL, predicted, average='weighted')))\n",
        "print('Recall {}'.format(recall_score(testL, predicted, average='weighted')))\n",
        "\n",
        "print(classification_report(testL, predicted))"
      ],
      "metadata": {
        "colab": {
          "base_uri": "https://localhost:8080/"
        },
        "id": "GTDzqsasSYqV",
        "outputId": "3ced6144-5e05-4baf-c430-12123c5cbdb7"
      },
      "execution_count": 8,
      "outputs": [
        {
          "output_type": "stream",
          "name": "stdout",
          "text": [
            "Accuracy 0.9944444444444445\n",
            "Precision 0.9945998445998444\n",
            "Recall 0.9944444444444445\n",
            "              precision    recall  f1-score   support\n",
            "\n",
            "           0       1.00      1.00      1.00        34\n",
            "           1       1.00      1.00      1.00        47\n",
            "           2       1.00      1.00      1.00        37\n",
            "           3       1.00      0.97      0.98        31\n",
            "           4       1.00      1.00      1.00        43\n",
            "           5       1.00      0.97      0.98        30\n",
            "           6       1.00      1.00      1.00        39\n",
            "           7       1.00      1.00      1.00        29\n",
            "           8       0.97      1.00      0.98        32\n",
            "           9       0.97      1.00      0.99        38\n",
            "\n",
            "    accuracy                           0.99       360\n",
            "   macro avg       0.99      0.99      0.99       360\n",
            "weighted avg       0.99      0.99      0.99       360\n",
            "\n"
          ]
        }
      ]
    }
  ]
}