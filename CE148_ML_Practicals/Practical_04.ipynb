{
  "nbformat": 4,
  "nbformat_minor": 0,
  "metadata": {
    "colab": {
      "provenance": []
    },
    "kernelspec": {
      "name": "python3",
      "display_name": "Python 3"
    },
    "language_info": {
      "name": "python"
    }
  },
  "cells": [
    {
      "cell_type": "markdown",
      "source": [
        "# **Practical-04** : Linear Regression\n",
        "### **Objective** : Implement Linear Regression Algorithm on the given dataset"
      ],
      "metadata": {
        "id": "J8ooGvrRzco_"
      }
    },
    {
      "cell_type": "code",
      "execution_count": 1,
      "metadata": {
        "id": "M1A7_XzYwiTS"
      },
      "outputs": [],
      "source": [
        "# Import Numpy & PyTorch\n",
        "import numpy as np\n",
        "import torch"
      ]
    },
    {
      "cell_type": "code",
      "source": [
        "# Input (temp, rainfall, humidity)\n",
        "inputs = np.array([[73, 67, 43],\n",
        "                   [91, 88, 64],\n",
        "                   [87, 134, 58],\n",
        "                   [102, 43, 37],\n",
        "                   [69, 96, 70]], dtype='float32')\n",
        "\n",
        "# Target (apples)\n",
        "targets = np.array([[56],\n",
        "                    [81],\n",
        "                    [119],\n",
        "                    [22],\n",
        "                    [103]], dtype='float32')"
      ],
      "metadata": {
        "id": "lV7uFEp7zr6-"
      },
      "execution_count": 2,
      "outputs": []
    },
    {
      "cell_type": "code",
      "source": [
        "# Convert inputs and targets to tensors\n",
        "\n",
        "inputs_t = torch.from_numpy(inputs)\n",
        "targets_t = torch.from_numpy(targets)\n",
        "\n",
        "print(inputs_t)\n",
        "print(targets_t)"
      ],
      "metadata": {
        "colab": {
          "base_uri": "https://localhost:8080/"
        },
        "id": "LFJqhdPawuSH",
        "outputId": "0e639f8b-8acf-44bb-cda5-08106c89d12b"
      },
      "execution_count": 3,
      "outputs": [
        {
          "output_type": "stream",
          "name": "stdout",
          "text": [
            "tensor([[ 73.,  67.,  43.],\n",
            "        [ 91.,  88.,  64.],\n",
            "        [ 87., 134.,  58.],\n",
            "        [102.,  43.,  37.],\n",
            "        [ 69.,  96.,  70.]])\n",
            "tensor([[ 56.],\n",
            "        [ 81.],\n",
            "        [119.],\n",
            "        [ 22.],\n",
            "        [103.]])\n"
          ]
        }
      ]
    },
    {
      "cell_type": "markdown",
      "source": [
        "**3.2 Linear Regression Model (from scratch)**"
      ],
      "metadata": {
        "id": "STCDrNPi9-Mt"
      }
    },
    {
      "cell_type": "code",
      "source": [
        "# Weights and biases\n",
        "Weights = torch.randn(3, 1, requires_grad=True)\n",
        "biases = torch.randn(1, requires_grad=True)\n",
        "print(Weights)\n",
        "print(biases)"
      ],
      "metadata": {
        "colab": {
          "base_uri": "https://localhost:8080/"
        },
        "id": "cA3rWllh0cot",
        "outputId": "33249b09-0d4c-4f38-da10-4970f32ecc70"
      },
      "execution_count": 4,
      "outputs": [
        {
          "output_type": "stream",
          "name": "stdout",
          "text": [
            "tensor([[-0.3127],\n",
            "        [-0.1559],\n",
            "        [-0.8533]], requires_grad=True)\n",
            "tensor([1.2795], requires_grad=True)\n"
          ]
        }
      ]
    },
    {
      "cell_type": "code",
      "source": [
        "# Define the model\n",
        "def model(x):\n",
        "    return x @ Weights + biases"
      ],
      "metadata": {
        "id": "itsLbg2x30E0"
      },
      "execution_count": 5,
      "outputs": []
    },
    {
      "cell_type": "code",
      "source": [
        "# Generate predictions\n",
        "pred = model(inputs_t)\n",
        "pred"
      ],
      "metadata": {
        "colab": {
          "base_uri": "https://localhost:8080/"
        },
        "id": "aymv-vRu7_Kt",
        "outputId": "cdf7b897-cdbb-46c3-d766-40d8a6767158"
      },
      "execution_count": 6,
      "outputs": [
        {
          "output_type": "execute_result",
          "data": {
            "text/plain": [
              "tensor([[-68.6851],\n",
              "        [-95.5073],\n",
              "        [-96.3105],\n",
              "        [-68.8895],\n",
              "        [-94.9964]], grad_fn=<AddBackward0>)"
            ]
          },
          "metadata": {},
          "execution_count": 6
        }
      ]
    },
    {
      "cell_type": "code",
      "source": [
        "# Compare with targets\n",
        "print(targets_t)"
      ],
      "metadata": {
        "colab": {
          "base_uri": "https://localhost:8080/"
        },
        "id": "k_x4lN-U8iZW",
        "outputId": "624d1585-00ce-4414-a467-de559c16c862"
      },
      "execution_count": 7,
      "outputs": [
        {
          "output_type": "stream",
          "name": "stdout",
          "text": [
            "tensor([[ 56.],\n",
            "        [ 81.],\n",
            "        [119.],\n",
            "        [ 22.],\n",
            "        [103.]])\n"
          ]
        }
      ]
    },
    {
      "cell_type": "markdown",
      "source": [
        "**3.3 Loss Function**"
      ],
      "metadata": {
        "id": "YEKKR7Kn-AlE"
      }
    },
    {
      "cell_type": "code",
      "source": [
        "# MSE loss\n",
        "def mse(t1, t2):\n",
        "    diff = t1 - t2\n",
        "    return torch.sum(diff * diff) / diff.numel()"
      ],
      "metadata": {
        "id": "A5qmobVv8iYc"
      },
      "execution_count": 8,
      "outputs": []
    },
    {
      "cell_type": "code",
      "source": [
        "# Compute \n",
        "\n",
        "loss = mse(pred, targets_t)\n",
        "print(loss)"
      ],
      "metadata": {
        "colab": {
          "base_uri": "https://localhost:8080/"
        },
        "id": "lphXveOW-LBe",
        "outputId": "c198c288-e873-4e70-d597-1d12fb55c7ae"
      },
      "execution_count": 9,
      "outputs": [
        {
          "output_type": "stream",
          "name": "stdout",
          "text": [
            "tensor(28104.6660, grad_fn=<DivBackward0>)\n"
          ]
        }
      ]
    },
    {
      "cell_type": "markdown",
      "source": [
        "## **3.4 Compute Gradients**"
      ],
      "metadata": {
        "id": "1iFWL-RS-xJM"
      }
    },
    {
      "cell_type": "code",
      "source": [
        "# Compute gradients\n",
        "loss.backward()"
      ],
      "metadata": {
        "id": "7--AJ8zh-LAU"
      },
      "execution_count": 10,
      "outputs": []
    },
    {
      "cell_type": "code",
      "source": [
        "# Gradients for weights\n",
        "print(Weights)\n",
        "print(Weights.grad)"
      ],
      "metadata": {
        "colab": {
          "base_uri": "https://localhost:8080/"
        },
        "id": "jC66vkX7BE3d",
        "outputId": "5349529d-d5f6-4dae-c705-1027b841a8e1"
      },
      "execution_count": 11,
      "outputs": [
        {
          "output_type": "stream",
          "name": "stdout",
          "text": [
            "tensor([[-0.3127],\n",
            "        [-0.1559],\n",
            "        [-0.8533]], requires_grad=True)\n",
            "tensor([[-26731.4707],\n",
            "        [-30261.6270],\n",
            "        [-18547.4414]])\n"
          ]
        }
      ]
    },
    {
      "cell_type": "code",
      "source": [
        "# Gradients for bias\n",
        "print(biases)\n",
        "print(biases.grad)"
      ],
      "metadata": {
        "colab": {
          "base_uri": "https://localhost:8080/"
        },
        "id": "kj2tyljYBL09",
        "outputId": "14d02a16-fd16-45f0-c98f-37d22ce5cbd4"
      },
      "execution_count": 12,
      "outputs": [
        {
          "output_type": "stream",
          "name": "stdout",
          "text": [
            "tensor([1.2795], requires_grad=True)\n",
            "tensor([-322.1555])\n"
          ]
        }
      ]
    },
    {
      "cell_type": "code",
      "source": [
        "Weights.grad.zero_()\n",
        "biases.grad.zero_()\n",
        "print(Weights.grad)\n",
        "print(biases.grad)"
      ],
      "metadata": {
        "colab": {
          "base_uri": "https://localhost:8080/"
        },
        "id": "Zfhv8I5lBnc0",
        "outputId": "d788c319-70c4-4ff2-a081-482caddf4148"
      },
      "execution_count": 13,
      "outputs": [
        {
          "output_type": "stream",
          "name": "stdout",
          "text": [
            "tensor([[0.],\n",
            "        [0.],\n",
            "        [0.]])\n",
            "tensor([0.])\n"
          ]
        }
      ]
    },
    {
      "cell_type": "markdown",
      "source": [
        "**3.5 Adjust weights and biases using gradient descent**"
      ],
      "metadata": {
        "id": "M0uam0RXB3G1"
      }
    },
    {
      "cell_type": "code",
      "source": [
        "# Generate predictions\n",
        "pred = model(inputs_t)\n",
        "print(pred)"
      ],
      "metadata": {
        "colab": {
          "base_uri": "https://localhost:8080/"
        },
        "id": "KsMGas66B0ik",
        "outputId": "ca1c471a-b578-4517-9a5c-bcae977bd587"
      },
      "execution_count": 14,
      "outputs": [
        {
          "output_type": "stream",
          "name": "stdout",
          "text": [
            "tensor([[-68.6851],\n",
            "        [-95.5073],\n",
            "        [-96.3105],\n",
            "        [-68.8895],\n",
            "        [-94.9964]], grad_fn=<AddBackward0>)\n"
          ]
        }
      ]
    },
    {
      "cell_type": "code",
      "source": [
        "# Calculate the loss\n",
        "loss = mse(pred, targets_t)\n",
        "print(loss)"
      ],
      "metadata": {
        "colab": {
          "base_uri": "https://localhost:8080/"
        },
        "id": "dQticWPqCATc",
        "outputId": "94afed29-43ff-472c-b4c3-151ec48a37df"
      },
      "execution_count": 15,
      "outputs": [
        {
          "output_type": "stream",
          "name": "stdout",
          "text": [
            "tensor(28104.6660, grad_fn=<DivBackward0>)\n"
          ]
        }
      ]
    },
    {
      "cell_type": "code",
      "source": [
        "# Compute gradients\n",
        "print(Weights.grad)\n",
        "print(biases.grad)"
      ],
      "metadata": {
        "colab": {
          "base_uri": "https://localhost:8080/"
        },
        "id": "LoITSFJRCSTY",
        "outputId": "38f6dba5-7555-4337-a845-a1ea271895c7"
      },
      "execution_count": 16,
      "outputs": [
        {
          "output_type": "stream",
          "name": "stdout",
          "text": [
            "tensor([[0.],\n",
            "        [0.],\n",
            "        [0.]])\n",
            "tensor([0.])\n"
          ]
        }
      ]
    },
    {
      "cell_type": "code",
      "source": [
        "# Adjust weights & reset gradients\n",
        "with torch.no_grad():\n",
        "    Weights -= Weights.grad * 1e-5\n",
        "    biases -= biases.grad * 1e-5\n",
        "    Weights.grad.zero_()\n",
        "    biases.grad.zero_()"
      ],
      "metadata": {
        "id": "wgjX6jEBCfJz"
      },
      "execution_count": 17,
      "outputs": []
    },
    {
      "cell_type": "code",
      "source": [
        "print(Weights)\n",
        "print(biases)"
      ],
      "metadata": {
        "colab": {
          "base_uri": "https://localhost:8080/"
        },
        "id": "AJXDusUbC-IM",
        "outputId": "bc05b694-a43e-41fa-d607-76be0b237f12"
      },
      "execution_count": 18,
      "outputs": [
        {
          "output_type": "stream",
          "name": "stdout",
          "text": [
            "tensor([[-0.3127],\n",
            "        [-0.1559],\n",
            "        [-0.8533]], requires_grad=True)\n",
            "tensor([1.2795], requires_grad=True)\n"
          ]
        }
      ]
    },
    {
      "cell_type": "code",
      "source": [
        "# Calculate loss\n",
        "pred = model(inputs_t)\n",
        "loss = mse(pred, targets_t)\n",
        "print(loss)"
      ],
      "metadata": {
        "colab": {
          "base_uri": "https://localhost:8080/"
        },
        "id": "Sd_tUkVLDDZd",
        "outputId": "94e70083-bf5b-4db5-9dab-2c95cf438912"
      },
      "execution_count": 19,
      "outputs": [
        {
          "output_type": "stream",
          "name": "stdout",
          "text": [
            "tensor(28104.6660, grad_fn=<DivBackward0>)\n"
          ]
        }
      ]
    },
    {
      "cell_type": "markdown",
      "source": [
        "## **3.6 Train for multiple epochs**"
      ],
      "metadata": {
        "id": "XTrVzsdpDkoc"
      }
    },
    {
      "cell_type": "code",
      "source": [
        "# Train for 100 epochs\n",
        "for i in range(100):\n",
        "    pred = model(inputs_t)\n",
        "    loss = mse(pred, targets_t)\n",
        "    loss.backward()\n",
        "    with torch.no_grad():\n",
        "        Weights -= Weights.grad * 1e-5\n",
        "        biases -= biases.grad * 1e-5\n",
        "        Weights.grad.zero_()\n",
        "        biases.grad.zero_()"
      ],
      "metadata": {
        "id": "5shlzXwaDO5D"
      },
      "execution_count": 20,
      "outputs": []
    },
    {
      "cell_type": "code",
      "source": [
        "# Calculate loss\n",
        "pred = model(inputs_t)\n",
        "loss = mse(pred, targets_t)\n",
        "print(loss)\n",
        "print(Weights)\n",
        "print(biases)"
      ],
      "metadata": {
        "colab": {
          "base_uri": "https://localhost:8080/"
        },
        "id": "SV9Bd429D2EL",
        "outputId": "045bd4b0-3034-446f-fc5b-48d94fd04958"
      },
      "execution_count": 21,
      "outputs": [
        {
          "output_type": "stream",
          "name": "stdout",
          "text": [
            "tensor(107.8567, grad_fn=<DivBackward0>)\n",
            "tensor([[-0.0416],\n",
            "        [ 1.0062],\n",
            "        [-0.1327]], requires_grad=True)\n",
            "tensor([1.2861], requires_grad=True)\n"
          ]
        }
      ]
    },
    {
      "cell_type": "code",
      "source": [
        "# Predictions\n",
        "pred"
      ],
      "metadata": {
        "colab": {
          "base_uri": "https://localhost:8080/"
        },
        "id": "dDHVVWZAEDqk",
        "outputId": "af389038-1f1a-4f15-a973-730be0be9b2f"
      },
      "execution_count": 22,
      "outputs": [
        {
          "output_type": "execute_result",
          "data": {
            "text/plain": [
              "tensor([[ 59.9570],\n",
              "        [ 77.5514],\n",
              "        [124.7969],\n",
              "        [ 35.3988],\n",
              "        [ 85.7199]], grad_fn=<AddBackward0>)"
            ]
          },
          "metadata": {},
          "execution_count": 22
        }
      ]
    },
    {
      "cell_type": "code",
      "source": [
        "# Targets\n",
        "targets_t"
      ],
      "metadata": {
        "colab": {
          "base_uri": "https://localhost:8080/"
        },
        "id": "zntxCPCDEE57",
        "outputId": "fc959422-6142-44c0-d42b-082f358ccf7c"
      },
      "execution_count": 23,
      "outputs": [
        {
          "output_type": "execute_result",
          "data": {
            "text/plain": [
              "tensor([[ 56.],\n",
              "        [ 81.],\n",
              "        [119.],\n",
              "        [ 22.],\n",
              "        [103.]])"
            ]
          },
          "metadata": {},
          "execution_count": 23
        }
      ]
    },
    {
      "cell_type": "markdown",
      "source": [
        "## **1.1 Linear Regression Model using PyTorch built-ins**"
      ],
      "metadata": {
        "id": "axZy17It6Vo8"
      }
    },
    {
      "cell_type": "code",
      "source": [
        "# Imports\n",
        "import torch.nn as nn\n",
        "import torch\n",
        "import numpy as np"
      ],
      "metadata": {
        "id": "cpyEDa5k6XTl"
      },
      "execution_count": 24,
      "outputs": []
    },
    {
      "cell_type": "code",
      "source": [
        "# Input (temp, rainfall, humidity)\n",
        "\n",
        "inputs = np.array([[73, 67, 43], [91, 88, 64], [87, 134, 58], [102, 43, 37],[69, 96, 70],\n",
        "                   [73, 67, 43], [91, 88, 64], [87, 134, 58], [102, 43, 37], [69,96, 70],\n",
        "                   [73, 67, 43], [91, 88, 64], [87, 134, 58], [102, 43, 37], [69, 96,70]], dtype='float32')\n",
        "\n",
        "# Targets (apples, oranges)\n",
        "targets = np.array([[56, 70], [81, 101], [119, 133], [22, 37], [103, 119],\n",
        "                    [56, 70], [81, 101], [119, 133], [22, 37], [103, 119],\n",
        "                    [56, 70], [81, 101], [119, 133], [22, 37], [103, 119]],dtype='float32')\n",
        "\n",
        "inputs = torch.from_numpy(inputs)\n",
        "targets = torch.from_numpy(targets)"
      ],
      "metadata": {
        "id": "sr7T8pZn6cGC"
      },
      "execution_count": 25,
      "outputs": []
    },
    {
      "cell_type": "code",
      "source": [
        "inputs"
      ],
      "metadata": {
        "colab": {
          "base_uri": "https://localhost:8080/"
        },
        "id": "QGUWwOQa7DGS",
        "outputId": "63cc107c-37da-4314-a13e-ef0419c498ef"
      },
      "execution_count": 26,
      "outputs": [
        {
          "output_type": "execute_result",
          "data": {
            "text/plain": [
              "tensor([[ 73.,  67.,  43.],\n",
              "        [ 91.,  88.,  64.],\n",
              "        [ 87., 134.,  58.],\n",
              "        [102.,  43.,  37.],\n",
              "        [ 69.,  96.,  70.],\n",
              "        [ 73.,  67.,  43.],\n",
              "        [ 91.,  88.,  64.],\n",
              "        [ 87., 134.,  58.],\n",
              "        [102.,  43.,  37.],\n",
              "        [ 69.,  96.,  70.],\n",
              "        [ 73.,  67.,  43.],\n",
              "        [ 91.,  88.,  64.],\n",
              "        [ 87., 134.,  58.],\n",
              "        [102.,  43.,  37.],\n",
              "        [ 69.,  96.,  70.]])"
            ]
          },
          "metadata": {},
          "execution_count": 26
        }
      ]
    },
    {
      "cell_type": "code",
      "source": [
        "targets"
      ],
      "metadata": {
        "colab": {
          "base_uri": "https://localhost:8080/"
        },
        "id": "Ac-gR-aw7O6s",
        "outputId": "f44f9523-1081-4a5d-ffc5-070bf080c5b7"
      },
      "execution_count": 27,
      "outputs": [
        {
          "output_type": "execute_result",
          "data": {
            "text/plain": [
              "tensor([[ 56.,  70.],\n",
              "        [ 81., 101.],\n",
              "        [119., 133.],\n",
              "        [ 22.,  37.],\n",
              "        [103., 119.],\n",
              "        [ 56.,  70.],\n",
              "        [ 81., 101.],\n",
              "        [119., 133.],\n",
              "        [ 22.,  37.],\n",
              "        [103., 119.],\n",
              "        [ 56.,  70.],\n",
              "        [ 81., 101.],\n",
              "        [119., 133.],\n",
              "        [ 22.,  37.],\n",
              "        [103., 119.]])"
            ]
          },
          "metadata": {},
          "execution_count": 27
        }
      ]
    },
    {
      "cell_type": "code",
      "source": [
        "# Import tensor dataset & data loader\n",
        "from torch.utils.data import TensorDataset, DataLoader"
      ],
      "metadata": {
        "id": "tLR-rRNq7Q-C"
      },
      "execution_count": 28,
      "outputs": []
    },
    {
      "cell_type": "code",
      "source": [
        "# Define dataset\n",
        "train_ds = TensorDataset(inputs, targets)\n",
        "train_ds[:]"
      ],
      "metadata": {
        "colab": {
          "base_uri": "https://localhost:8080/"
        },
        "id": "Ne4ROjzX7Udw",
        "outputId": "a291bc33-a4c0-4c85-d9a2-b6f42586dc43"
      },
      "execution_count": 29,
      "outputs": [
        {
          "output_type": "execute_result",
          "data": {
            "text/plain": [
              "(tensor([[ 73.,  67.,  43.],\n",
              "         [ 91.,  88.,  64.],\n",
              "         [ 87., 134.,  58.],\n",
              "         [102.,  43.,  37.],\n",
              "         [ 69.,  96.,  70.],\n",
              "         [ 73.,  67.,  43.],\n",
              "         [ 91.,  88.,  64.],\n",
              "         [ 87., 134.,  58.],\n",
              "         [102.,  43.,  37.],\n",
              "         [ 69.,  96.,  70.],\n",
              "         [ 73.,  67.,  43.],\n",
              "         [ 91.,  88.,  64.],\n",
              "         [ 87., 134.,  58.],\n",
              "         [102.,  43.,  37.],\n",
              "         [ 69.,  96.,  70.]]),\n",
              " tensor([[ 56.,  70.],\n",
              "         [ 81., 101.],\n",
              "         [119., 133.],\n",
              "         [ 22.,  37.],\n",
              "         [103., 119.],\n",
              "         [ 56.,  70.],\n",
              "         [ 81., 101.],\n",
              "         [119., 133.],\n",
              "         [ 22.,  37.],\n",
              "         [103., 119.],\n",
              "         [ 56.,  70.],\n",
              "         [ 81., 101.],\n",
              "         [119., 133.],\n",
              "         [ 22.,  37.],\n",
              "         [103., 119.]]))"
            ]
          },
          "metadata": {},
          "execution_count": 29
        }
      ]
    },
    {
      "cell_type": "code",
      "source": [
        "# Define data loader\n",
        "\n",
        "batch_size = 5\n",
        "train_dl = DataLoader(train_ds, batch_size, shuffle = True)\n",
        "\n",
        "for batch, (xb, yb) in enumerate(train_dl):\n",
        "    print(f'batch: {batch+1}')\n",
        "    print(xb)\n",
        "    print(yb)\n",
        "    print('='*40)"
      ],
      "metadata": {
        "colab": {
          "base_uri": "https://localhost:8080/"
        },
        "id": "uFm5BD6i7lB4",
        "outputId": "e2fd7519-03d5-4c25-9d35-44e09c81a5fa"
      },
      "execution_count": 30,
      "outputs": [
        {
          "output_type": "stream",
          "name": "stdout",
          "text": [
            "batch: 1\n",
            "tensor([[ 87., 134.,  58.],\n",
            "        [ 91.,  88.,  64.],\n",
            "        [ 87., 134.,  58.],\n",
            "        [ 73.,  67.,  43.],\n",
            "        [ 73.,  67.,  43.]])\n",
            "tensor([[119., 133.],\n",
            "        [ 81., 101.],\n",
            "        [119., 133.],\n",
            "        [ 56.,  70.],\n",
            "        [ 56.,  70.]])\n",
            "========================================\n",
            "batch: 2\n",
            "tensor([[ 91.,  88.,  64.],\n",
            "        [ 73.,  67.,  43.],\n",
            "        [ 91.,  88.,  64.],\n",
            "        [102.,  43.,  37.],\n",
            "        [102.,  43.,  37.]])\n",
            "tensor([[ 81., 101.],\n",
            "        [ 56.,  70.],\n",
            "        [ 81., 101.],\n",
            "        [ 22.,  37.],\n",
            "        [ 22.,  37.]])\n",
            "========================================\n",
            "batch: 3\n",
            "tensor([[ 87., 134.,  58.],\n",
            "        [ 69.,  96.,  70.],\n",
            "        [ 69.,  96.,  70.],\n",
            "        [102.,  43.,  37.],\n",
            "        [ 69.,  96.,  70.]])\n",
            "tensor([[119., 133.],\n",
            "        [103., 119.],\n",
            "        [103., 119.],\n",
            "        [ 22.,  37.],\n",
            "        [103., 119.]])\n",
            "========================================\n"
          ]
        }
      ]
    },
    {
      "cell_type": "code",
      "source": [
        "# Define model\n",
        "model = nn.Linear(3,2)\n",
        "print(model.weight)\n",
        "print(model.bias)"
      ],
      "metadata": {
        "colab": {
          "base_uri": "https://localhost:8080/"
        },
        "id": "6LagmDSK788f",
        "outputId": "59124eea-96cc-4228-9129-adc38883ad6e"
      },
      "execution_count": 31,
      "outputs": [
        {
          "output_type": "stream",
          "name": "stdout",
          "text": [
            "Parameter containing:\n",
            "tensor([[ 0.4791, -0.0181, -0.2319],\n",
            "        [-0.0141,  0.2823,  0.4930]], requires_grad=True)\n",
            "Parameter containing:\n",
            "tensor([0.4248, 0.1932], requires_grad=True)\n"
          ]
        }
      ]
    },
    {
      "cell_type": "code",
      "source": [
        "#Obtain Parameters\n",
        "list(model.parameters())"
      ],
      "metadata": {
        "colab": {
          "base_uri": "https://localhost:8080/"
        },
        "id": "45OPk35r9FhA",
        "outputId": "fea3d40a-5f33-48a2-d1bf-0599e6bd3729"
      },
      "execution_count": 32,
      "outputs": [
        {
          "output_type": "execute_result",
          "data": {
            "text/plain": [
              "[Parameter containing:\n",
              " tensor([[ 0.4791, -0.0181, -0.2319],\n",
              "         [-0.0141,  0.2823,  0.4930]], requires_grad=True),\n",
              " Parameter containing:\n",
              " tensor([0.4248, 0.1932], requires_grad=True)]"
            ]
          },
          "metadata": {},
          "execution_count": 32
        }
      ]
    },
    {
      "cell_type": "code",
      "source": [
        "# prediction\n",
        "\n",
        "preds = model(inputs)\n",
        "preds"
      ],
      "metadata": {
        "colab": {
          "base_uri": "https://localhost:8080/"
        },
        "id": "zCvqujG89bDs",
        "outputId": "23216e91-0e41-4f9c-b7e8-1eee43a6be96"
      },
      "execution_count": 33,
      "outputs": [
        {
          "output_type": "execute_result",
          "data": {
            "text/plain": [
              "tensor([[24.2143, 39.2791],\n",
              "        [27.5878, 55.3069],\n",
              "        [26.2296, 65.3934],\n",
              "        [39.9350, 29.1365],\n",
              "        [15.5108, 60.8334],\n",
              "        [24.2143, 39.2791],\n",
              "        [27.5878, 55.3069],\n",
              "        [26.2296, 65.3934],\n",
              "        [39.9350, 29.1365],\n",
              "        [15.5108, 60.8334],\n",
              "        [24.2143, 39.2791],\n",
              "        [27.5878, 55.3069],\n",
              "        [26.2296, 65.3934],\n",
              "        [39.9350, 29.1365],\n",
              "        [15.5108, 60.8334]], grad_fn=<AddmmBackward0>)"
            ]
          },
          "metadata": {},
          "execution_count": 33
        }
      ]
    },
    {
      "cell_type": "code",
      "source": [
        "# Loss \n",
        "\n",
        "# Import nn.functional\n",
        "import torch.nn.functional as F\n",
        "\n",
        "# Define loss function\n",
        "loss_fn = F.mse_loss\n",
        "\n",
        "# Calculate loss\n",
        "loss = loss_fn(model(inputs), targets)\n",
        "print(loss)"
      ],
      "metadata": {
        "colab": {
          "base_uri": "https://localhost:8080/"
        },
        "id": "j4lDRlJE9nG9",
        "outputId": "eed719f0-0cb5-47e2-9ca8-0f1da3e1ca02"
      },
      "execution_count": 34,
      "outputs": [
        {
          "output_type": "stream",
          "name": "stdout",
          "text": [
            "tensor(3149.3020, grad_fn=<MseLossBackward0>)\n"
          ]
        }
      ]
    },
    {
      "cell_type": "code",
      "source": [
        "# Optimizer\n",
        "opt = torch.optim.SGD(model.parameters(), lr=1e-5)"
      ],
      "metadata": {
        "id": "mpQP6AjO9_Eg"
      },
      "execution_count": 35,
      "outputs": []
    },
    {
      "cell_type": "code",
      "source": [
        "# Train the model\n",
        "\n",
        "def fit(num_epochs, model, loss_fn, opt, train_dl):\n",
        "    for epoch in range(num_epochs):\n",
        "        for xb, yb in train_dl:\n",
        "            pred = model(xb)\n",
        "            loss = loss_fn(pred, yb)\n",
        "            loss.backward()\n",
        "            opt.step()\n",
        "            opt.zero_grad()\n",
        "        if (epoch+1) % 10 == 0:\n",
        "            print(f'Epoch [{epoch+1}/{num_epochs}], Loss: {round(loss.item(), 3)} ,{xb} , {yb}')"
      ],
      "metadata": {
        "id": "Ogwqm1XZ-CfG"
      },
      "execution_count": 36,
      "outputs": []
    },
    {
      "cell_type": "code",
      "source": [
        "# Fit the model\n",
        "fit(250, model, loss_fn, opt, train_dl)"
      ],
      "metadata": {
        "colab": {
          "base_uri": "https://localhost:8080/"
        },
        "id": "gbiBSNHQ-MyZ",
        "outputId": "1cdda0fb-0061-4bd1-920f-6051c5eb7089"
      },
      "execution_count": 37,
      "outputs": [
        {
          "output_type": "stream",
          "name": "stdout",
          "text": [
            "Epoch [10/250], Loss: 386.094 ,tensor([[ 87., 134.,  58.],\n",
            "        [ 73.,  67.,  43.],\n",
            "        [ 91.,  88.,  64.],\n",
            "        [ 91.,  88.,  64.],\n",
            "        [102.,  43.,  37.]]) , tensor([[119., 133.],\n",
            "        [ 56.,  70.],\n",
            "        [ 81., 101.],\n",
            "        [ 81., 101.],\n",
            "        [ 22.,  37.]])\n",
            "Epoch [20/250], Loss: 259.276 ,tensor([[ 73.,  67.,  43.],\n",
            "        [ 87., 134.,  58.],\n",
            "        [102.,  43.,  37.],\n",
            "        [ 91.,  88.,  64.],\n",
            "        [ 91.,  88.,  64.]]) , tensor([[ 56.,  70.],\n",
            "        [119., 133.],\n",
            "        [ 22.,  37.],\n",
            "        [ 81., 101.],\n",
            "        [ 81., 101.]])\n",
            "Epoch [30/250], Loss: 111.029 ,tensor([[ 69.,  96.,  70.],\n",
            "        [ 87., 134.,  58.],\n",
            "        [ 73.,  67.,  43.],\n",
            "        [ 91.,  88.,  64.],\n",
            "        [ 87., 134.,  58.]]) , tensor([[103., 119.],\n",
            "        [119., 133.],\n",
            "        [ 56.,  70.],\n",
            "        [ 81., 101.],\n",
            "        [119., 133.]])\n",
            "Epoch [40/250], Loss: 162.297 ,tensor([[ 73.,  67.,  43.],\n",
            "        [ 87., 134.,  58.],\n",
            "        [102.,  43.,  37.],\n",
            "        [ 69.,  96.,  70.],\n",
            "        [ 91.,  88.,  64.]]) , tensor([[ 56.,  70.],\n",
            "        [119., 133.],\n",
            "        [ 22.,  37.],\n",
            "        [103., 119.],\n",
            "        [ 81., 101.]])\n",
            "Epoch [50/250], Loss: 188.348 ,tensor([[102.,  43.,  37.],\n",
            "        [ 87., 134.,  58.],\n",
            "        [ 91.,  88.,  64.],\n",
            "        [ 69.,  96.,  70.],\n",
            "        [102.,  43.,  37.]]) , tensor([[ 22.,  37.],\n",
            "        [119., 133.],\n",
            "        [ 81., 101.],\n",
            "        [103., 119.],\n",
            "        [ 22.,  37.]])\n",
            "Epoch [60/250], Loss: 133.925 ,tensor([[ 87., 134.,  58.],\n",
            "        [ 91.,  88.,  64.],\n",
            "        [ 69.,  96.,  70.],\n",
            "        [102.,  43.,  37.],\n",
            "        [102.,  43.,  37.]]) , tensor([[119., 133.],\n",
            "        [ 81., 101.],\n",
            "        [103., 119.],\n",
            "        [ 22.,  37.],\n",
            "        [ 22.,  37.]])\n",
            "Epoch [70/250], Loss: 80.436 ,tensor([[102.,  43.,  37.],\n",
            "        [ 73.,  67.,  43.],\n",
            "        [102.,  43.,  37.],\n",
            "        [ 87., 134.,  58.],\n",
            "        [ 87., 134.,  58.]]) , tensor([[ 22.,  37.],\n",
            "        [ 56.,  70.],\n",
            "        [ 22.,  37.],\n",
            "        [119., 133.],\n",
            "        [119., 133.]])\n",
            "Epoch [80/250], Loss: 4.593 ,tensor([[ 87., 134.,  58.],\n",
            "        [ 87., 134.,  58.],\n",
            "        [ 73.,  67.,  43.],\n",
            "        [ 91.,  88.,  64.],\n",
            "        [ 73.,  67.,  43.]]) , tensor([[119., 133.],\n",
            "        [119., 133.],\n",
            "        [ 56.,  70.],\n",
            "        [ 81., 101.],\n",
            "        [ 56.,  70.]])\n",
            "Epoch [90/250], Loss: 36.327 ,tensor([[ 87., 134.,  58.],\n",
            "        [ 69.,  96.,  70.],\n",
            "        [ 91.,  88.,  64.],\n",
            "        [ 91.,  88.,  64.],\n",
            "        [102.,  43.,  37.]]) , tensor([[119., 133.],\n",
            "        [103., 119.],\n",
            "        [ 81., 101.],\n",
            "        [ 81., 101.],\n",
            "        [ 22.,  37.]])\n",
            "Epoch [100/250], Loss: 45.72 ,tensor([[ 87., 134.,  58.],\n",
            "        [ 69.,  96.,  70.],\n",
            "        [ 87., 134.,  58.],\n",
            "        [102.,  43.,  37.],\n",
            "        [ 69.,  96.,  70.]]) , tensor([[119., 133.],\n",
            "        [103., 119.],\n",
            "        [119., 133.],\n",
            "        [ 22.,  37.],\n",
            "        [103., 119.]])\n",
            "Epoch [110/250], Loss: 17.307 ,tensor([[ 87., 134.,  58.],\n",
            "        [ 73.,  67.,  43.],\n",
            "        [ 87., 134.,  58.],\n",
            "        [ 69.,  96.,  70.],\n",
            "        [ 73.,  67.,  43.]]) , tensor([[119., 133.],\n",
            "        [ 56.,  70.],\n",
            "        [119., 133.],\n",
            "        [103., 119.],\n",
            "        [ 56.,  70.]])\n",
            "Epoch [120/250], Loss: 37.974 ,tensor([[ 91.,  88.,  64.],\n",
            "        [ 69.,  96.,  70.],\n",
            "        [102.,  43.,  37.],\n",
            "        [102.,  43.,  37.],\n",
            "        [ 69.,  96.,  70.]]) , tensor([[ 81., 101.],\n",
            "        [103., 119.],\n",
            "        [ 22.,  37.],\n",
            "        [ 22.,  37.],\n",
            "        [103., 119.]])\n",
            "Epoch [130/250], Loss: 28.438 ,tensor([[ 69.,  96.,  70.],\n",
            "        [ 73.,  67.,  43.],\n",
            "        [ 87., 134.,  58.],\n",
            "        [ 69.,  96.,  70.],\n",
            "        [102.,  43.,  37.]]) , tensor([[103., 119.],\n",
            "        [ 56.,  70.],\n",
            "        [119., 133.],\n",
            "        [103., 119.],\n",
            "        [ 22.,  37.]])\n",
            "Epoch [140/250], Loss: 21.537 ,tensor([[102.,  43.,  37.],\n",
            "        [ 69.,  96.,  70.],\n",
            "        [102.,  43.,  37.],\n",
            "        [102.,  43.,  37.],\n",
            "        [ 87., 134.,  58.]]) , tensor([[ 22.,  37.],\n",
            "        [103., 119.],\n",
            "        [ 22.,  37.],\n",
            "        [ 22.,  37.],\n",
            "        [119., 133.]])\n",
            "Epoch [150/250], Loss: 13.97 ,tensor([[ 69.,  96.,  70.],\n",
            "        [ 73.,  67.,  43.],\n",
            "        [ 87., 134.,  58.],\n",
            "        [ 87., 134.,  58.],\n",
            "        [ 91.,  88.,  64.]]) , tensor([[103., 119.],\n",
            "        [ 56.,  70.],\n",
            "        [119., 133.],\n",
            "        [119., 133.],\n",
            "        [ 81., 101.]])\n",
            "Epoch [160/250], Loss: 21.971 ,tensor([[ 69.,  96.,  70.],\n",
            "        [102.,  43.,  37.],\n",
            "        [ 87., 134.,  58.],\n",
            "        [ 69.,  96.,  70.],\n",
            "        [102.,  43.,  37.]]) , tensor([[103., 119.],\n",
            "        [ 22.,  37.],\n",
            "        [119., 133.],\n",
            "        [103., 119.],\n",
            "        [ 22.,  37.]])\n",
            "Epoch [170/250], Loss: 12.615 ,tensor([[102.,  43.,  37.],\n",
            "        [ 69.,  96.,  70.],\n",
            "        [ 91.,  88.,  64.],\n",
            "        [102.,  43.,  37.],\n",
            "        [ 87., 134.,  58.]]) , tensor([[ 22.,  37.],\n",
            "        [103., 119.],\n",
            "        [ 81., 101.],\n",
            "        [ 22.,  37.],\n",
            "        [119., 133.]])\n",
            "Epoch [180/250], Loss: 9.494 ,tensor([[ 73.,  67.,  43.],\n",
            "        [102.,  43.,  37.],\n",
            "        [ 69.,  96.,  70.],\n",
            "        [ 91.,  88.,  64.],\n",
            "        [102.,  43.,  37.]]) , tensor([[ 56.,  70.],\n",
            "        [ 22.,  37.],\n",
            "        [103., 119.],\n",
            "        [ 81., 101.],\n",
            "        [ 22.,  37.]])\n",
            "Epoch [190/250], Loss: 22.393 ,tensor([[ 73.,  67.,  43.],\n",
            "        [102.,  43.,  37.],\n",
            "        [ 69.,  96.,  70.],\n",
            "        [ 69.,  96.,  70.],\n",
            "        [ 69.,  96.,  70.]]) , tensor([[ 56.,  70.],\n",
            "        [ 22.,  37.],\n",
            "        [103., 119.],\n",
            "        [103., 119.],\n",
            "        [103., 119.]])\n",
            "Epoch [200/250], Loss: 15.153 ,tensor([[102.,  43.,  37.],\n",
            "        [ 69.,  96.,  70.],\n",
            "        [ 69.,  96.,  70.],\n",
            "        [ 73.,  67.,  43.],\n",
            "        [ 87., 134.,  58.]]) , tensor([[ 22.,  37.],\n",
            "        [103., 119.],\n",
            "        [103., 119.],\n",
            "        [ 56.,  70.],\n",
            "        [119., 133.]])\n",
            "Epoch [210/250], Loss: 8.936 ,tensor([[ 69.,  96.,  70.],\n",
            "        [ 87., 134.,  58.],\n",
            "        [ 73.,  67.,  43.],\n",
            "        [ 91.,  88.,  64.],\n",
            "        [102.,  43.,  37.]]) , tensor([[103., 119.],\n",
            "        [119., 133.],\n",
            "        [ 56.,  70.],\n",
            "        [ 81., 101.],\n",
            "        [ 22.,  37.]])\n",
            "Epoch [220/250], Loss: 14.285 ,tensor([[ 73.,  67.,  43.],\n",
            "        [ 87., 134.,  58.],\n",
            "        [ 87., 134.,  58.],\n",
            "        [ 87., 134.,  58.],\n",
            "        [ 69.,  96.,  70.]]) , tensor([[ 56.,  70.],\n",
            "        [119., 133.],\n",
            "        [119., 133.],\n",
            "        [119., 133.],\n",
            "        [103., 119.]])\n",
            "Epoch [230/250], Loss: 5.911 ,tensor([[ 73.,  67.,  43.],\n",
            "        [102.,  43.,  37.],\n",
            "        [ 73.,  67.,  43.],\n",
            "        [ 73.,  67.,  43.],\n",
            "        [ 69.,  96.,  70.]]) , tensor([[ 56.,  70.],\n",
            "        [ 22.,  37.],\n",
            "        [ 56.,  70.],\n",
            "        [ 56.,  70.],\n",
            "        [103., 119.]])\n",
            "Epoch [240/250], Loss: 7.254 ,tensor([[102.,  43.,  37.],\n",
            "        [ 73.,  67.,  43.],\n",
            "        [102.,  43.,  37.],\n",
            "        [ 87., 134.,  58.],\n",
            "        [ 87., 134.,  58.]]) , tensor([[ 22.,  37.],\n",
            "        [ 56.,  70.],\n",
            "        [ 22.,  37.],\n",
            "        [119., 133.],\n",
            "        [119., 133.]])\n",
            "Epoch [250/250], Loss: 11.173 ,tensor([[ 87., 134.,  58.],\n",
            "        [ 69.,  96.,  70.],\n",
            "        [102.,  43.,  37.],\n",
            "        [ 69.,  96.,  70.],\n",
            "        [ 73.,  67.,  43.]]) , tensor([[119., 133.],\n",
            "        [103., 119.],\n",
            "        [ 22.,  37.],\n",
            "        [103., 119.],\n",
            "        [ 56.,  70.]])\n"
          ]
        }
      ]
    },
    {
      "cell_type": "code",
      "source": [
        "preds = model(inputs)\n",
        "preds"
      ],
      "metadata": {
        "colab": {
          "base_uri": "https://localhost:8080/"
        },
        "id": "ybtHJV8s-XIv",
        "outputId": "1e63772b-ac14-4e4a-8cf0-7ac3cde73ead"
      },
      "execution_count": 38,
      "outputs": [
        {
          "output_type": "execute_result",
          "data": {
            "text/plain": [
              "tensor([[ 57.6700,  70.4921],\n",
              "        [ 79.9129,  99.8258],\n",
              "        [123.4807, 134.6409],\n",
              "        [ 23.0381,  37.7502],\n",
              "        [ 96.8433, 117.2741],\n",
              "        [ 57.6700,  70.4921],\n",
              "        [ 79.9129,  99.8258],\n",
              "        [123.4807, 134.6409],\n",
              "        [ 23.0381,  37.7502],\n",
              "        [ 96.8433, 117.2741],\n",
              "        [ 57.6700,  70.4921],\n",
              "        [ 79.9129,  99.8258],\n",
              "        [123.4807, 134.6409],\n",
              "        [ 23.0381,  37.7502],\n",
              "        [ 96.8433, 117.2741]], grad_fn=<AddmmBackward0>)"
            ]
          },
          "metadata": {},
          "execution_count": 38
        }
      ]
    },
    {
      "cell_type": "code",
      "source": [
        "targets"
      ],
      "metadata": {
        "colab": {
          "base_uri": "https://localhost:8080/"
        },
        "id": "RTVOwfWP-afM",
        "outputId": "8dde983c-86a2-42fe-9fc2-83546b9391d0"
      },
      "execution_count": 39,
      "outputs": [
        {
          "output_type": "execute_result",
          "data": {
            "text/plain": [
              "tensor([[ 56.,  70.],\n",
              "        [ 81., 101.],\n",
              "        [119., 133.],\n",
              "        [ 22.,  37.],\n",
              "        [103., 119.],\n",
              "        [ 56.,  70.],\n",
              "        [ 81., 101.],\n",
              "        [119., 133.],\n",
              "        [ 22.,  37.],\n",
              "        [103., 119.],\n",
              "        [ 56.,  70.],\n",
              "        [ 81., 101.],\n",
              "        [119., 133.],\n",
              "        [ 22.,  37.],\n",
              "        [103., 119.]])"
            ]
          },
          "metadata": {},
          "execution_count": 39
        }
      ]
    },
    {
      "cell_type": "code",
      "source": [
        "from sklearn.metrics import mean_squared_error\n",
        "print(mean_squared_error(targets.detach().numpy(),preds.detach().numpy()))"
      ],
      "metadata": {
        "colab": {
          "base_uri": "https://localhost:8080/"
        },
        "id": "8vezSVp2szER",
        "outputId": "fc938eb8-80a1-461f-9542-acb71faac936"
      },
      "execution_count": 40,
      "outputs": [
        {
          "output_type": "stream",
          "name": "stdout",
          "text": [
            "7.0885243\n"
          ]
        }
      ]
    },
    {
      "cell_type": "markdown",
      "source": [
        "\n",
        "\n",
        "---\n",
        "\n"
      ],
      "metadata": {
        "id": "zeqJQ4J90dIl"
      }
    },
    {
      "cell_type": "markdown",
      "source": [
        "## 4 Exercise 1.1\n",
        "1. Estimate the value of model parameters(weights and bias) and MSE Loss after training for\n",
        "1000 epochs.\n",
        "2. Take the learning rate value as 0.1 and train the model. Write in brief the impact of this\n",
        "learning rate on the model.\n",
        "3. Take the learning rate value as 0.0000001 and train the model. Write in brief the impact of\n",
        "this learning rate on the model.\n",
        "4. Plot a graph of the number of epochs vs the loss value of the model.\n",
        "5. Use the model to predict crop yield for apples if temperature is 70, Rain is 34 and Humidity\n",
        "is 45.\n",
        "6. Write in brief about the approach used in the model generation process."
      ],
      "metadata": {
        "id": "P9LnlOvNk6to"
      }
    },
    {
      "cell_type": "code",
      "source": [
        "# 1\n",
        "fit(1000, model, loss_fn, opt, train_dl)"
      ],
      "metadata": {
        "colab": {
          "base_uri": "https://localhost:8080/"
        },
        "id": "hNxDGoC8k5bv",
        "outputId": "9285ab40-6b09-48d0-9919-3ebfd2498de8"
      },
      "execution_count": 41,
      "outputs": [
        {
          "output_type": "stream",
          "name": "stdout",
          "text": [
            "Epoch [10/1000], Loss: 5.623 ,tensor([[ 87., 134.,  58.],\n",
            "        [102.,  43.,  37.],\n",
            "        [ 91.,  88.,  64.],\n",
            "        [ 87., 134.,  58.],\n",
            "        [ 91.,  88.,  64.]]) , tensor([[119., 133.],\n",
            "        [ 22.,  37.],\n",
            "        [ 81., 101.],\n",
            "        [119., 133.],\n",
            "        [ 81., 101.]])\n",
            "Epoch [20/1000], Loss: 11.864 ,tensor([[ 87., 134.,  58.],\n",
            "        [ 87., 134.,  58.],\n",
            "        [ 69.,  96.,  70.],\n",
            "        [ 69.,  96.,  70.],\n",
            "        [ 91.,  88.,  64.]]) , tensor([[119., 133.],\n",
            "        [119., 133.],\n",
            "        [103., 119.],\n",
            "        [103., 119.],\n",
            "        [ 81., 101.]])\n",
            "Epoch [30/1000], Loss: 8.896 ,tensor([[91., 88., 64.],\n",
            "        [91., 88., 64.],\n",
            "        [69., 96., 70.],\n",
            "        [69., 96., 70.],\n",
            "        [73., 67., 43.]]) , tensor([[ 81., 101.],\n",
            "        [ 81., 101.],\n",
            "        [103., 119.],\n",
            "        [103., 119.],\n",
            "        [ 56.,  70.]])\n",
            "Epoch [40/1000], Loss: 5.263 ,tensor([[ 87., 134.,  58.],\n",
            "        [ 73.,  67.,  43.],\n",
            "        [ 91.,  88.,  64.],\n",
            "        [102.,  43.,  37.],\n",
            "        [ 87., 134.,  58.]]) , tensor([[119., 133.],\n",
            "        [ 56.,  70.],\n",
            "        [ 81., 101.],\n",
            "        [ 22.,  37.],\n",
            "        [119., 133.]])\n",
            "Epoch [50/1000], Loss: 5.443 ,tensor([[ 73.,  67.,  43.],\n",
            "        [ 87., 134.,  58.],\n",
            "        [ 69.,  96.,  70.],\n",
            "        [ 91.,  88.,  64.],\n",
            "        [102.,  43.,  37.]]) , tensor([[ 56.,  70.],\n",
            "        [119., 133.],\n",
            "        [103., 119.],\n",
            "        [ 81., 101.],\n",
            "        [ 22.,  37.]])\n",
            "Epoch [60/1000], Loss: 3.664 ,tensor([[102.,  43.,  37.],\n",
            "        [ 73.,  67.,  43.],\n",
            "        [ 69.,  96.,  70.],\n",
            "        [102.,  43.,  37.],\n",
            "        [ 73.,  67.,  43.]]) , tensor([[ 22.,  37.],\n",
            "        [ 56.,  70.],\n",
            "        [103., 119.],\n",
            "        [ 22.,  37.],\n",
            "        [ 56.,  70.]])\n",
            "Epoch [70/1000], Loss: 7.024 ,tensor([[73., 67., 43.],\n",
            "        [69., 96., 70.],\n",
            "        [73., 67., 43.],\n",
            "        [69., 96., 70.],\n",
            "        [91., 88., 64.]]) , tensor([[ 56.,  70.],\n",
            "        [103., 119.],\n",
            "        [ 56.,  70.],\n",
            "        [103., 119.],\n",
            "        [ 81., 101.]])\n",
            "Epoch [80/1000], Loss: 7.041 ,tensor([[ 69.,  96.,  70.],\n",
            "        [ 91.,  88.,  64.],\n",
            "        [102.,  43.,  37.],\n",
            "        [ 69.,  96.,  70.],\n",
            "        [ 91.,  88.,  64.]]) , tensor([[103., 119.],\n",
            "        [ 81., 101.],\n",
            "        [ 22.,  37.],\n",
            "        [103., 119.],\n",
            "        [ 81., 101.]])\n",
            "Epoch [90/1000], Loss: 3.16 ,tensor([[ 73.,  67.,  43.],\n",
            "        [102.,  43.,  37.],\n",
            "        [ 69.,  96.,  70.],\n",
            "        [ 73.,  67.,  43.],\n",
            "        [102.,  43.,  37.]]) , tensor([[ 56.,  70.],\n",
            "        [ 22.,  37.],\n",
            "        [103., 119.],\n",
            "        [ 56.,  70.],\n",
            "        [ 22.,  37.]])\n",
            "Epoch [100/1000], Loss: 4.223 ,tensor([[102.,  43.,  37.],\n",
            "        [ 87., 134.,  58.],\n",
            "        [ 91.,  88.,  64.],\n",
            "        [ 73.,  67.,  43.],\n",
            "        [ 69.,  96.,  70.]]) , tensor([[ 22.,  37.],\n",
            "        [119., 133.],\n",
            "        [ 81., 101.],\n",
            "        [ 56.,  70.],\n",
            "        [103., 119.]])\n",
            "Epoch [110/1000], Loss: 6.447 ,tensor([[ 73.,  67.,  43.],\n",
            "        [ 69.,  96.,  70.],\n",
            "        [ 69.,  96.,  70.],\n",
            "        [102.,  43.,  37.],\n",
            "        [ 87., 134.,  58.]]) , tensor([[ 56.,  70.],\n",
            "        [103., 119.],\n",
            "        [103., 119.],\n",
            "        [ 22.,  37.],\n",
            "        [119., 133.]])\n",
            "Epoch [120/1000], Loss: 4.811 ,tensor([[ 87., 134.,  58.],\n",
            "        [102.,  43.,  37.],\n",
            "        [102.,  43.,  37.],\n",
            "        [ 69.,  96.,  70.],\n",
            "        [ 87., 134.,  58.]]) , tensor([[119., 133.],\n",
            "        [ 22.,  37.],\n",
            "        [ 22.,  37.],\n",
            "        [103., 119.],\n",
            "        [119., 133.]])\n",
            "Epoch [130/1000], Loss: 1.534 ,tensor([[ 91.,  88.,  64.],\n",
            "        [102.,  43.,  37.],\n",
            "        [102.,  43.,  37.],\n",
            "        [ 73.,  67.,  43.],\n",
            "        [ 87., 134.,  58.]]) , tensor([[ 81., 101.],\n",
            "        [ 22.,  37.],\n",
            "        [ 22.,  37.],\n",
            "        [ 56.,  70.],\n",
            "        [119., 133.]])\n",
            "Epoch [140/1000], Loss: 3.576 ,tensor([[ 87., 134.,  58.],\n",
            "        [ 73.,  67.,  43.],\n",
            "        [ 91.,  88.,  64.],\n",
            "        [ 69.,  96.,  70.],\n",
            "        [ 91.,  88.,  64.]]) , tensor([[119., 133.],\n",
            "        [ 56.,  70.],\n",
            "        [ 81., 101.],\n",
            "        [103., 119.],\n",
            "        [ 81., 101.]])\n",
            "Epoch [150/1000], Loss: 3.399 ,tensor([[ 91.,  88.,  64.],\n",
            "        [ 73.,  67.,  43.],\n",
            "        [ 87., 134.,  58.],\n",
            "        [ 91.,  88.,  64.],\n",
            "        [ 69.,  96.,  70.]]) , tensor([[ 81., 101.],\n",
            "        [ 56.,  70.],\n",
            "        [119., 133.],\n",
            "        [ 81., 101.],\n",
            "        [103., 119.]])\n",
            "Epoch [160/1000], Loss: 3.373 ,tensor([[ 73.,  67.,  43.],\n",
            "        [ 73.,  67.,  43.],\n",
            "        [ 87., 134.,  58.],\n",
            "        [ 69.,  96.,  70.],\n",
            "        [ 91.,  88.,  64.]]) , tensor([[ 56.,  70.],\n",
            "        [ 56.,  70.],\n",
            "        [119., 133.],\n",
            "        [103., 119.],\n",
            "        [ 81., 101.]])\n",
            "Epoch [170/1000], Loss: 4.387 ,tensor([[102.,  43.,  37.],\n",
            "        [ 69.,  96.,  70.],\n",
            "        [ 73.,  67.,  43.],\n",
            "        [ 91.,  88.,  64.],\n",
            "        [ 69.,  96.,  70.]]) , tensor([[ 22.,  37.],\n",
            "        [103., 119.],\n",
            "        [ 56.,  70.],\n",
            "        [ 81., 101.],\n",
            "        [103., 119.]])\n",
            "Epoch [180/1000], Loss: 4.824 ,tensor([[ 73.,  67.,  43.],\n",
            "        [ 87., 134.,  58.],\n",
            "        [ 69.,  96.,  70.],\n",
            "        [ 69.,  96.,  70.],\n",
            "        [ 91.,  88.,  64.]]) , tensor([[ 56.,  70.],\n",
            "        [119., 133.],\n",
            "        [103., 119.],\n",
            "        [103., 119.],\n",
            "        [ 81., 101.]])\n",
            "Epoch [190/1000], Loss: 4.565 ,tensor([[ 87., 134.,  58.],\n",
            "        [ 73.,  67.,  43.],\n",
            "        [ 69.,  96.,  70.],\n",
            "        [ 91.,  88.,  64.],\n",
            "        [ 69.,  96.,  70.]]) , tensor([[119., 133.],\n",
            "        [ 56.,  70.],\n",
            "        [103., 119.],\n",
            "        [ 81., 101.],\n",
            "        [103., 119.]])\n",
            "Epoch [200/1000], Loss: 2.342 ,tensor([[73., 67., 43.],\n",
            "        [73., 67., 43.],\n",
            "        [91., 88., 64.],\n",
            "        [73., 67., 43.],\n",
            "        [69., 96., 70.]]) , tensor([[ 56.,  70.],\n",
            "        [ 56.,  70.],\n",
            "        [ 81., 101.],\n",
            "        [ 56.,  70.],\n",
            "        [103., 119.]])\n",
            "Epoch [210/1000], Loss: 3.17 ,tensor([[ 87., 134.,  58.],\n",
            "        [ 73.,  67.,  43.],\n",
            "        [102.,  43.,  37.],\n",
            "        [ 87., 134.,  58.],\n",
            "        [ 69.,  96.,  70.]]) , tensor([[119., 133.],\n",
            "        [ 56.,  70.],\n",
            "        [ 22.,  37.],\n",
            "        [119., 133.],\n",
            "        [103., 119.]])\n",
            "Epoch [220/1000], Loss: 1.012 ,tensor([[102.,  43.,  37.],\n",
            "        [ 73.,  67.,  43.],\n",
            "        [102.,  43.,  37.],\n",
            "        [ 91.,  88.,  64.],\n",
            "        [ 87., 134.,  58.]]) , tensor([[ 22.,  37.],\n",
            "        [ 56.,  70.],\n",
            "        [ 22.,  37.],\n",
            "        [ 81., 101.],\n",
            "        [119., 133.]])\n",
            "Epoch [230/1000], Loss: 2.239 ,tensor([[ 87., 134.,  58.],\n",
            "        [ 69.,  96.,  70.],\n",
            "        [ 91.,  88.,  64.],\n",
            "        [ 91.,  88.,  64.],\n",
            "        [ 91.,  88.,  64.]]) , tensor([[119., 133.],\n",
            "        [103., 119.],\n",
            "        [ 81., 101.],\n",
            "        [ 81., 101.],\n",
            "        [ 81., 101.]])\n",
            "Epoch [240/1000], Loss: 2.255 ,tensor([[ 73.,  67.,  43.],\n",
            "        [ 91.,  88.,  64.],\n",
            "        [ 87., 134.,  58.],\n",
            "        [ 91.,  88.,  64.],\n",
            "        [ 69.,  96.,  70.]]) , tensor([[ 56.,  70.],\n",
            "        [ 81., 101.],\n",
            "        [119., 133.],\n",
            "        [ 81., 101.],\n",
            "        [103., 119.]])\n",
            "Epoch [250/1000], Loss: 3.728 ,tensor([[ 69.,  96.,  70.],\n",
            "        [ 91.,  88.,  64.],\n",
            "        [ 87., 134.,  58.],\n",
            "        [ 87., 134.,  58.],\n",
            "        [ 69.,  96.,  70.]]) , tensor([[103., 119.],\n",
            "        [ 81., 101.],\n",
            "        [119., 133.],\n",
            "        [119., 133.],\n",
            "        [103., 119.]])\n",
            "Epoch [260/1000], Loss: 2.897 ,tensor([[ 87., 134.,  58.],\n",
            "        [102.,  43.,  37.],\n",
            "        [ 87., 134.,  58.],\n",
            "        [ 87., 134.,  58.],\n",
            "        [ 69.,  96.,  70.]]) , tensor([[119., 133.],\n",
            "        [ 22.,  37.],\n",
            "        [119., 133.],\n",
            "        [119., 133.],\n",
            "        [103., 119.]])\n",
            "Epoch [270/1000], Loss: 1.984 ,tensor([[ 91.,  88.,  64.],\n",
            "        [ 69.,  96.,  70.],\n",
            "        [ 73.,  67.,  43.],\n",
            "        [ 87., 134.,  58.],\n",
            "        [ 91.,  88.,  64.]]) , tensor([[ 81., 101.],\n",
            "        [103., 119.],\n",
            "        [ 56.,  70.],\n",
            "        [119., 133.],\n",
            "        [ 81., 101.]])\n",
            "Epoch [280/1000], Loss: 1.726 ,tensor([[ 69.,  96.,  70.],\n",
            "        [ 91.,  88.,  64.],\n",
            "        [ 91.,  88.,  64.],\n",
            "        [ 87., 134.,  58.],\n",
            "        [102.,  43.,  37.]]) , tensor([[103., 119.],\n",
            "        [ 81., 101.],\n",
            "        [ 81., 101.],\n",
            "        [119., 133.],\n",
            "        [ 22.,  37.]])\n",
            "Epoch [290/1000], Loss: 2.011 ,tensor([[ 69.,  96.,  70.],\n",
            "        [102.,  43.,  37.],\n",
            "        [ 87., 134.,  58.],\n",
            "        [ 91.,  88.,  64.],\n",
            "        [ 87., 134.,  58.]]) , tensor([[103., 119.],\n",
            "        [ 22.,  37.],\n",
            "        [119., 133.],\n",
            "        [ 81., 101.],\n",
            "        [119., 133.]])\n",
            "Epoch [300/1000], Loss: 1.233 ,tensor([[ 87., 134.,  58.],\n",
            "        [ 87., 134.,  58.],\n",
            "        [ 73.,  67.,  43.],\n",
            "        [102.,  43.,  37.],\n",
            "        [102.,  43.,  37.]]) , tensor([[119., 133.],\n",
            "        [119., 133.],\n",
            "        [ 56.,  70.],\n",
            "        [ 22.,  37.],\n",
            "        [ 22.,  37.]])\n",
            "Epoch [310/1000], Loss: 1.513 ,tensor([[ 91.,  88.,  64.],\n",
            "        [102.,  43.,  37.],\n",
            "        [ 69.,  96.,  70.],\n",
            "        [ 87., 134.,  58.],\n",
            "        [ 91.,  88.,  64.]]) , tensor([[ 81., 101.],\n",
            "        [ 22.,  37.],\n",
            "        [103., 119.],\n",
            "        [119., 133.],\n",
            "        [ 81., 101.]])\n",
            "Epoch [320/1000], Loss: 0.949 ,tensor([[ 87., 134.,  58.],\n",
            "        [102.,  43.,  37.],\n",
            "        [ 91.,  88.,  64.],\n",
            "        [ 73.,  67.,  43.],\n",
            "        [ 73.,  67.,  43.]]) , tensor([[119., 133.],\n",
            "        [ 22.,  37.],\n",
            "        [ 81., 101.],\n",
            "        [ 56.,  70.],\n",
            "        [ 56.,  70.]])\n",
            "Epoch [330/1000], Loss: 2.451 ,tensor([[ 69.,  96.,  70.],\n",
            "        [ 73.,  67.,  43.],\n",
            "        [102.,  43.,  37.],\n",
            "        [ 87., 134.,  58.],\n",
            "        [ 69.,  96.,  70.]]) , tensor([[103., 119.],\n",
            "        [ 56.,  70.],\n",
            "        [ 22.,  37.],\n",
            "        [119., 133.],\n",
            "        [103., 119.]])\n",
            "Epoch [340/1000], Loss: 1.337 ,tensor([[ 69.,  96.,  70.],\n",
            "        [ 91.,  88.,  64.],\n",
            "        [ 87., 134.,  58.],\n",
            "        [ 91.,  88.,  64.],\n",
            "        [102.,  43.,  37.]]) , tensor([[103., 119.],\n",
            "        [ 81., 101.],\n",
            "        [119., 133.],\n",
            "        [ 81., 101.],\n",
            "        [ 22.,  37.]])\n",
            "Epoch [350/1000], Loss: 0.671 ,tensor([[ 87., 134.,  58.],\n",
            "        [ 91.,  88.,  64.],\n",
            "        [ 73.,  67.,  43.],\n",
            "        [102.,  43.,  37.],\n",
            "        [ 91.,  88.,  64.]]) , tensor([[119., 133.],\n",
            "        [ 81., 101.],\n",
            "        [ 56.,  70.],\n",
            "        [ 22.,  37.],\n",
            "        [ 81., 101.]])\n",
            "Epoch [360/1000], Loss: 2.147 ,tensor([[ 69.,  96.,  70.],\n",
            "        [ 91.,  88.,  64.],\n",
            "        [ 91.,  88.,  64.],\n",
            "        [ 87., 134.,  58.],\n",
            "        [ 69.,  96.,  70.]]) , tensor([[103., 119.],\n",
            "        [ 81., 101.],\n",
            "        [ 81., 101.],\n",
            "        [119., 133.],\n",
            "        [103., 119.]])\n",
            "Epoch [370/1000], Loss: 0.548 ,tensor([[ 91.,  88.,  64.],\n",
            "        [ 91.,  88.,  64.],\n",
            "        [ 73.,  67.,  43.],\n",
            "        [ 73.,  67.,  43.],\n",
            "        [102.,  43.,  37.]]) , tensor([[ 81., 101.],\n",
            "        [ 81., 101.],\n",
            "        [ 56.,  70.],\n",
            "        [ 56.,  70.],\n",
            "        [ 22.,  37.]])\n",
            "Epoch [380/1000], Loss: 0.864 ,tensor([[ 87., 134.,  58.],\n",
            "        [ 91.,  88.,  64.],\n",
            "        [ 73.,  67.,  43.],\n",
            "        [ 87., 134.,  58.],\n",
            "        [102.,  43.,  37.]]) , tensor([[119., 133.],\n",
            "        [ 81., 101.],\n",
            "        [ 56.,  70.],\n",
            "        [119., 133.],\n",
            "        [ 22.,  37.]])\n",
            "Epoch [390/1000], Loss: 2.006 ,tensor([[ 87., 134.,  58.],\n",
            "        [ 69.,  96.,  70.],\n",
            "        [ 69.,  96.,  70.],\n",
            "        [ 73.,  67.,  43.],\n",
            "        [102.,  43.,  37.]]) , tensor([[119., 133.],\n",
            "        [103., 119.],\n",
            "        [103., 119.],\n",
            "        [ 56.,  70.],\n",
            "        [ 22.,  37.]])\n",
            "Epoch [400/1000], Loss: 2.802 ,tensor([[ 69.,  96.,  70.],\n",
            "        [ 69.,  96.,  70.],\n",
            "        [ 73.,  67.,  43.],\n",
            "        [ 87., 134.,  58.],\n",
            "        [ 69.,  96.,  70.]]) , tensor([[103., 119.],\n",
            "        [103., 119.],\n",
            "        [ 56.,  70.],\n",
            "        [119., 133.],\n",
            "        [103., 119.]])\n",
            "Epoch [410/1000], Loss: 1.288 ,tensor([[ 87., 134.,  58.],\n",
            "        [ 69.,  96.,  70.],\n",
            "        [ 87., 134.,  58.],\n",
            "        [102.,  43.,  37.],\n",
            "        [ 73.,  67.,  43.]]) , tensor([[119., 133.],\n",
            "        [103., 119.],\n",
            "        [119., 133.],\n",
            "        [ 22.,  37.],\n",
            "        [ 56.,  70.]])\n",
            "Epoch [420/1000], Loss: 1.716 ,tensor([[102.,  43.,  37.],\n",
            "        [102.,  43.,  37.],\n",
            "        [ 69.,  96.,  70.],\n",
            "        [ 69.,  96.,  70.],\n",
            "        [ 91.,  88.,  64.]]) , tensor([[ 22.,  37.],\n",
            "        [ 22.,  37.],\n",
            "        [103., 119.],\n",
            "        [103., 119.],\n",
            "        [ 81., 101.]])\n",
            "Epoch [430/1000], Loss: 1.236 ,tensor([[ 69.,  96.,  70.],\n",
            "        [ 73.,  67.,  43.],\n",
            "        [ 73.,  67.,  43.],\n",
            "        [ 87., 134.,  58.],\n",
            "        [102.,  43.,  37.]]) , tensor([[103., 119.],\n",
            "        [ 56.,  70.],\n",
            "        [ 56.,  70.],\n",
            "        [119., 133.],\n",
            "        [ 22.,  37.]])\n",
            "Epoch [440/1000], Loss: 0.435 ,tensor([[ 73.,  67.,  43.],\n",
            "        [ 91.,  88.,  64.],\n",
            "        [ 91.,  88.,  64.],\n",
            "        [ 91.,  88.,  64.],\n",
            "        [102.,  43.,  37.]]) , tensor([[ 56.,  70.],\n",
            "        [ 81., 101.],\n",
            "        [ 81., 101.],\n",
            "        [ 81., 101.],\n",
            "        [ 22.,  37.]])\n",
            "Epoch [450/1000], Loss: 1.068 ,tensor([[ 91.,  88.,  64.],\n",
            "        [ 87., 134.,  58.],\n",
            "        [ 69.,  96.,  70.],\n",
            "        [ 91.,  88.,  64.],\n",
            "        [ 73.,  67.,  43.]]) , tensor([[ 81., 101.],\n",
            "        [119., 133.],\n",
            "        [103., 119.],\n",
            "        [ 81., 101.],\n",
            "        [ 56.,  70.]])\n",
            "Epoch [460/1000], Loss: 1.002 ,tensor([[102.,  43.,  37.],\n",
            "        [ 69.,  96.,  70.],\n",
            "        [ 73.,  67.,  43.],\n",
            "        [ 91.,  88.,  64.],\n",
            "        [ 87., 134.,  58.]]) , tensor([[ 22.,  37.],\n",
            "        [103., 119.],\n",
            "        [ 56.,  70.],\n",
            "        [ 81., 101.],\n",
            "        [119., 133.]])\n",
            "Epoch [470/1000], Loss: 1.487 ,tensor([[ 91.,  88.,  64.],\n",
            "        [ 87., 134.,  58.],\n",
            "        [ 69.,  96.,  70.],\n",
            "        [ 69.,  96.,  70.],\n",
            "        [102.,  43.,  37.]]) , tensor([[ 81., 101.],\n",
            "        [119., 133.],\n",
            "        [103., 119.],\n",
            "        [103., 119.],\n",
            "        [ 22.,  37.]])\n",
            "Epoch [480/1000], Loss: 1.03 ,tensor([[ 73.,  67.,  43.],\n",
            "        [ 69.,  96.,  70.],\n",
            "        [ 91.,  88.,  64.],\n",
            "        [102.,  43.,  37.],\n",
            "        [ 73.,  67.,  43.]]) , tensor([[ 56.,  70.],\n",
            "        [103., 119.],\n",
            "        [ 81., 101.],\n",
            "        [ 22.,  37.],\n",
            "        [ 56.,  70.]])\n",
            "Epoch [490/1000], Loss: 0.46 ,tensor([[ 91.,  88.,  64.],\n",
            "        [ 87., 134.,  58.],\n",
            "        [ 73.,  67.,  43.],\n",
            "        [102.,  43.,  37.],\n",
            "        [102.,  43.,  37.]]) , tensor([[ 81., 101.],\n",
            "        [119., 133.],\n",
            "        [ 56.,  70.],\n",
            "        [ 22.,  37.],\n",
            "        [ 22.,  37.]])\n",
            "Epoch [500/1000], Loss: 0.884 ,tensor([[102.,  43.,  37.],\n",
            "        [ 91.,  88.,  64.],\n",
            "        [ 73.,  67.,  43.],\n",
            "        [ 69.,  96.,  70.],\n",
            "        [ 91.,  88.,  64.]]) , tensor([[ 22.,  37.],\n",
            "        [ 81., 101.],\n",
            "        [ 56.,  70.],\n",
            "        [103., 119.],\n",
            "        [ 81., 101.]])\n",
            "Epoch [510/1000], Loss: 0.562 ,tensor([[102.,  43.,  37.],\n",
            "        [ 73.,  67.,  43.],\n",
            "        [ 87., 134.,  58.],\n",
            "        [ 73.,  67.,  43.],\n",
            "        [102.,  43.,  37.]]) , tensor([[ 22.,  37.],\n",
            "        [ 56.,  70.],\n",
            "        [119., 133.],\n",
            "        [ 56.,  70.],\n",
            "        [ 22.,  37.]])\n",
            "Epoch [520/1000], Loss: 0.929 ,tensor([[ 91.,  88.,  64.],\n",
            "        [ 87., 134.,  58.],\n",
            "        [ 87., 134.,  58.],\n",
            "        [ 73.,  67.,  43.],\n",
            "        [ 69.,  96.,  70.]]) , tensor([[ 81., 101.],\n",
            "        [119., 133.],\n",
            "        [119., 133.],\n",
            "        [ 56.,  70.],\n",
            "        [103., 119.]])\n",
            "Epoch [530/1000], Loss: 1.302 ,tensor([[ 87., 134.,  58.],\n",
            "        [ 69.,  96.,  70.],\n",
            "        [ 73.,  67.,  43.],\n",
            "        [ 69.,  96.,  70.],\n",
            "        [102.,  43.,  37.]]) , tensor([[119., 133.],\n",
            "        [103., 119.],\n",
            "        [ 56.,  70.],\n",
            "        [103., 119.],\n",
            "        [ 22.,  37.]])\n",
            "Epoch [540/1000], Loss: 1.299 ,tensor([[102.,  43.,  37.],\n",
            "        [ 69.,  96.,  70.],\n",
            "        [ 73.,  67.,  43.],\n",
            "        [ 91.,  88.,  64.],\n",
            "        [ 69.,  96.,  70.]]) , tensor([[ 22.,  37.],\n",
            "        [103., 119.],\n",
            "        [ 56.,  70.],\n",
            "        [ 81., 101.],\n",
            "        [103., 119.]])\n",
            "Epoch [550/1000], Loss: 0.811 ,tensor([[ 87., 134.,  58.],\n",
            "        [102.,  43.,  37.],\n",
            "        [ 69.,  96.,  70.],\n",
            "        [ 87., 134.,  58.],\n",
            "        [ 73.,  67.,  43.]]) , tensor([[119., 133.],\n",
            "        [ 22.,  37.],\n",
            "        [103., 119.],\n",
            "        [119., 133.],\n",
            "        [ 56.,  70.]])\n",
            "Epoch [560/1000], Loss: 0.492 ,tensor([[102.,  43.,  37.],\n",
            "        [ 87., 134.,  58.],\n",
            "        [ 73.,  67.,  43.],\n",
            "        [ 87., 134.,  58.],\n",
            "        [ 91.,  88.,  64.]]) , tensor([[ 22.,  37.],\n",
            "        [119., 133.],\n",
            "        [ 56.,  70.],\n",
            "        [119., 133.],\n",
            "        [ 81., 101.]])\n",
            "Epoch [570/1000], Loss: 0.413 ,tensor([[ 91.,  88.,  64.],\n",
            "        [102.,  43.,  37.],\n",
            "        [ 73.,  67.,  43.],\n",
            "        [ 87., 134.,  58.],\n",
            "        [102.,  43.,  37.]]) , tensor([[ 81., 101.],\n",
            "        [ 22.,  37.],\n",
            "        [ 56.,  70.],\n",
            "        [119., 133.],\n",
            "        [ 22.,  37.]])\n",
            "Epoch [580/1000], Loss: 0.798 ,tensor([[ 91.,  88.,  64.],\n",
            "        [ 69.,  96.,  70.],\n",
            "        [ 91.,  88.,  64.],\n",
            "        [102.,  43.,  37.],\n",
            "        [ 73.,  67.,  43.]]) , tensor([[ 81., 101.],\n",
            "        [103., 119.],\n",
            "        [ 81., 101.],\n",
            "        [ 22.,  37.],\n",
            "        [ 56.,  70.]])\n",
            "Epoch [590/1000], Loss: 0.752 ,tensor([[ 69.,  96.,  70.],\n",
            "        [ 87., 134.,  58.],\n",
            "        [ 91.,  88.,  64.],\n",
            "        [102.,  43.,  37.],\n",
            "        [ 73.,  67.,  43.]]) , tensor([[103., 119.],\n",
            "        [119., 133.],\n",
            "        [ 81., 101.],\n",
            "        [ 22.,  37.],\n",
            "        [ 56.,  70.]])\n",
            "Epoch [600/1000], Loss: 0.715 ,tensor([[ 69.,  96.,  70.],\n",
            "        [102.,  43.,  37.],\n",
            "        [ 87., 134.,  58.],\n",
            "        [ 73.,  67.,  43.],\n",
            "        [102.,  43.,  37.]]) , tensor([[103., 119.],\n",
            "        [ 22.,  37.],\n",
            "        [119., 133.],\n",
            "        [ 56.,  70.],\n",
            "        [ 22.,  37.]])\n",
            "Epoch [610/1000], Loss: 0.632 ,tensor([[102.,  43.,  37.],\n",
            "        [ 69.,  96.,  70.],\n",
            "        [ 87., 134.,  58.],\n",
            "        [ 91.,  88.,  64.],\n",
            "        [ 91.,  88.,  64.]]) , tensor([[ 22.,  37.],\n",
            "        [103., 119.],\n",
            "        [119., 133.],\n",
            "        [ 81., 101.],\n",
            "        [ 81., 101.]])\n",
            "Epoch [620/1000], Loss: 0.575 ,tensor([[ 73.,  67.,  43.],\n",
            "        [ 91.,  88.,  64.],\n",
            "        [ 87., 134.,  58.],\n",
            "        [ 91.,  88.,  64.],\n",
            "        [ 91.,  88.,  64.]]) , tensor([[ 56.,  70.],\n",
            "        [ 81., 101.],\n",
            "        [119., 133.],\n",
            "        [ 81., 101.],\n",
            "        [ 81., 101.]])\n",
            "Epoch [630/1000], Loss: 0.85 ,tensor([[ 91.,  88.,  64.],\n",
            "        [102.,  43.,  37.],\n",
            "        [ 73.,  67.,  43.],\n",
            "        [ 69.,  96.,  70.],\n",
            "        [ 73.,  67.,  43.]]) , tensor([[ 81., 101.],\n",
            "        [ 22.,  37.],\n",
            "        [ 56.,  70.],\n",
            "        [103., 119.],\n",
            "        [ 56.,  70.]])\n",
            "Epoch [640/1000], Loss: 0.536 ,tensor([[102.,  43.,  37.],\n",
            "        [ 87., 134.,  58.],\n",
            "        [102.,  43.,  37.],\n",
            "        [ 87., 134.,  58.],\n",
            "        [ 69.,  96.,  70.]]) , tensor([[ 22.,  37.],\n",
            "        [119., 133.],\n",
            "        [ 22.,  37.],\n",
            "        [119., 133.],\n",
            "        [103., 119.]])\n",
            "Epoch [650/1000], Loss: 0.733 ,tensor([[ 91.,  88.,  64.],\n",
            "        [ 73.,  67.,  43.],\n",
            "        [ 91.,  88.,  64.],\n",
            "        [ 69.,  96.,  70.],\n",
            "        [ 87., 134.,  58.]]) , tensor([[ 81., 101.],\n",
            "        [ 56.,  70.],\n",
            "        [ 81., 101.],\n",
            "        [103., 119.],\n",
            "        [119., 133.]])\n",
            "Epoch [660/1000], Loss: 0.498 ,tensor([[ 87., 134.,  58.],\n",
            "        [102.,  43.,  37.],\n",
            "        [ 73.,  67.,  43.],\n",
            "        [102.,  43.,  37.],\n",
            "        [ 73.,  67.,  43.]]) , tensor([[119., 133.],\n",
            "        [ 22.,  37.],\n",
            "        [ 56.,  70.],\n",
            "        [ 22.,  37.],\n",
            "        [ 56.,  70.]])\n",
            "Epoch [670/1000], Loss: 0.739 ,tensor([[ 69.,  96.,  70.],\n",
            "        [ 91.,  88.,  64.],\n",
            "        [ 91.,  88.,  64.],\n",
            "        [ 73.,  67.,  43.],\n",
            "        [102.,  43.,  37.]]) , tensor([[103., 119.],\n",
            "        [ 81., 101.],\n",
            "        [ 81., 101.],\n",
            "        [ 56.,  70.],\n",
            "        [ 22.,  37.]])\n",
            "Epoch [680/1000], Loss: 0.733 ,tensor([[ 69.,  96.,  70.],\n",
            "        [102.,  43.,  37.],\n",
            "        [ 91.,  88.,  64.],\n",
            "        [ 91.,  88.,  64.],\n",
            "        [ 73.,  67.,  43.]]) , tensor([[103., 119.],\n",
            "        [ 22.,  37.],\n",
            "        [ 81., 101.],\n",
            "        [ 81., 101.],\n",
            "        [ 56.,  70.]])\n",
            "Epoch [690/1000], Loss: 0.704 ,tensor([[ 91.,  88.,  64.],\n",
            "        [102.,  43.,  37.],\n",
            "        [ 73.,  67.,  43.],\n",
            "        [102.,  43.,  37.],\n",
            "        [ 69.,  96.,  70.]]) , tensor([[ 81., 101.],\n",
            "        [ 22.,  37.],\n",
            "        [ 56.,  70.],\n",
            "        [ 22.,  37.],\n",
            "        [103., 119.]])\n",
            "Epoch [700/1000], Loss: 0.915 ,tensor([[ 87., 134.,  58.],\n",
            "        [ 73.,  67.,  43.],\n",
            "        [ 69.,  96.,  70.],\n",
            "        [ 91.,  88.,  64.],\n",
            "        [ 69.,  96.,  70.]]) , tensor([[119., 133.],\n",
            "        [ 56.,  70.],\n",
            "        [103., 119.],\n",
            "        [ 81., 101.],\n",
            "        [103., 119.]])\n",
            "Epoch [710/1000], Loss: 0.903 ,tensor([[ 91.,  88.,  64.],\n",
            "        [ 69.,  96.,  70.],\n",
            "        [ 69.,  96.,  70.],\n",
            "        [ 73.,  67.,  43.],\n",
            "        [ 87., 134.,  58.]]) , tensor([[ 81., 101.],\n",
            "        [103., 119.],\n",
            "        [103., 119.],\n",
            "        [ 56.,  70.],\n",
            "        [119., 133.]])\n",
            "Epoch [720/1000], Loss: 0.962 ,tensor([[69., 96., 70.],\n",
            "        [69., 96., 70.],\n",
            "        [73., 67., 43.],\n",
            "        [91., 88., 64.],\n",
            "        [91., 88., 64.]]) , tensor([[103., 119.],\n",
            "        [103., 119.],\n",
            "        [ 56.,  70.],\n",
            "        [ 81., 101.],\n",
            "        [ 81., 101.]])\n",
            "Epoch [730/1000], Loss: 0.768 ,tensor([[ 73.,  67.,  43.],\n",
            "        [ 73.,  67.,  43.],\n",
            "        [ 87., 134.,  58.],\n",
            "        [ 91.,  88.,  64.],\n",
            "        [ 69.,  96.,  70.]]) , tensor([[ 56.,  70.],\n",
            "        [ 56.,  70.],\n",
            "        [119., 133.],\n",
            "        [ 81., 101.],\n",
            "        [103., 119.]])\n",
            "Epoch [740/1000], Loss: 0.677 ,tensor([[ 73.,  67.,  43.],\n",
            "        [ 91.,  88.,  64.],\n",
            "        [102.,  43.,  37.],\n",
            "        [ 69.,  96.,  70.],\n",
            "        [102.,  43.,  37.]]) , tensor([[ 56.,  70.],\n",
            "        [ 81., 101.],\n",
            "        [ 22.,  37.],\n",
            "        [103., 119.],\n",
            "        [ 22.,  37.]])\n",
            "Epoch [750/1000], Loss: 0.375 ,tensor([[ 87., 134.,  58.],\n",
            "        [102.,  43.,  37.],\n",
            "        [ 87., 134.,  58.],\n",
            "        [ 73.,  67.,  43.],\n",
            "        [ 91.,  88.,  64.]]) , tensor([[119., 133.],\n",
            "        [ 22.,  37.],\n",
            "        [119., 133.],\n",
            "        [ 56.,  70.],\n",
            "        [ 81., 101.]])\n",
            "Epoch [760/1000], Loss: 0.516 ,tensor([[ 87., 134.,  58.],\n",
            "        [ 69.,  96.,  70.],\n",
            "        [ 91.,  88.,  64.],\n",
            "        [102.,  43.,  37.],\n",
            "        [102.,  43.,  37.]]) , tensor([[119., 133.],\n",
            "        [103., 119.],\n",
            "        [ 81., 101.],\n",
            "        [ 22.,  37.],\n",
            "        [ 22.,  37.]])\n",
            "Epoch [770/1000], Loss: 0.606 ,tensor([[ 69.,  96.,  70.],\n",
            "        [ 91.,  88.,  64.],\n",
            "        [ 87., 134.,  58.],\n",
            "        [ 73.,  67.,  43.],\n",
            "        [102.,  43.,  37.]]) , tensor([[103., 119.],\n",
            "        [ 81., 101.],\n",
            "        [119., 133.],\n",
            "        [ 56.,  70.],\n",
            "        [ 22.,  37.]])\n",
            "Epoch [780/1000], Loss: 0.443 ,tensor([[ 87., 134.,  58.],\n",
            "        [ 73.,  67.,  43.],\n",
            "        [ 87., 134.,  58.],\n",
            "        [102.,  43.,  37.],\n",
            "        [ 73.,  67.,  43.]]) , tensor([[119., 133.],\n",
            "        [ 56.,  70.],\n",
            "        [119., 133.],\n",
            "        [ 22.,  37.],\n",
            "        [ 56.,  70.]])\n",
            "Epoch [790/1000], Loss: 0.372 ,tensor([[102.,  43.,  37.],\n",
            "        [ 73.,  67.,  43.],\n",
            "        [ 87., 134.,  58.],\n",
            "        [102.,  43.,  37.],\n",
            "        [102.,  43.,  37.]]) , tensor([[ 22.,  37.],\n",
            "        [ 56.,  70.],\n",
            "        [119., 133.],\n",
            "        [ 22.,  37.],\n",
            "        [ 22.,  37.]])\n",
            "Epoch [800/1000], Loss: 0.499 ,tensor([[ 87., 134.,  58.],\n",
            "        [ 73.,  67.,  43.],\n",
            "        [ 69.,  96.,  70.],\n",
            "        [102.,  43.,  37.],\n",
            "        [ 87., 134.,  58.]]) , tensor([[119., 133.],\n",
            "        [ 56.,  70.],\n",
            "        [103., 119.],\n",
            "        [ 22.,  37.],\n",
            "        [119., 133.]])\n",
            "Epoch [810/1000], Loss: 0.366 ,tensor([[ 87., 134.,  58.],\n",
            "        [ 69.,  96.,  70.],\n",
            "        [ 87., 134.,  58.],\n",
            "        [ 87., 134.,  58.],\n",
            "        [ 91.,  88.,  64.]]) , tensor([[119., 133.],\n",
            "        [103., 119.],\n",
            "        [119., 133.],\n",
            "        [119., 133.],\n",
            "        [ 81., 101.]])\n",
            "Epoch [820/1000], Loss: 0.758 ,tensor([[ 91.,  88.,  64.],\n",
            "        [ 73.,  67.,  43.],\n",
            "        [102.,  43.,  37.],\n",
            "        [ 73.,  67.,  43.],\n",
            "        [ 69.,  96.,  70.]]) , tensor([[ 81., 101.],\n",
            "        [ 56.,  70.],\n",
            "        [ 22.,  37.],\n",
            "        [ 56.,  70.],\n",
            "        [103., 119.]])\n",
            "Epoch [830/1000], Loss: 0.652 ,tensor([[ 73.,  67.,  43.],\n",
            "        [ 73.,  67.,  43.],\n",
            "        [ 73.,  67.,  43.],\n",
            "        [ 87., 134.,  58.],\n",
            "        [102.,  43.,  37.]]) , tensor([[ 56.,  70.],\n",
            "        [ 56.,  70.],\n",
            "        [ 56.,  70.],\n",
            "        [119., 133.],\n",
            "        [ 22.,  37.]])\n",
            "Epoch [840/1000], Loss: 0.244 ,tensor([[ 87., 134.,  58.],\n",
            "        [ 87., 134.,  58.],\n",
            "        [102.,  43.,  37.],\n",
            "        [102.,  43.,  37.],\n",
            "        [ 91.,  88.,  64.]]) , tensor([[119., 133.],\n",
            "        [119., 133.],\n",
            "        [ 22.,  37.],\n",
            "        [ 22.,  37.],\n",
            "        [ 81., 101.]])\n",
            "Epoch [850/1000], Loss: 0.751 ,tensor([[ 69.,  96.,  70.],\n",
            "        [102.,  43.,  37.],\n",
            "        [ 73.,  67.,  43.],\n",
            "        [ 69.,  96.,  70.],\n",
            "        [ 87., 134.,  58.]]) , tensor([[103., 119.],\n",
            "        [ 22.,  37.],\n",
            "        [ 56.,  70.],\n",
            "        [103., 119.],\n",
            "        [119., 133.]])\n",
            "Epoch [860/1000], Loss: 0.81 ,tensor([[ 69.,  96.,  70.],\n",
            "        [ 73.,  67.,  43.],\n",
            "        [ 69.,  96.,  70.],\n",
            "        [102.,  43.,  37.],\n",
            "        [ 91.,  88.,  64.]]) , tensor([[103., 119.],\n",
            "        [ 56.,  70.],\n",
            "        [103., 119.],\n",
            "        [ 22.,  37.],\n",
            "        [ 81., 101.]])\n",
            "Epoch [870/1000], Loss: 0.697 ,tensor([[102.,  43.,  37.],\n",
            "        [ 73.,  67.,  43.],\n",
            "        [ 69.,  96.,  70.],\n",
            "        [ 73.,  67.,  43.],\n",
            "        [102.,  43.,  37.]]) , tensor([[ 22.,  37.],\n",
            "        [ 56.,  70.],\n",
            "        [103., 119.],\n",
            "        [ 56.,  70.],\n",
            "        [ 22.,  37.]])\n",
            "Epoch [880/1000], Loss: 0.571 ,tensor([[ 69.,  96.,  70.],\n",
            "        [ 69.,  96.,  70.],\n",
            "        [ 87., 134.,  58.],\n",
            "        [ 87., 134.,  58.],\n",
            "        [102.,  43.,  37.]]) , tensor([[103., 119.],\n",
            "        [103., 119.],\n",
            "        [119., 133.],\n",
            "        [119., 133.],\n",
            "        [ 22.,  37.]])\n",
            "Epoch [890/1000], Loss: 0.628 ,tensor([[ 73.,  67.,  43.],\n",
            "        [ 69.,  96.,  70.],\n",
            "        [ 73.,  67.,  43.],\n",
            "        [ 87., 134.,  58.],\n",
            "        [102.,  43.,  37.]]) , tensor([[ 56.,  70.],\n",
            "        [103., 119.],\n",
            "        [ 56.,  70.],\n",
            "        [119., 133.],\n",
            "        [ 22.,  37.]])\n",
            "Epoch [900/1000], Loss: 0.794 ,tensor([[ 69.,  96.,  70.],\n",
            "        [102.,  43.,  37.],\n",
            "        [ 91.,  88.,  64.],\n",
            "        [ 69.,  96.,  70.],\n",
            "        [ 73.,  67.,  43.]]) , tensor([[103., 119.],\n",
            "        [ 22.,  37.],\n",
            "        [ 81., 101.],\n",
            "        [103., 119.],\n",
            "        [ 56.,  70.]])\n",
            "Epoch [910/1000], Loss: 0.709 ,tensor([[ 87., 134.,  58.],\n",
            "        [ 69.,  96.,  70.],\n",
            "        [ 91.,  88.,  64.],\n",
            "        [ 73.,  67.,  43.],\n",
            "        [ 69.,  96.,  70.]]) , tensor([[119., 133.],\n",
            "        [103., 119.],\n",
            "        [ 81., 101.],\n",
            "        [ 56.,  70.],\n",
            "        [103., 119.]])\n",
            "Epoch [920/1000], Loss: 0.814 ,tensor([[73., 67., 43.],\n",
            "        [91., 88., 64.],\n",
            "        [69., 96., 70.],\n",
            "        [69., 96., 70.],\n",
            "        [91., 88., 64.]]) , tensor([[ 56.,  70.],\n",
            "        [ 81., 101.],\n",
            "        [103., 119.],\n",
            "        [103., 119.],\n",
            "        [ 81., 101.]])\n",
            "Epoch [930/1000], Loss: 0.507 ,tensor([[ 91.,  88.,  64.],\n",
            "        [ 91.,  88.,  64.],\n",
            "        [ 87., 134.,  58.],\n",
            "        [102.,  43.,  37.],\n",
            "        [ 69.,  96.,  70.]]) , tensor([[ 81., 101.],\n",
            "        [ 81., 101.],\n",
            "        [119., 133.],\n",
            "        [ 22.,  37.],\n",
            "        [103., 119.]])\n",
            "Epoch [940/1000], Loss: 0.532 ,tensor([[ 69.,  96.,  70.],\n",
            "        [ 73.,  67.,  43.],\n",
            "        [ 87., 134.,  58.],\n",
            "        [102.,  43.,  37.],\n",
            "        [102.,  43.,  37.]]) , tensor([[103., 119.],\n",
            "        [ 56.,  70.],\n",
            "        [119., 133.],\n",
            "        [ 22.,  37.],\n",
            "        [ 22.,  37.]])\n",
            "Epoch [950/1000], Loss: 0.728 ,tensor([[102.,  43.,  37.],\n",
            "        [ 91.,  88.,  64.],\n",
            "        [ 69.,  96.,  70.],\n",
            "        [ 73.,  67.,  43.],\n",
            "        [ 73.,  67.,  43.]]) , tensor([[ 22.,  37.],\n",
            "        [ 81., 101.],\n",
            "        [103., 119.],\n",
            "        [ 56.,  70.],\n",
            "        [ 56.,  70.]])\n",
            "Epoch [960/1000], Loss: 0.624 ,tensor([[102.,  43.,  37.],\n",
            "        [ 73.,  67.,  43.],\n",
            "        [ 91.,  88.,  64.],\n",
            "        [ 69.,  96.,  70.],\n",
            "        [102.,  43.,  37.]]) , tensor([[ 22.,  37.],\n",
            "        [ 56.,  70.],\n",
            "        [ 81., 101.],\n",
            "        [103., 119.],\n",
            "        [ 22.,  37.]])\n",
            "Epoch [970/1000], Loss: 0.533 ,tensor([[ 69.,  96.,  70.],\n",
            "        [102.,  43.,  37.],\n",
            "        [102.,  43.,  37.],\n",
            "        [ 87., 134.,  58.],\n",
            "        [ 73.,  67.,  43.]]) , tensor([[103., 119.],\n",
            "        [ 22.,  37.],\n",
            "        [ 22.,  37.],\n",
            "        [119., 133.],\n",
            "        [ 56.,  70.]])\n",
            "Epoch [980/1000], Loss: 0.722 ,tensor([[ 69.,  96.,  70.],\n",
            "        [ 91.,  88.,  64.],\n",
            "        [ 73.,  67.,  43.],\n",
            "        [102.,  43.,  37.],\n",
            "        [ 73.,  67.,  43.]]) , tensor([[103., 119.],\n",
            "        [ 81., 101.],\n",
            "        [ 56.,  70.],\n",
            "        [ 22.,  37.],\n",
            "        [ 56.,  70.]])\n",
            "Epoch [990/1000], Loss: 0.697 ,tensor([[ 91.,  88.,  64.],\n",
            "        [102.,  43.,  37.],\n",
            "        [102.,  43.,  37.],\n",
            "        [ 69.,  96.,  70.],\n",
            "        [ 69.,  96.,  70.]]) , tensor([[ 81., 101.],\n",
            "        [ 22.,  37.],\n",
            "        [ 22.,  37.],\n",
            "        [103., 119.],\n",
            "        [103., 119.]])\n",
            "Epoch [1000/1000], Loss: 0.503 ,tensor([[ 91.,  88.,  64.],\n",
            "        [102.,  43.,  37.],\n",
            "        [ 87., 134.,  58.],\n",
            "        [ 69.,  96.,  70.],\n",
            "        [ 91.,  88.,  64.]]) , tensor([[ 81., 101.],\n",
            "        [ 22.,  37.],\n",
            "        [119., 133.],\n",
            "        [103., 119.],\n",
            "        [ 81., 101.]])\n"
          ]
        }
      ]
    },
    {
      "cell_type": "code",
      "source": [
        "# 2\n",
        "model2 = nn.Linear(3,2)\n",
        "print(model2.weight)\n",
        "print(model2.bias)\n",
        "opt2 = torch.optim.SGD(model2.parameters(), lr=0.1)\n",
        "fit(250, model2, loss_fn, opt2, train_dl)\n",
        "preds = model2(inputs)\n",
        "print(preds)\n",
        "print(targets)\n",
        "from sklearn.metrics import mean_squared_error\n",
        "# print(mean_squared_error(targets.detach().numpy() ,preds.detach().numpy() ))"
      ],
      "metadata": {
        "colab": {
          "base_uri": "https://localhost:8080/"
        },
        "id": "9INJuryRk5YS",
        "outputId": "d461e6f6-787c-4222-ad0a-87a6ecbeb41c"
      },
      "execution_count": 42,
      "outputs": [
        {
          "output_type": "stream",
          "name": "stdout",
          "text": [
            "Parameter containing:\n",
            "tensor([[-0.2907,  0.4492,  0.4086],\n",
            "        [-0.4465,  0.3063,  0.2044]], requires_grad=True)\n",
            "Parameter containing:\n",
            "tensor([-0.0110, -0.0466], requires_grad=True)\n",
            "Epoch [10/250], Loss: nan ,tensor([[ 73.,  67.,  43.],\n",
            "        [102.,  43.,  37.],\n",
            "        [102.,  43.,  37.],\n",
            "        [ 73.,  67.,  43.],\n",
            "        [ 87., 134.,  58.]]) , tensor([[ 56.,  70.],\n",
            "        [ 22.,  37.],\n",
            "        [ 22.,  37.],\n",
            "        [ 56.,  70.],\n",
            "        [119., 133.]])\n",
            "Epoch [20/250], Loss: nan ,tensor([[ 69.,  96.,  70.],\n",
            "        [ 87., 134.,  58.],\n",
            "        [ 91.,  88.,  64.],\n",
            "        [ 87., 134.,  58.],\n",
            "        [ 73.,  67.,  43.]]) , tensor([[103., 119.],\n",
            "        [119., 133.],\n",
            "        [ 81., 101.],\n",
            "        [119., 133.],\n",
            "        [ 56.,  70.]])\n",
            "Epoch [30/250], Loss: nan ,tensor([[ 73.,  67.,  43.],\n",
            "        [ 87., 134.,  58.],\n",
            "        [ 91.,  88.,  64.],\n",
            "        [ 69.,  96.,  70.],\n",
            "        [ 69.,  96.,  70.]]) , tensor([[ 56.,  70.],\n",
            "        [119., 133.],\n",
            "        [ 81., 101.],\n",
            "        [103., 119.],\n",
            "        [103., 119.]])\n",
            "Epoch [40/250], Loss: nan ,tensor([[ 73.,  67.,  43.],\n",
            "        [ 73.,  67.,  43.],\n",
            "        [102.,  43.,  37.],\n",
            "        [102.,  43.,  37.],\n",
            "        [102.,  43.,  37.]]) , tensor([[56., 70.],\n",
            "        [56., 70.],\n",
            "        [22., 37.],\n",
            "        [22., 37.],\n",
            "        [22., 37.]])\n",
            "Epoch [50/250], Loss: nan ,tensor([[ 91.,  88.,  64.],\n",
            "        [102.,  43.,  37.],\n",
            "        [ 91.,  88.,  64.],\n",
            "        [ 73.,  67.,  43.],\n",
            "        [ 73.,  67.,  43.]]) , tensor([[ 81., 101.],\n",
            "        [ 22.,  37.],\n",
            "        [ 81., 101.],\n",
            "        [ 56.,  70.],\n",
            "        [ 56.,  70.]])\n",
            "Epoch [60/250], Loss: nan ,tensor([[ 87., 134.,  58.],\n",
            "        [ 73.,  67.,  43.],\n",
            "        [ 73.,  67.,  43.],\n",
            "        [ 91.,  88.,  64.],\n",
            "        [102.,  43.,  37.]]) , tensor([[119., 133.],\n",
            "        [ 56.,  70.],\n",
            "        [ 56.,  70.],\n",
            "        [ 81., 101.],\n",
            "        [ 22.,  37.]])\n",
            "Epoch [70/250], Loss: nan ,tensor([[ 91.,  88.,  64.],\n",
            "        [102.,  43.,  37.],\n",
            "        [ 73.,  67.,  43.],\n",
            "        [ 87., 134.,  58.],\n",
            "        [ 91.,  88.,  64.]]) , tensor([[ 81., 101.],\n",
            "        [ 22.,  37.],\n",
            "        [ 56.,  70.],\n",
            "        [119., 133.],\n",
            "        [ 81., 101.]])\n",
            "Epoch [80/250], Loss: nan ,tensor([[ 91.,  88.,  64.],\n",
            "        [102.,  43.,  37.],\n",
            "        [102.,  43.,  37.],\n",
            "        [ 91.,  88.,  64.],\n",
            "        [ 91.,  88.,  64.]]) , tensor([[ 81., 101.],\n",
            "        [ 22.,  37.],\n",
            "        [ 22.,  37.],\n",
            "        [ 81., 101.],\n",
            "        [ 81., 101.]])\n",
            "Epoch [90/250], Loss: nan ,tensor([[69., 96., 70.],\n",
            "        [69., 96., 70.],\n",
            "        [73., 67., 43.],\n",
            "        [69., 96., 70.],\n",
            "        [73., 67., 43.]]) , tensor([[103., 119.],\n",
            "        [103., 119.],\n",
            "        [ 56.,  70.],\n",
            "        [103., 119.],\n",
            "        [ 56.,  70.]])\n",
            "Epoch [100/250], Loss: nan ,tensor([[ 91.,  88.,  64.],\n",
            "        [ 69.,  96.,  70.],\n",
            "        [102.,  43.,  37.],\n",
            "        [ 91.,  88.,  64.],\n",
            "        [ 69.,  96.,  70.]]) , tensor([[ 81., 101.],\n",
            "        [103., 119.],\n",
            "        [ 22.,  37.],\n",
            "        [ 81., 101.],\n",
            "        [103., 119.]])\n",
            "Epoch [110/250], Loss: nan ,tensor([[ 69.,  96.,  70.],\n",
            "        [ 87., 134.,  58.],\n",
            "        [ 91.,  88.,  64.],\n",
            "        [ 73.,  67.,  43.],\n",
            "        [ 87., 134.,  58.]]) , tensor([[103., 119.],\n",
            "        [119., 133.],\n",
            "        [ 81., 101.],\n",
            "        [ 56.,  70.],\n",
            "        [119., 133.]])\n",
            "Epoch [120/250], Loss: nan ,tensor([[102.,  43.,  37.],\n",
            "        [ 69.,  96.,  70.],\n",
            "        [ 69.,  96.,  70.],\n",
            "        [ 73.,  67.,  43.],\n",
            "        [ 87., 134.,  58.]]) , tensor([[ 22.,  37.],\n",
            "        [103., 119.],\n",
            "        [103., 119.],\n",
            "        [ 56.,  70.],\n",
            "        [119., 133.]])\n",
            "Epoch [130/250], Loss: nan ,tensor([[ 91.,  88.,  64.],\n",
            "        [ 87., 134.,  58.],\n",
            "        [102.,  43.,  37.],\n",
            "        [ 91.,  88.,  64.],\n",
            "        [ 73.,  67.,  43.]]) , tensor([[ 81., 101.],\n",
            "        [119., 133.],\n",
            "        [ 22.,  37.],\n",
            "        [ 81., 101.],\n",
            "        [ 56.,  70.]])\n",
            "Epoch [140/250], Loss: nan ,tensor([[ 91.,  88.,  64.],\n",
            "        [102.,  43.,  37.],\n",
            "        [ 91.,  88.,  64.],\n",
            "        [ 87., 134.,  58.],\n",
            "        [ 87., 134.,  58.]]) , tensor([[ 81., 101.],\n",
            "        [ 22.,  37.],\n",
            "        [ 81., 101.],\n",
            "        [119., 133.],\n",
            "        [119., 133.]])\n",
            "Epoch [150/250], Loss: nan ,tensor([[ 69.,  96.,  70.],\n",
            "        [102.,  43.,  37.],\n",
            "        [ 91.,  88.,  64.],\n",
            "        [ 91.,  88.,  64.],\n",
            "        [ 87., 134.,  58.]]) , tensor([[103., 119.],\n",
            "        [ 22.,  37.],\n",
            "        [ 81., 101.],\n",
            "        [ 81., 101.],\n",
            "        [119., 133.]])\n",
            "Epoch [160/250], Loss: nan ,tensor([[ 69.,  96.,  70.],\n",
            "        [ 69.,  96.,  70.],\n",
            "        [ 87., 134.,  58.],\n",
            "        [102.,  43.,  37.],\n",
            "        [ 87., 134.,  58.]]) , tensor([[103., 119.],\n",
            "        [103., 119.],\n",
            "        [119., 133.],\n",
            "        [ 22.,  37.],\n",
            "        [119., 133.]])\n",
            "Epoch [170/250], Loss: nan ,tensor([[102.,  43.,  37.],\n",
            "        [ 73.,  67.,  43.],\n",
            "        [ 73.,  67.,  43.],\n",
            "        [ 69.,  96.,  70.],\n",
            "        [102.,  43.,  37.]]) , tensor([[ 22.,  37.],\n",
            "        [ 56.,  70.],\n",
            "        [ 56.,  70.],\n",
            "        [103., 119.],\n",
            "        [ 22.,  37.]])\n",
            "Epoch [180/250], Loss: nan ,tensor([[ 91.,  88.,  64.],\n",
            "        [ 87., 134.,  58.],\n",
            "        [ 91.,  88.,  64.],\n",
            "        [ 69.,  96.,  70.],\n",
            "        [102.,  43.,  37.]]) , tensor([[ 81., 101.],\n",
            "        [119., 133.],\n",
            "        [ 81., 101.],\n",
            "        [103., 119.],\n",
            "        [ 22.,  37.]])\n",
            "Epoch [190/250], Loss: nan ,tensor([[ 69.,  96.,  70.],\n",
            "        [102.,  43.,  37.],\n",
            "        [ 91.,  88.,  64.],\n",
            "        [ 73.,  67.,  43.],\n",
            "        [ 69.,  96.,  70.]]) , tensor([[103., 119.],\n",
            "        [ 22.,  37.],\n",
            "        [ 81., 101.],\n",
            "        [ 56.,  70.],\n",
            "        [103., 119.]])\n",
            "Epoch [200/250], Loss: nan ,tensor([[ 69.,  96.,  70.],\n",
            "        [ 87., 134.,  58.],\n",
            "        [ 69.,  96.,  70.],\n",
            "        [ 69.,  96.,  70.],\n",
            "        [ 91.,  88.,  64.]]) , tensor([[103., 119.],\n",
            "        [119., 133.],\n",
            "        [103., 119.],\n",
            "        [103., 119.],\n",
            "        [ 81., 101.]])\n",
            "Epoch [210/250], Loss: nan ,tensor([[102.,  43.,  37.],\n",
            "        [ 91.,  88.,  64.],\n",
            "        [ 69.,  96.,  70.],\n",
            "        [ 69.,  96.,  70.],\n",
            "        [ 91.,  88.,  64.]]) , tensor([[ 22.,  37.],\n",
            "        [ 81., 101.],\n",
            "        [103., 119.],\n",
            "        [103., 119.],\n",
            "        [ 81., 101.]])\n",
            "Epoch [220/250], Loss: nan ,tensor([[69., 96., 70.],\n",
            "        [91., 88., 64.],\n",
            "        [73., 67., 43.],\n",
            "        [69., 96., 70.],\n",
            "        [69., 96., 70.]]) , tensor([[103., 119.],\n",
            "        [ 81., 101.],\n",
            "        [ 56.,  70.],\n",
            "        [103., 119.],\n",
            "        [103., 119.]])\n",
            "Epoch [230/250], Loss: nan ,tensor([[ 91.,  88.,  64.],\n",
            "        [ 69.,  96.,  70.],\n",
            "        [ 91.,  88.,  64.],\n",
            "        [ 87., 134.,  58.],\n",
            "        [102.,  43.,  37.]]) , tensor([[ 81., 101.],\n",
            "        [103., 119.],\n",
            "        [ 81., 101.],\n",
            "        [119., 133.],\n",
            "        [ 22.,  37.]])\n",
            "Epoch [240/250], Loss: nan ,tensor([[102.,  43.,  37.],\n",
            "        [ 91.,  88.,  64.],\n",
            "        [102.,  43.,  37.],\n",
            "        [102.,  43.,  37.],\n",
            "        [ 91.,  88.,  64.]]) , tensor([[ 22.,  37.],\n",
            "        [ 81., 101.],\n",
            "        [ 22.,  37.],\n",
            "        [ 22.,  37.],\n",
            "        [ 81., 101.]])\n",
            "Epoch [250/250], Loss: nan ,tensor([[91., 88., 64.],\n",
            "        [91., 88., 64.],\n",
            "        [91., 88., 64.],\n",
            "        [73., 67., 43.],\n",
            "        [73., 67., 43.]]) , tensor([[ 81., 101.],\n",
            "        [ 81., 101.],\n",
            "        [ 81., 101.],\n",
            "        [ 56.,  70.],\n",
            "        [ 56.,  70.]])\n",
            "tensor([[nan, nan],\n",
            "        [nan, nan],\n",
            "        [nan, nan],\n",
            "        [nan, nan],\n",
            "        [nan, nan],\n",
            "        [nan, nan],\n",
            "        [nan, nan],\n",
            "        [nan, nan],\n",
            "        [nan, nan],\n",
            "        [nan, nan],\n",
            "        [nan, nan],\n",
            "        [nan, nan],\n",
            "        [nan, nan],\n",
            "        [nan, nan],\n",
            "        [nan, nan]], grad_fn=<AddmmBackward0>)\n",
            "tensor([[ 56.,  70.],\n",
            "        [ 81., 101.],\n",
            "        [119., 133.],\n",
            "        [ 22.,  37.],\n",
            "        [103., 119.],\n",
            "        [ 56.,  70.],\n",
            "        [ 81., 101.],\n",
            "        [119., 133.],\n",
            "        [ 22.,  37.],\n",
            "        [103., 119.],\n",
            "        [ 56.,  70.],\n",
            "        [ 81., 101.],\n",
            "        [119., 133.],\n",
            "        [ 22.,  37.],\n",
            "        [103., 119.]])\n"
          ]
        }
      ]
    },
    {
      "cell_type": "code",
      "source": [
        "# 3\n",
        "model3 = nn.Linear(3,2)\n",
        "opt3 = torch.optim.SGD(model3.parameters(), lr=0.0000001)\n",
        "fit(250, model3, loss_fn, opt3, train_dl)\n",
        "preds = model3(inputs)\n",
        "print(preds)\n",
        "print(targets)\n",
        "from sklearn.metrics import mean_squared_error\n",
        "print(mean_squared_error(targets.detach().numpy(),preds.detach().numpy()))"
      ],
      "metadata": {
        "colab": {
          "base_uri": "https://localhost:8080/"
        },
        "id": "eKqEd0oUk5Vq",
        "outputId": "a3766667-f18e-499e-8ff8-12fdd956bd89"
      },
      "execution_count": 43,
      "outputs": [
        {
          "output_type": "stream",
          "name": "stdout",
          "text": [
            "Epoch [10/250], Loss: 13579.883 ,tensor([[ 69.,  96.,  70.],\n",
            "        [ 73.,  67.,  43.],\n",
            "        [ 69.,  96.,  70.],\n",
            "        [102.,  43.,  37.],\n",
            "        [ 91.,  88.,  64.]]) , tensor([[103., 119.],\n",
            "        [ 56.,  70.],\n",
            "        [103., 119.],\n",
            "        [ 22.,  37.],\n",
            "        [ 81., 101.]])\n",
            "Epoch [20/250], Loss: 12233.768 ,tensor([[ 73.,  67.,  43.],\n",
            "        [102.,  43.,  37.],\n",
            "        [ 69.,  96.,  70.],\n",
            "        [ 91.,  88.,  64.],\n",
            "        [ 69.,  96.,  70.]]) , tensor([[ 56.,  70.],\n",
            "        [ 22.,  37.],\n",
            "        [103., 119.],\n",
            "        [ 81., 101.],\n",
            "        [103., 119.]])\n",
            "Epoch [30/250], Loss: 13631.016 ,tensor([[102.,  43.,  37.],\n",
            "        [ 91.,  88.,  64.],\n",
            "        [ 87., 134.,  58.],\n",
            "        [ 73.,  67.,  43.],\n",
            "        [ 87., 134.,  58.]]) , tensor([[ 22.,  37.],\n",
            "        [ 81., 101.],\n",
            "        [119., 133.],\n",
            "        [ 56.,  70.],\n",
            "        [119., 133.]])\n",
            "Epoch [40/250], Loss: 7488.569 ,tensor([[102.,  43.,  37.],\n",
            "        [102.,  43.,  37.],\n",
            "        [ 69.,  96.,  70.],\n",
            "        [ 69.,  96.,  70.],\n",
            "        [102.,  43.,  37.]]) , tensor([[ 22.,  37.],\n",
            "        [ 22.,  37.],\n",
            "        [103., 119.],\n",
            "        [103., 119.],\n",
            "        [ 22.,  37.]])\n",
            "Epoch [50/250], Loss: 10011.736 ,tensor([[ 87., 134.,  58.],\n",
            "        [102.,  43.,  37.],\n",
            "        [ 73.,  67.,  43.],\n",
            "        [ 69.,  96.,  70.],\n",
            "        [ 91.,  88.,  64.]]) , tensor([[119., 133.],\n",
            "        [ 22.,  37.],\n",
            "        [ 56.,  70.],\n",
            "        [103., 119.],\n",
            "        [ 81., 101.]])\n",
            "Epoch [60/250], Loss: 10589.271 ,tensor([[ 69.,  96.,  70.],\n",
            "        [ 87., 134.,  58.],\n",
            "        [ 87., 134.,  58.],\n",
            "        [ 73.,  67.,  43.],\n",
            "        [102.,  43.,  37.]]) , tensor([[103., 119.],\n",
            "        [119., 133.],\n",
            "        [119., 133.],\n",
            "        [ 56.,  70.],\n",
            "        [ 22.,  37.]])\n",
            "Epoch [70/250], Loss: 5283.795 ,tensor([[ 91.,  88.,  64.],\n",
            "        [ 73.,  67.,  43.],\n",
            "        [102.,  43.,  37.],\n",
            "        [ 91.,  88.,  64.],\n",
            "        [ 73.,  67.,  43.]]) , tensor([[ 81., 101.],\n",
            "        [ 56.,  70.],\n",
            "        [ 22.,  37.],\n",
            "        [ 81., 101.],\n",
            "        [ 56.,  70.]])\n",
            "Epoch [80/250], Loss: 5929.676 ,tensor([[91., 88., 64.],\n",
            "        [91., 88., 64.],\n",
            "        [73., 67., 43.],\n",
            "        [91., 88., 64.],\n",
            "        [73., 67., 43.]]) , tensor([[ 81., 101.],\n",
            "        [ 81., 101.],\n",
            "        [ 56.,  70.],\n",
            "        [ 81., 101.],\n",
            "        [ 56.,  70.]])\n",
            "Epoch [90/250], Loss: 6636.983 ,tensor([[ 73.,  67.,  43.],\n",
            "        [ 91.,  88.,  64.],\n",
            "        [ 87., 134.,  58.],\n",
            "        [ 69.,  96.,  70.],\n",
            "        [102.,  43.,  37.]]) , tensor([[ 56.,  70.],\n",
            "        [ 81., 101.],\n",
            "        [119., 133.],\n",
            "        [103., 119.],\n",
            "        [ 22.,  37.]])\n",
            "Epoch [100/250], Loss: 6722.688 ,tensor([[ 69.,  96.,  70.],\n",
            "        [102.,  43.,  37.],\n",
            "        [ 87., 134.,  58.],\n",
            "        [ 87., 134.,  58.],\n",
            "        [102.,  43.,  37.]]) , tensor([[103., 119.],\n",
            "        [ 22.,  37.],\n",
            "        [119., 133.],\n",
            "        [119., 133.],\n",
            "        [ 22.,  37.]])\n",
            "Epoch [110/250], Loss: 3981.273 ,tensor([[ 73.,  67.,  43.],\n",
            "        [102.,  43.,  37.],\n",
            "        [ 87., 134.,  58.],\n",
            "        [ 91.,  88.,  64.],\n",
            "        [102.,  43.,  37.]]) , tensor([[ 56.,  70.],\n",
            "        [ 22.,  37.],\n",
            "        [119., 133.],\n",
            "        [ 81., 101.],\n",
            "        [ 22.,  37.]])\n",
            "Epoch [120/250], Loss: 2596.333 ,tensor([[ 73.,  67.,  43.],\n",
            "        [ 69.,  96.,  70.],\n",
            "        [102.,  43.,  37.],\n",
            "        [ 73.,  67.,  43.],\n",
            "        [102.,  43.,  37.]]) , tensor([[ 56.,  70.],\n",
            "        [103., 119.],\n",
            "        [ 22.,  37.],\n",
            "        [ 56.,  70.],\n",
            "        [ 22.,  37.]])\n",
            "Epoch [130/250], Loss: 3088.26 ,tensor([[102.,  43.,  37.],\n",
            "        [ 73.,  67.,  43.],\n",
            "        [ 91.,  88.,  64.],\n",
            "        [ 73.,  67.,  43.],\n",
            "        [ 69.,  96.,  70.]]) , tensor([[ 22.,  37.],\n",
            "        [ 56.,  70.],\n",
            "        [ 81., 101.],\n",
            "        [ 56.,  70.],\n",
            "        [103., 119.]])\n",
            "Epoch [140/250], Loss: 4866.138 ,tensor([[ 87., 134.,  58.],\n",
            "        [ 69.,  96.,  70.],\n",
            "        [102.,  43.,  37.],\n",
            "        [ 87., 134.,  58.],\n",
            "        [ 73.,  67.,  43.]]) , tensor([[119., 133.],\n",
            "        [103., 119.],\n",
            "        [ 22.,  37.],\n",
            "        [119., 133.],\n",
            "        [ 56.,  70.]])\n",
            "Epoch [150/250], Loss: 4089.929 ,tensor([[ 73.,  67.,  43.],\n",
            "        [102.,  43.,  37.],\n",
            "        [ 69.,  96.,  70.],\n",
            "        [ 69.,  96.,  70.],\n",
            "        [ 87., 134.,  58.]]) , tensor([[ 56.,  70.],\n",
            "        [ 22.,  37.],\n",
            "        [103., 119.],\n",
            "        [103., 119.],\n",
            "        [119., 133.]])\n",
            "Epoch [160/250], Loss: 3287.07 ,tensor([[ 73.,  67.,  43.],\n",
            "        [ 73.,  67.,  43.],\n",
            "        [ 87., 134.,  58.],\n",
            "        [102.,  43.,  37.],\n",
            "        [ 87., 134.,  58.]]) , tensor([[ 56.,  70.],\n",
            "        [ 56.,  70.],\n",
            "        [119., 133.],\n",
            "        [ 22.,  37.],\n",
            "        [119., 133.]])\n",
            "Epoch [170/250], Loss: 3715.559 ,tensor([[102.,  43.,  37.],\n",
            "        [ 87., 134.,  58.],\n",
            "        [ 69.,  96.,  70.],\n",
            "        [ 69.,  96.,  70.],\n",
            "        [ 91.,  88.,  64.]]) , tensor([[ 22.,  37.],\n",
            "        [119., 133.],\n",
            "        [103., 119.],\n",
            "        [103., 119.],\n",
            "        [ 81., 101.]])\n",
            "Epoch [180/250], Loss: 3826.307 ,tensor([[ 69.,  96.,  70.],\n",
            "        [ 87., 134.,  58.],\n",
            "        [ 87., 134.,  58.],\n",
            "        [ 91.,  88.,  64.],\n",
            "        [ 73.,  67.,  43.]]) , tensor([[103., 119.],\n",
            "        [119., 133.],\n",
            "        [119., 133.],\n",
            "        [ 81., 101.],\n",
            "        [ 56.,  70.]])\n",
            "Epoch [190/250], Loss: 3492.116 ,tensor([[ 87., 134.,  58.],\n",
            "        [ 73.,  67.,  43.],\n",
            "        [ 91.,  88.,  64.],\n",
            "        [ 69.,  96.,  70.],\n",
            "        [ 87., 134.,  58.]]) , tensor([[119., 133.],\n",
            "        [ 56.,  70.],\n",
            "        [ 81., 101.],\n",
            "        [103., 119.],\n",
            "        [119., 133.]])\n",
            "Epoch [200/250], Loss: 1767.166 ,tensor([[102.,  43.,  37.],\n",
            "        [102.,  43.,  37.],\n",
            "        [ 87., 134.,  58.],\n",
            "        [102.,  43.,  37.],\n",
            "        [ 69.,  96.,  70.]]) , tensor([[ 22.,  37.],\n",
            "        [ 22.,  37.],\n",
            "        [119., 133.],\n",
            "        [ 22.,  37.],\n",
            "        [103., 119.]])\n",
            "Epoch [210/250], Loss: 1953.413 ,tensor([[ 69.,  96.,  70.],\n",
            "        [ 91.,  88.,  64.],\n",
            "        [102.,  43.,  37.],\n",
            "        [102.,  43.,  37.],\n",
            "        [ 87., 134.,  58.]]) , tensor([[103., 119.],\n",
            "        [ 81., 101.],\n",
            "        [ 22.,  37.],\n",
            "        [ 22.,  37.],\n",
            "        [119., 133.]])\n",
            "Epoch [220/250], Loss: 1865.885 ,tensor([[102.,  43.,  37.],\n",
            "        [ 87., 134.,  58.],\n",
            "        [ 87., 134.,  58.],\n",
            "        [ 73.,  67.,  43.],\n",
            "        [ 73.,  67.,  43.]]) , tensor([[ 22.,  37.],\n",
            "        [119., 133.],\n",
            "        [119., 133.],\n",
            "        [ 56.,  70.],\n",
            "        [ 56.,  70.]])\n",
            "Epoch [230/250], Loss: 2482.038 ,tensor([[ 87., 134.,  58.],\n",
            "        [ 91.,  88.,  64.],\n",
            "        [ 87., 134.,  58.],\n",
            "        [102.,  43.,  37.],\n",
            "        [ 87., 134.,  58.]]) , tensor([[119., 133.],\n",
            "        [ 81., 101.],\n",
            "        [119., 133.],\n",
            "        [ 22.,  37.],\n",
            "        [119., 133.]])\n",
            "Epoch [240/250], Loss: 1363.861 ,tensor([[ 91.,  88.,  64.],\n",
            "        [ 73.,  67.,  43.],\n",
            "        [ 73.,  67.,  43.],\n",
            "        [ 87., 134.,  58.],\n",
            "        [ 91.,  88.,  64.]]) , tensor([[ 81., 101.],\n",
            "        [ 56.,  70.],\n",
            "        [ 56.,  70.],\n",
            "        [119., 133.],\n",
            "        [ 81., 101.]])\n",
            "Epoch [250/250], Loss: 1625.302 ,tensor([[ 73.,  67.,  43.],\n",
            "        [ 87., 134.,  58.],\n",
            "        [ 91.,  88.,  64.],\n",
            "        [ 73.,  67.,  43.],\n",
            "        [ 87., 134.,  58.]]) , tensor([[ 56.,  70.],\n",
            "        [119., 133.],\n",
            "        [ 81., 101.],\n",
            "        [ 56.,  70.],\n",
            "        [119., 133.]])\n",
            "tensor([[44.7385, 42.6740],\n",
            "        [56.5792, 60.8938],\n",
            "        [80.4131, 64.9518],\n",
            "        [39.3471, 35.6210],\n",
            "        [55.1740, 65.3857],\n",
            "        [44.7385, 42.6740],\n",
            "        [56.5792, 60.8938],\n",
            "        [80.4131, 64.9518],\n",
            "        [39.3471, 35.6210],\n",
            "        [55.1740, 65.3857],\n",
            "        [44.7385, 42.6740],\n",
            "        [56.5792, 60.8938],\n",
            "        [80.4131, 64.9518],\n",
            "        [39.3471, 35.6210],\n",
            "        [55.1740, 65.3857]], grad_fn=<AddmmBackward0>)\n",
            "tensor([[ 56.,  70.],\n",
            "        [ 81., 101.],\n",
            "        [119., 133.],\n",
            "        [ 22.,  37.],\n",
            "        [103., 119.],\n",
            "        [ 56.,  70.],\n",
            "        [ 81., 101.],\n",
            "        [119., 133.],\n",
            "        [ 22.,  37.],\n",
            "        [103., 119.],\n",
            "        [ 56.,  70.],\n",
            "        [ 81., 101.],\n",
            "        [119., 133.],\n",
            "        [ 22.,  37.],\n",
            "        [103., 119.]])\n",
            "1466.2557\n"
          ]
        }
      ]
    },
    {
      "cell_type": "code",
      "source": [
        "# 5\n",
        "preds = model(torch.FloatTensor([70,34,45]))\n",
        "print(\"Prediction : \",preds)"
      ],
      "metadata": {
        "colab": {
          "base_uri": "https://localhost:8080/"
        },
        "id": "S24Soe2-sbZ-",
        "outputId": "d40e1ed0-c844-4b57-d9c6-cee54428d4be"
      },
      "execution_count": 44,
      "outputs": [
        {
          "output_type": "stream",
          "name": "stdout",
          "text": [
            "Prediction :  tensor([31.5549, 46.7578], grad_fn=<AddBackward0>)\n"
          ]
        }
      ]
    }
  ]
}