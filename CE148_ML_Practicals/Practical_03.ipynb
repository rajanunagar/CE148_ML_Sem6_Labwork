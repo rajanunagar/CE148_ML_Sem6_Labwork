{
  "cells": [
    {
      "cell_type": "markdown",
      "source": [
        "# **Practical-03** : NB_Classifier_Weather\n",
        "\n",
        "### **Objective** : Implement Naive Bayes classifier : Weather Example"
      ],
      "metadata": {
        "id": "7kHnKWjeXc0K"
      }
    },
    {
      "cell_type": "code",
      "execution_count": 12,
      "metadata": {
        "id": "I4dU9l4ro8yN"
      },
      "outputs": [],
      "source": [
        "# Step 1: Import necessary libraries.\n",
        "from sklearn import preprocessing\n",
        "from sklearn.naive_bayes import GaussianNB, MultinomialNB"
      ]
    },
    {
      "cell_type": "code",
      "execution_count": 13,
      "metadata": {
        "id": "IvHX7J6apFhb"
      },
      "outputs": [],
      "source": [
        "# Step 2: Prepare dataset.\n",
        "weather = ['Sunny', 'Sunny', 'Overcast', 'Rainy', 'Rainy','Rainy', 'Overcast','Sunny', 'Sunny', 'Rainy', 'Sunny', 'Overcast', 'Overcast', 'Rainy']\n",
        "temp = ['Hot','Hot','Hot','Mild','Cool','Cool','Cool','Mild','Cool','Mild','Mild','Mild','Hot','Mild']\n",
        "play=['No','No','Yes','Yes','Yes','No','Yes','No','Yes','Yes','Yes','Yes','Yes','No']"
      ]
    },
    {
      "cell_type": "code",
      "execution_count": 14,
      "metadata": {
        "colab": {
          "base_uri": "https://localhost:8080/"
        },
        "id": "Ci94B192pHJ9",
        "outputId": "efbc02ec-6f66-4acf-a929-0d214c235513"
      },
      "outputs": [
        {
          "output_type": "stream",
          "name": "stdout",
          "text": [
            "Weather: [2 2 0 1 1 1 0 2 2 1 2 0 0 1]\n",
            "Temp: [1 1 1 2 0 0 0 2 0 2 2 2 1 2]\n",
            "Play: [0 0 1 1 1 0 1 0 1 1 1 1 1 0]\n"
          ]
        }
      ],
      "source": [
        "# Step 3: Digitize the data set using encoding\n",
        "\n",
        "#creating labelEncoder\n",
        "le = preprocessing.LabelEncoder()\n",
        "\n",
        "# Converting string labels into numbers.\n",
        "weather_encoded=le.fit_transform(weather)\n",
        "temp_encoded=le.fit_transform(temp)\n",
        "label=le.fit_transform(play)\n",
        "print(\"Weather:\" ,weather_encoded)\n",
        "print(\"Temp:\",temp_encoded)\n",
        "print(\"Play:\",label)"
      ]
    },
    {
      "cell_type": "code",
      "execution_count": 15,
      "metadata": {
        "colab": {
          "base_uri": "https://localhost:8080/"
        },
        "id": "JEhyHu3SpIr5",
        "outputId": "95181326-2270-4c35-d193-a4333b4eea83"
      },
      "outputs": [
        {
          "output_type": "stream",
          "name": "stdout",
          "text": [
            "Features: ((2, 1), (2, 1), (0, 1), (1, 2), (1, 0), (1, 0), (0, 0), (2, 2), (2, 0), (1, 2), (2, 2), (0, 2), (0, 1), (1, 2))\n"
          ]
        }
      ],
      "source": [
        "# Step 4: Merge different features to prepare dataset\n",
        "\n",
        "#Combinig weather and temp into single listof tuples\n",
        "features=tuple(zip(weather_encoded,temp_encoded))\n",
        "print(\"Features:\",features)\n"
      ]
    },
    {
      "cell_type": "code",
      "execution_count": 16,
      "metadata": {
        "colab": {
          "base_uri": "https://localhost:8080/",
          "height": 75
        },
        "id": "AxZmjl12pK3j",
        "outputId": "7b3a96d2-0cca-4ed6-8343-4eafe26d98d3"
      },
      "outputs": [
        {
          "output_type": "execute_result",
          "data": {
            "text/plain": [
              "MultinomialNB()"
            ],
            "text/html": [
              "<style>#sk-container-id-2 {color: black;background-color: white;}#sk-container-id-2 pre{padding: 0;}#sk-container-id-2 div.sk-toggleable {background-color: white;}#sk-container-id-2 label.sk-toggleable__label {cursor: pointer;display: block;width: 100%;margin-bottom: 0;padding: 0.3em;box-sizing: border-box;text-align: center;}#sk-container-id-2 label.sk-toggleable__label-arrow:before {content: \"▸\";float: left;margin-right: 0.25em;color: #696969;}#sk-container-id-2 label.sk-toggleable__label-arrow:hover:before {color: black;}#sk-container-id-2 div.sk-estimator:hover label.sk-toggleable__label-arrow:before {color: black;}#sk-container-id-2 div.sk-toggleable__content {max-height: 0;max-width: 0;overflow: hidden;text-align: left;background-color: #f0f8ff;}#sk-container-id-2 div.sk-toggleable__content pre {margin: 0.2em;color: black;border-radius: 0.25em;background-color: #f0f8ff;}#sk-container-id-2 input.sk-toggleable__control:checked~div.sk-toggleable__content {max-height: 200px;max-width: 100%;overflow: auto;}#sk-container-id-2 input.sk-toggleable__control:checked~label.sk-toggleable__label-arrow:before {content: \"▾\";}#sk-container-id-2 div.sk-estimator input.sk-toggleable__control:checked~label.sk-toggleable__label {background-color: #d4ebff;}#sk-container-id-2 div.sk-label input.sk-toggleable__control:checked~label.sk-toggleable__label {background-color: #d4ebff;}#sk-container-id-2 input.sk-hidden--visually {border: 0;clip: rect(1px 1px 1px 1px);clip: rect(1px, 1px, 1px, 1px);height: 1px;margin: -1px;overflow: hidden;padding: 0;position: absolute;width: 1px;}#sk-container-id-2 div.sk-estimator {font-family: monospace;background-color: #f0f8ff;border: 1px dotted black;border-radius: 0.25em;box-sizing: border-box;margin-bottom: 0.5em;}#sk-container-id-2 div.sk-estimator:hover {background-color: #d4ebff;}#sk-container-id-2 div.sk-parallel-item::after {content: \"\";width: 100%;border-bottom: 1px solid gray;flex-grow: 1;}#sk-container-id-2 div.sk-label:hover label.sk-toggleable__label {background-color: #d4ebff;}#sk-container-id-2 div.sk-serial::before {content: \"\";position: absolute;border-left: 1px solid gray;box-sizing: border-box;top: 0;bottom: 0;left: 50%;z-index: 0;}#sk-container-id-2 div.sk-serial {display: flex;flex-direction: column;align-items: center;background-color: white;padding-right: 0.2em;padding-left: 0.2em;position: relative;}#sk-container-id-2 div.sk-item {position: relative;z-index: 1;}#sk-container-id-2 div.sk-parallel {display: flex;align-items: stretch;justify-content: center;background-color: white;position: relative;}#sk-container-id-2 div.sk-item::before, #sk-container-id-2 div.sk-parallel-item::before {content: \"\";position: absolute;border-left: 1px solid gray;box-sizing: border-box;top: 0;bottom: 0;left: 50%;z-index: -1;}#sk-container-id-2 div.sk-parallel-item {display: flex;flex-direction: column;z-index: 1;position: relative;background-color: white;}#sk-container-id-2 div.sk-parallel-item:first-child::after {align-self: flex-end;width: 50%;}#sk-container-id-2 div.sk-parallel-item:last-child::after {align-self: flex-start;width: 50%;}#sk-container-id-2 div.sk-parallel-item:only-child::after {width: 0;}#sk-container-id-2 div.sk-dashed-wrapped {border: 1px dashed gray;margin: 0 0.4em 0.5em 0.4em;box-sizing: border-box;padding-bottom: 0.4em;background-color: white;}#sk-container-id-2 div.sk-label label {font-family: monospace;font-weight: bold;display: inline-block;line-height: 1.2em;}#sk-container-id-2 div.sk-label-container {text-align: center;}#sk-container-id-2 div.sk-container {/* jupyter's `normalize.less` sets `[hidden] { display: none; }` but bootstrap.min.css set `[hidden] { display: none !important; }` so we also need the `!important` here to be able to override the default hidden behavior on the sphinx rendered scikit-learn.org. See: https://github.com/scikit-learn/scikit-learn/issues/21755 */display: inline-block !important;position: relative;}#sk-container-id-2 div.sk-text-repr-fallback {display: none;}</style><div id=\"sk-container-id-2\" class=\"sk-top-container\"><div class=\"sk-text-repr-fallback\"><pre>MultinomialNB()</pre><b>In a Jupyter environment, please rerun this cell to show the HTML representation or trust the notebook. <br />On GitHub, the HTML representation is unable to render, please try loading this page with nbviewer.org.</b></div><div class=\"sk-container\" hidden><div class=\"sk-item\"><div class=\"sk-estimator sk-toggleable\"><input class=\"sk-toggleable__control sk-hidden--visually\" id=\"sk-estimator-id-2\" type=\"checkbox\" checked><label for=\"sk-estimator-id-2\" class=\"sk-toggleable__label sk-toggleable__label-arrow\">MultinomialNB</label><div class=\"sk-toggleable__content\"><pre>MultinomialNB()</pre></div></div></div></div></div>"
            ]
          },
          "metadata": {},
          "execution_count": 16
        }
      ],
      "source": [
        "#Create a Classifier\n",
        "model=MultinomialNB()\n",
        "# Train the model using the training sets\n",
        "model.fit(features,label)"
      ]
    },
    {
      "cell_type": "code",
      "execution_count": 17,
      "metadata": {
        "colab": {
          "base_uri": "https://localhost:8080/"
        },
        "id": "jzUTEFGrpMQ8",
        "outputId": "7bbaab24-5739-4ac1-85f9-1f7c47c947b4"
      },
      "outputs": [
        {
          "output_type": "stream",
          "name": "stdout",
          "text": [
            "Predicted Value: [1]\n"
          ]
        }
      ],
      "source": [
        "# Step 6: Predict Output for new data\n",
        "\n",
        "predicted= model.predict([[2,2]]) # 0:Overcast, 2:Mild\n",
        "print(\"Predicted Value:\", predicted)"
      ]
    },
    {
      "cell_type": "markdown",
      "metadata": {
        "id": "6syvdWaVpQ-I"
      },
      "source": [
        "### **EXCERCISE**"
      ]
    },
    {
      "cell_type": "code",
      "execution_count": 18,
      "metadata": {
        "colab": {
          "base_uri": "https://localhost:8080/"
        },
        "id": "epeI09VKpRhU",
        "outputId": "388e22d5-0404-4eec-c24f-fcc8b08fbd12"
      },
      "outputs": [
        {
          "output_type": "stream",
          "name": "stdout",
          "text": [
            "Predicted Value: [1]\n"
          ]
        }
      ],
      "source": [
        "# (1) Will you play if the temperature is ‘Hot’ and weather is ‘overcast’?\n",
        "predicted= model.predict([[0,1]]) # 0:Overcast, 1:Hot\n",
        "print(\"Predicted Value:\", predicted)"
      ]
    },
    {
      "cell_type": "code",
      "execution_count": 19,
      "metadata": {
        "colab": {
          "base_uri": "https://localhost:8080/"
        },
        "id": "uclP3r8gpNmv",
        "outputId": "b6358f9c-c813-454a-b224-5026b97e002f"
      },
      "outputs": [
        {
          "output_type": "stream",
          "name": "stdout",
          "text": [
            "Predicted Value: [1]\n"
          ]
        }
      ],
      "source": [
        "# (2) Will you play if the temperature is ‘Mild’ and weather is ‘Sunny’?\n",
        "predicted= model.predict([[2,2]]) # 2:Sunny, 2:Mild\n",
        "print(\"Predicted Value:\", predicted)"
      ]
    },
    {
      "cell_type": "markdown",
      "metadata": {
        "id": "oRHi-bLcpfjV"
      },
      "source": [
        "> ## Task : 1 :- Try the algo on Dataset3 - OneHotEncoding of features and Train test Division 85%-15%\n",
        "\n",
        "### Questions: For Task - 1\n",
        "\n",
        "(1) What will be the value of Play, if Outlook is ’Rainy’, Temperature is ’Mild’, Humidity =’Nor-\n",
        "mal’, and Wind = ’False’?\n",
        "\n",
        "(2) What will be the value of Play, if Outlook is ’Sunny’, Temeprature is ’Cool’, Humidity =’High’,\n",
        "and Wind = ’True’?\n",
        "\n",
        "(3) Accuracy , precision and recall of both Models?"
      ]
    },
    {
      "cell_type": "code",
      "execution_count": 20,
      "metadata": {
        "id": "DplC-0Vzpa-3"
      },
      "outputs": [],
      "source": [
        "#Import scikit-learn dataset library\n",
        "from sklearn import datasets\n",
        "from sklearn.naive_bayes import GaussianNB\n",
        "import pandas as pd\n",
        "from sklearn import preprocessing"
      ]
    },
    {
      "cell_type": "code",
      "source": [
        "from google.colab import drive\n",
        "drive.mount('/content/drive')"
      ],
      "metadata": {
        "colab": {
          "base_uri": "https://localhost:8080/"
        },
        "id": "kK7lEUhyv39e",
        "outputId": "3273f3a4-911b-46f9-de16-ae4cbc9bd99f"
      },
      "execution_count": 21,
      "outputs": [
        {
          "output_type": "stream",
          "name": "stdout",
          "text": [
            "Drive already mounted at /content/drive; to attempt to forcibly remount, call drive.mount(\"/content/drive\", force_remount=True).\n"
          ]
        }
      ]
    },
    {
      "cell_type": "code",
      "execution_count": 22,
      "metadata": {
        "colab": {
          "base_uri": "https://localhost:8080/",
          "height": 488
        },
        "id": "4FxMm-lhpiDw",
        "outputId": "a1a0d973-9bbe-41c8-ea97-3f7bfed3cfb5"
      },
      "outputs": [
        {
          "output_type": "execute_result",
          "data": {
            "text/plain": [
              "   Outlook Temp Wind  Humidity  Class\n",
              "0        R    H    F         1      0\n",
              "1        R    H    T         2      0\n",
              "2        O    H    F         1      1\n",
              "3        R    M    F         1      1\n",
              "4        S    C    F         1      1\n",
              "5        O    C    T         0      0\n",
              "6        O    C    T         1      1\n",
              "7        R    M    F         1      0\n",
              "8        O    C    F         0      1\n",
              "9        S    M    F         2      1\n",
              "10       R    C    T         2      0\n",
              "11       O    M    T         0      1\n",
              "12       O    H    F         1      1\n",
              "13       S    M    T         1      0"
            ],
            "text/html": [
              "\n",
              "  <div id=\"df-0f1f0497-21e3-4fa0-94ed-1e1d6eb6ad99\">\n",
              "    <div class=\"colab-df-container\">\n",
              "      <div>\n",
              "<style scoped>\n",
              "    .dataframe tbody tr th:only-of-type {\n",
              "        vertical-align: middle;\n",
              "    }\n",
              "\n",
              "    .dataframe tbody tr th {\n",
              "        vertical-align: top;\n",
              "    }\n",
              "\n",
              "    .dataframe thead th {\n",
              "        text-align: right;\n",
              "    }\n",
              "</style>\n",
              "<table border=\"1\" class=\"dataframe\">\n",
              "  <thead>\n",
              "    <tr style=\"text-align: right;\">\n",
              "      <th></th>\n",
              "      <th>Outlook</th>\n",
              "      <th>Temp</th>\n",
              "      <th>Wind</th>\n",
              "      <th>Humidity</th>\n",
              "      <th>Class</th>\n",
              "    </tr>\n",
              "  </thead>\n",
              "  <tbody>\n",
              "    <tr>\n",
              "      <th>0</th>\n",
              "      <td>R</td>\n",
              "      <td>H</td>\n",
              "      <td>F</td>\n",
              "      <td>1</td>\n",
              "      <td>0</td>\n",
              "    </tr>\n",
              "    <tr>\n",
              "      <th>1</th>\n",
              "      <td>R</td>\n",
              "      <td>H</td>\n",
              "      <td>T</td>\n",
              "      <td>2</td>\n",
              "      <td>0</td>\n",
              "    </tr>\n",
              "    <tr>\n",
              "      <th>2</th>\n",
              "      <td>O</td>\n",
              "      <td>H</td>\n",
              "      <td>F</td>\n",
              "      <td>1</td>\n",
              "      <td>1</td>\n",
              "    </tr>\n",
              "    <tr>\n",
              "      <th>3</th>\n",
              "      <td>R</td>\n",
              "      <td>M</td>\n",
              "      <td>F</td>\n",
              "      <td>1</td>\n",
              "      <td>1</td>\n",
              "    </tr>\n",
              "    <tr>\n",
              "      <th>4</th>\n",
              "      <td>S</td>\n",
              "      <td>C</td>\n",
              "      <td>F</td>\n",
              "      <td>1</td>\n",
              "      <td>1</td>\n",
              "    </tr>\n",
              "    <tr>\n",
              "      <th>5</th>\n",
              "      <td>O</td>\n",
              "      <td>C</td>\n",
              "      <td>T</td>\n",
              "      <td>0</td>\n",
              "      <td>0</td>\n",
              "    </tr>\n",
              "    <tr>\n",
              "      <th>6</th>\n",
              "      <td>O</td>\n",
              "      <td>C</td>\n",
              "      <td>T</td>\n",
              "      <td>1</td>\n",
              "      <td>1</td>\n",
              "    </tr>\n",
              "    <tr>\n",
              "      <th>7</th>\n",
              "      <td>R</td>\n",
              "      <td>M</td>\n",
              "      <td>F</td>\n",
              "      <td>1</td>\n",
              "      <td>0</td>\n",
              "    </tr>\n",
              "    <tr>\n",
              "      <th>8</th>\n",
              "      <td>O</td>\n",
              "      <td>C</td>\n",
              "      <td>F</td>\n",
              "      <td>0</td>\n",
              "      <td>1</td>\n",
              "    </tr>\n",
              "    <tr>\n",
              "      <th>9</th>\n",
              "      <td>S</td>\n",
              "      <td>M</td>\n",
              "      <td>F</td>\n",
              "      <td>2</td>\n",
              "      <td>1</td>\n",
              "    </tr>\n",
              "    <tr>\n",
              "      <th>10</th>\n",
              "      <td>R</td>\n",
              "      <td>C</td>\n",
              "      <td>T</td>\n",
              "      <td>2</td>\n",
              "      <td>0</td>\n",
              "    </tr>\n",
              "    <tr>\n",
              "      <th>11</th>\n",
              "      <td>O</td>\n",
              "      <td>M</td>\n",
              "      <td>T</td>\n",
              "      <td>0</td>\n",
              "      <td>1</td>\n",
              "    </tr>\n",
              "    <tr>\n",
              "      <th>12</th>\n",
              "      <td>O</td>\n",
              "      <td>H</td>\n",
              "      <td>F</td>\n",
              "      <td>1</td>\n",
              "      <td>1</td>\n",
              "    </tr>\n",
              "    <tr>\n",
              "      <th>13</th>\n",
              "      <td>S</td>\n",
              "      <td>M</td>\n",
              "      <td>T</td>\n",
              "      <td>1</td>\n",
              "      <td>0</td>\n",
              "    </tr>\n",
              "  </tbody>\n",
              "</table>\n",
              "</div>\n",
              "      <button class=\"colab-df-convert\" onclick=\"convertToInteractive('df-0f1f0497-21e3-4fa0-94ed-1e1d6eb6ad99')\"\n",
              "              title=\"Convert this dataframe to an interactive table.\"\n",
              "              style=\"display:none;\">\n",
              "        \n",
              "  <svg xmlns=\"http://www.w3.org/2000/svg\" height=\"24px\"viewBox=\"0 0 24 24\"\n",
              "       width=\"24px\">\n",
              "    <path d=\"M0 0h24v24H0V0z\" fill=\"none\"/>\n",
              "    <path d=\"M18.56 5.44l.94 2.06.94-2.06 2.06-.94-2.06-.94-.94-2.06-.94 2.06-2.06.94zm-11 1L8.5 8.5l.94-2.06 2.06-.94-2.06-.94L8.5 2.5l-.94 2.06-2.06.94zm10 10l.94 2.06.94-2.06 2.06-.94-2.06-.94-.94-2.06-.94 2.06-2.06.94z\"/><path d=\"M17.41 7.96l-1.37-1.37c-.4-.4-.92-.59-1.43-.59-.52 0-1.04.2-1.43.59L10.3 9.45l-7.72 7.72c-.78.78-.78 2.05 0 2.83L4 21.41c.39.39.9.59 1.41.59.51 0 1.02-.2 1.41-.59l7.78-7.78 2.81-2.81c.8-.78.8-2.07 0-2.86zM5.41 20L4 18.59l7.72-7.72 1.47 1.35L5.41 20z\"/>\n",
              "  </svg>\n",
              "      </button>\n",
              "      \n",
              "  <style>\n",
              "    .colab-df-container {\n",
              "      display:flex;\n",
              "      flex-wrap:wrap;\n",
              "      gap: 12px;\n",
              "    }\n",
              "\n",
              "    .colab-df-convert {\n",
              "      background-color: #E8F0FE;\n",
              "      border: none;\n",
              "      border-radius: 50%;\n",
              "      cursor: pointer;\n",
              "      display: none;\n",
              "      fill: #1967D2;\n",
              "      height: 32px;\n",
              "      padding: 0 0 0 0;\n",
              "      width: 32px;\n",
              "    }\n",
              "\n",
              "    .colab-df-convert:hover {\n",
              "      background-color: #E2EBFA;\n",
              "      box-shadow: 0px 1px 2px rgba(60, 64, 67, 0.3), 0px 1px 3px 1px rgba(60, 64, 67, 0.15);\n",
              "      fill: #174EA6;\n",
              "    }\n",
              "\n",
              "    [theme=dark] .colab-df-convert {\n",
              "      background-color: #3B4455;\n",
              "      fill: #D2E3FC;\n",
              "    }\n",
              "\n",
              "    [theme=dark] .colab-df-convert:hover {\n",
              "      background-color: #434B5C;\n",
              "      box-shadow: 0px 1px 3px 1px rgba(0, 0, 0, 0.15);\n",
              "      filter: drop-shadow(0px 1px 2px rgba(0, 0, 0, 0.3));\n",
              "      fill: #FFFFFF;\n",
              "    }\n",
              "  </style>\n",
              "\n",
              "      <script>\n",
              "        const buttonEl =\n",
              "          document.querySelector('#df-0f1f0497-21e3-4fa0-94ed-1e1d6eb6ad99 button.colab-df-convert');\n",
              "        buttonEl.style.display =\n",
              "          google.colab.kernel.accessAllowed ? 'block' : 'none';\n",
              "\n",
              "        async function convertToInteractive(key) {\n",
              "          const element = document.querySelector('#df-0f1f0497-21e3-4fa0-94ed-1e1d6eb6ad99');\n",
              "          const dataTable =\n",
              "            await google.colab.kernel.invokeFunction('convertToInteractive',\n",
              "                                                     [key], {});\n",
              "          if (!dataTable) return;\n",
              "\n",
              "          const docLinkHtml = 'Like what you see? Visit the ' +\n",
              "            '<a target=\"_blank\" href=https://colab.research.google.com/notebooks/data_table.ipynb>data table notebook</a>'\n",
              "            + ' to learn more about interactive tables.';\n",
              "          element.innerHTML = '';\n",
              "          dataTable['output_type'] = 'display_data';\n",
              "          await google.colab.output.renderOutput(dataTable, element);\n",
              "          const docLink = document.createElement('div');\n",
              "          docLink.innerHTML = docLinkHtml;\n",
              "          element.appendChild(docLink);\n",
              "        }\n",
              "      </script>\n",
              "    </div>\n",
              "  </div>\n",
              "  "
            ]
          },
          "metadata": {},
          "execution_count": 22
        }
      ],
      "source": [
        "datasets = pd.read_csv('/content/drive/MyDrive/SEM6/CE148_Machine-Learning-Practicals-main/Practical-03/Dataset3.csv')\n",
        "datasets"
      ]
    },
    {
      "cell_type": "code",
      "execution_count": 23,
      "metadata": {
        "colab": {
          "base_uri": "https://localhost:8080/"
        },
        "id": "jUF-rNqQppMc",
        "outputId": "8049be87-db47-4a2b-8753-aa76af3310f5"
      },
      "outputs": [
        {
          "output_type": "stream",
          "name": "stdout",
          "text": [
            "    Outlook_O  Outlook_R  Outlook_S  Temp_C  Temp_H  Temp_M  Wind_F  Wind_T\n",
            "0         0.0        1.0        0.0     0.0     1.0     0.0     1.0     0.0\n",
            "1         0.0        1.0        0.0     0.0     1.0     0.0     0.0     1.0\n",
            "2         1.0        0.0        0.0     0.0     1.0     0.0     1.0     0.0\n",
            "3         0.0        1.0        0.0     0.0     0.0     1.0     1.0     0.0\n",
            "4         0.0        0.0        1.0     1.0     0.0     0.0     1.0     0.0\n",
            "5         1.0        0.0        0.0     1.0     0.0     0.0     0.0     1.0\n",
            "6         1.0        0.0        0.0     1.0     0.0     0.0     0.0     1.0\n",
            "7         0.0        1.0        0.0     0.0     0.0     1.0     1.0     0.0\n",
            "8         1.0        0.0        0.0     1.0     0.0     0.0     1.0     0.0\n",
            "9         0.0        0.0        1.0     0.0     0.0     1.0     1.0     0.0\n",
            "10        0.0        1.0        0.0     1.0     0.0     0.0     0.0     1.0\n",
            "11        1.0        0.0        0.0     0.0     0.0     1.0     0.0     1.0\n",
            "12        1.0        0.0        0.0     0.0     1.0     0.0     1.0     0.0\n",
            "13        0.0        0.0        1.0     0.0     0.0     1.0     0.0     1.0\n",
            "    Humidity  Class  Outlook_O  Outlook_R  Outlook_S  Temp_C  Temp_H  Temp_M  \\\n",
            "0          1      0        0.0        1.0        0.0     0.0     1.0     0.0   \n",
            "1          2      0        0.0        1.0        0.0     0.0     1.0     0.0   \n",
            "2          1      1        1.0        0.0        0.0     0.0     1.0     0.0   \n",
            "3          1      1        0.0        1.0        0.0     0.0     0.0     1.0   \n",
            "4          1      1        0.0        0.0        1.0     1.0     0.0     0.0   \n",
            "5          0      0        1.0        0.0        0.0     1.0     0.0     0.0   \n",
            "6          1      1        1.0        0.0        0.0     1.0     0.0     0.0   \n",
            "7          1      0        0.0        1.0        0.0     0.0     0.0     1.0   \n",
            "8          0      1        1.0        0.0        0.0     1.0     0.0     0.0   \n",
            "9          2      1        0.0        0.0        1.0     0.0     0.0     1.0   \n",
            "10         2      0        0.0        1.0        0.0     1.0     0.0     0.0   \n",
            "11         0      1        1.0        0.0        0.0     0.0     0.0     1.0   \n",
            "12         1      1        1.0        0.0        0.0     0.0     1.0     0.0   \n",
            "13         1      0        0.0        0.0        1.0     0.0     0.0     1.0   \n",
            "\n",
            "    Wind_F  Wind_T  \n",
            "0      1.0     0.0  \n",
            "1      0.0     1.0  \n",
            "2      1.0     0.0  \n",
            "3      1.0     0.0  \n",
            "4      1.0     0.0  \n",
            "5      0.0     1.0  \n",
            "6      0.0     1.0  \n",
            "7      1.0     0.0  \n",
            "8      1.0     0.0  \n",
            "9      1.0     0.0  \n",
            "10     0.0     1.0  \n",
            "11     0.0     1.0  \n",
            "12     1.0     0.0  \n",
            "13     0.0     1.0  \n"
          ]
        }
      ],
      "source": [
        "from sklearn.preprocessing import OneHotEncoder\n",
        "\n",
        "le = preprocessing.OneHotEncoder()\n",
        "Out_train = datasets.select_dtypes('object')\n",
        "Temp_train = datasets.select_dtypes('object')\n",
        "Wind_train = datasets.select_dtypes('object')\n",
        "\n",
        "out_end = le.fit_transform(Out_train).toarray()\n",
        "Temp_end = le.fit_transform(Temp_train).toarray()\n",
        "wind_end = le.fit_transform(Wind_train).toarray()\n",
        "\n",
        "train = pd.DataFrame(out_end,columns=le.get_feature_names_out(Out_train.columns))\n",
        "# print(train)\n",
        "train = pd.DataFrame(out_end,columns=le.get_feature_names_out(Out_train.columns))\n",
        "train = pd.DataFrame(out_end,columns=le.get_feature_names_out(Out_train.columns))\n",
        "print(train)\n",
        "# print(datasets)\n",
        "# df = pd.merge(train,datasets)\n",
        "datasets = pd.DataFrame.join(datasets,train)\n",
        "# print(datasets)\n",
        "# datasets['Outlook'] = datasets['Outlook'].astype('category')\n",
        "# datasets['Temp'] = datasets['Outlook'].astype('category')\n",
        "# datasets['Wind'] = datasets['Outlook'].astype('category')\n",
        "\n",
        "# datasets['Outlook_new'] = datasets['Outlook'].cat.codes\n",
        "# datasets['Temp_new'] = datasets['Outlook'].cat.codes\n",
        "# datasets['Wind_new'] = datasets['Outlook'].cat.codes\n",
        "\n",
        "# enc_data = pd.DataFrame(le.fit_transform(datasets[['Outlook_new','Temp_new','Wind_new']]).toarray())\n",
        "# one_hot_encoded_data = pd.get_dummies(datasets, columns = ['Outlook','Temp','Wind'])\n",
        "datasets.drop(['Outlook', 'Temp','Wind'], axis=1, inplace=True)\n",
        "print(datasets)\n",
        "# datasets\n",
        "# new_df = datasets.join(enc_data)\n",
        "# one_hot_encoded_data\n"
      ]
    },
    {
      "cell_type": "code",
      "execution_count": 24,
      "metadata": {
        "colab": {
          "base_uri": "https://localhost:8080/"
        },
        "id": "JZJhU1oKprm0",
        "outputId": "5ef5a2dd-994d-4040-f2eb-6a0e2cdc793a"
      },
      "outputs": [
        {
          "output_type": "execute_result",
          "data": {
            "text/plain": [
              "array([[1., 0., 0., 1., 0., 0., 1., 0., 1.],\n",
              "       [2., 1., 0., 1., 0., 0., 1., 0., 0.],\n",
              "       [1., 0., 1., 0., 0., 0., 1., 0., 1.],\n",
              "       [1., 0., 0., 1., 0., 0., 0., 1., 1.],\n",
              "       [1., 0., 0., 0., 1., 1., 0., 0., 1.],\n",
              "       [0., 1., 1., 0., 0., 1., 0., 0., 0.],\n",
              "       [1., 1., 1., 0., 0., 1., 0., 0., 0.],\n",
              "       [1., 0., 0., 1., 0., 0., 0., 1., 1.],\n",
              "       [0., 0., 1., 0., 0., 1., 0., 0., 1.],\n",
              "       [2., 0., 0., 0., 1., 0., 0., 1., 1.],\n",
              "       [2., 1., 0., 1., 0., 1., 0., 0., 0.],\n",
              "       [0., 1., 1., 0., 0., 0., 0., 1., 0.],\n",
              "       [1., 0., 1., 0., 0., 0., 1., 0., 1.],\n",
              "       [1., 1., 0., 0., 1., 0., 0., 1., 0.]])"
            ]
          },
          "metadata": {},
          "execution_count": 24
        }
      ],
      "source": [
        "features = datasets.iloc[:,0:9].values\n",
        "features[:,0] = datasets.iloc[:,0].values\n",
        "features[:,1] = datasets.iloc[:,2].values\n",
        "features[:,1] = datasets.iloc[:,3].values\n",
        "features[:,1] = datasets.iloc[:,4].values\n",
        "features[:,1] = datasets.iloc[:,5].values\n",
        "features[:,1] = datasets.iloc[:,6].values\n",
        "features[:,1] = datasets.iloc[:,7].values\n",
        "features[:,1] = datasets.iloc[:,8].values\n",
        "features[:,1] = datasets.iloc[:,9].values\n",
        "# features[:,1] = datasets.iloc[:,2].values\n",
        "features"
      ]
    },
    {
      "cell_type": "code",
      "execution_count": 25,
      "metadata": {
        "colab": {
          "base_uri": "https://localhost:8080/"
        },
        "id": "j_Be_3pVptmW",
        "outputId": "c31037b7-a70c-4b65-a57b-c1ad5473e1a9"
      },
      "outputs": [
        {
          "output_type": "execute_result",
          "data": {
            "text/plain": [
              "array([0, 0, 1, 1, 1, 0, 1, 0, 1, 1, 0, 1, 1, 0])"
            ]
          },
          "metadata": {},
          "execution_count": 25
        }
      ],
      "source": [
        "label = datasets.iloc[:,1].values\n",
        "label"
      ]
    },
    {
      "cell_type": "code",
      "execution_count": 26,
      "metadata": {
        "colab": {
          "base_uri": "https://localhost:8080/"
        },
        "id": "CnWPhwBDpuIJ",
        "outputId": "14c12f3e-3af7-4a6a-a940-11de0fcd710e"
      },
      "outputs": [
        {
          "output_type": "stream",
          "name": "stdout",
          "text": [
            "Traing data : \n",
            " [[2. 1. 0. 1. 0. 0. 1. 0. 0.]\n",
            " [0. 0. 1. 0. 0. 1. 0. 0. 1.]\n",
            " [1. 0. 1. 0. 0. 0. 1. 0. 1.]\n",
            " [1. 0. 1. 0. 0. 0. 1. 0. 1.]\n",
            " [1. 1. 1. 0. 0. 1. 0. 0. 0.]\n",
            " [0. 1. 1. 0. 0. 0. 0. 1. 0.]\n",
            " [2. 1. 0. 1. 0. 1. 0. 0. 0.]\n",
            " [1. 1. 0. 0. 1. 0. 0. 1. 0.]\n",
            " [2. 0. 0. 0. 1. 0. 0. 1. 1.]\n",
            " [1. 0. 0. 1. 0. 0. 0. 1. 1.]\n",
            " [1. 0. 0. 1. 0. 0. 1. 0. 1.]]\n",
            "\n",
            "Testing data : \n",
            " [[1. 0. 0. 1. 0. 0. 0. 1. 1.]\n",
            " [1. 0. 0. 0. 1. 1. 0. 0. 1.]\n",
            " [0. 1. 1. 0. 0. 1. 0. 0. 0.]]\n",
            "\n",
            "Target train : \n",
            " [0 1 1 1 1 1 0 0 1 1 0]\n",
            "\n",
            "Target test : \n",
            " [0 1 0]\n"
          ]
        }
      ],
      "source": [
        "#import the necessary module\n",
        "from sklearn.model_selection import train_test_split\n",
        "#split data set into train and test sets\n",
        "data_train, data_test, target_train, target_test = train_test_split(features,label, test_size = 0.15, random_state = 110)\n",
        "print(\"Traing data : \\n\",data_train)\n",
        "print(\"\\nTesting data : \\n\",data_test)\n",
        "print(\"\\nTarget train : \\n\",target_train)\n",
        "print(\"\\nTarget test : \\n\",target_test)"
      ]
    },
    {
      "cell_type": "code",
      "execution_count": 27,
      "metadata": {
        "colab": {
          "base_uri": "https://localhost:8080/"
        },
        "id": "UDuw7a70puDW",
        "outputId": "cac4b3b7-a029-43c2-bab2-543a226857e1"
      },
      "outputs": [
        {
          "output_type": "execute_result",
          "data": {
            "text/plain": [
              "array([0, 0, 1])"
            ]
          },
          "metadata": {},
          "execution_count": 27
        }
      ],
      "source": [
        "import numpy as np\n",
        "gnb = GaussianNB()\n",
        "\n",
        "#Train the model using the training sets\n",
        "gnb.fit(data_train, target_train)\n",
        "\n",
        "#Predict the response for test dataset\n",
        "target_pred = gnb.predict(data_test)\n",
        "target_pred"
      ]
    },
    {
      "cell_type": "code",
      "execution_count": 28,
      "metadata": {
        "colab": {
          "base_uri": "https://localhost:8080/"
        },
        "id": "Q-md16popxR1",
        "outputId": "9c2bf63d-6ddb-4b98-f0c5-d43dd527c474"
      },
      "outputs": [
        {
          "output_type": "execute_result",
          "data": {
            "text/plain": [
              "array([1])"
            ]
          },
          "metadata": {},
          "execution_count": 28
        }
      ],
      "source": [
        "# (1) What will be the value of Play, if Outlook is ’Rainy’, Temperature is ’Mild’, Humidity =’Nor-\n",
        "# mal’, and Wind = ’False’?\n",
        "predicted = gnb.predict([[1,0,1,0,0,0,1,1,0]])\n",
        "predicted"
      ]
    },
    {
      "cell_type": "code",
      "execution_count": 29,
      "metadata": {
        "colab": {
          "base_uri": "https://localhost:8080/"
        },
        "id": "lwKdZMz1pybH",
        "outputId": "2e8ad18a-e549-40f6-8fa2-4930e5e295cc"
      },
      "outputs": [
        {
          "output_type": "execute_result",
          "data": {
            "text/plain": [
              "array([0])"
            ]
          },
          "metadata": {},
          "execution_count": 29
        }
      ],
      "source": [
        "# (2) What will be the value of Play, if Outlook is ’Sunny’, Temeprature is ’Cool’, Humidity =’High’,\n",
        "# and Wind = ’True’?\n",
        "\n",
        "predicted = gnb.predict([[2,0,0,1,1,0,0,0,1]])\n",
        "predicted"
      ]
    },
    {
      "cell_type": "code",
      "execution_count": 30,
      "metadata": {
        "colab": {
          "base_uri": "https://localhost:8080/"
        },
        "id": "vYc7RlaLpyXw",
        "outputId": "271a761e-effd-4723-b4bb-1b9ec7905bf0"
      },
      "outputs": [
        {
          "output_type": "stream",
          "name": "stdout",
          "text": [
            "Accuracy: 0.3333333333333333\n"
          ]
        }
      ],
      "source": [
        "# (3) Accuracy , precision and recall of both Models?\n",
        "\n",
        "#Import scikit-learn metrics module for accuracy calculation\n",
        "from sklearn import metrics\n",
        "\n",
        "# Model Accuracy, how often is the classifier correct?\n",
        "print(\"Accuracy:\",metrics.accuracy_score(target_test, target_pred))"
      ]
    },
    {
      "cell_type": "code",
      "execution_count": 31,
      "metadata": {
        "colab": {
          "base_uri": "https://localhost:8080/"
        },
        "id": "S47Z3rDnpyVQ",
        "outputId": "b1746ff9-841d-4380-c496-fde51b57f636"
      },
      "outputs": [
        {
          "output_type": "execute_result",
          "data": {
            "text/plain": [
              "array([[1, 1],\n",
              "       [1, 0]])"
            ]
          },
          "metadata": {},
          "execution_count": 31
        }
      ],
      "source": [
        "#Import confusion_matrix from scikit-learn metrics module for confusion_matrix\n",
        "from sklearn.metrics import confusion_matrix\n",
        "confusion_matrix(target_test, target_pred)"
      ]
    },
    {
      "cell_type": "code",
      "execution_count": 32,
      "metadata": {
        "colab": {
          "base_uri": "https://localhost:8080/"
        },
        "id": "BvpMFvGlpyS4",
        "outputId": "72df697d-732d-4efa-fa61-9b9e4bc7c8d2"
      },
      "outputs": [
        {
          "output_type": "stream",
          "name": "stdout",
          "text": [
            "precision: [0.5 0. ]\n",
            "recall: [0.5 0. ]\n"
          ]
        }
      ],
      "source": [
        "from sklearn.metrics import precision_score\n",
        "from sklearn.metrics import recall_score\n",
        "precision = precision_score(target_test, target_pred, average=None)\n",
        "recall = recall_score(target_test, target_pred, average=None)\n",
        "print('precision: {}'.format(precision))\n",
        "print('recall: {}'.format(recall))"
      ]
    },
    {
      "cell_type": "markdown",
      "metadata": {
        "id": "urSTbqSuq454"
      },
      "source": [
        "> ## Task 2: Try the algo on Wine datasets - OneHotEncoding of features:and Train test Division 85%-15%"
      ]
    },
    {
      "cell_type": "code",
      "execution_count": 33,
      "metadata": {
        "id": "HlikhfICpyQH"
      },
      "outputs": [],
      "source": [
        "from sklearn import datasets\n",
        "\n",
        "wine = datasets.load_wine()\n",
        "X = wine.data\n",
        "y= wine.target"
      ]
    },
    {
      "cell_type": "code",
      "execution_count": 34,
      "metadata": {
        "colab": {
          "base_uri": "https://localhost:8080/"
        },
        "id": "01k9XomqpyNl",
        "outputId": "d9c20766-5834-4c93-9842-dc14e5023afb"
      },
      "outputs": [
        {
          "output_type": "stream",
          "name": "stdout",
          "text": [
            "Feature names: ['alcohol', 'malic_acid', 'ash', 'alcalinity_of_ash', 'magnesium', 'total_phenols', 'flavanoids', 'nonflavanoid_phenols', 'proanthocyanins', 'color_intensity', 'hue', 'od280/od315_of_diluted_wines', 'proline']\n",
            "\n",
            "Target names: ['class_0' 'class_1' 'class_2']\n",
            "\n",
            "\n",
            "First 10 rows of X:\n",
            " [[1.423e+01 1.710e+00 2.430e+00 1.560e+01 1.270e+02 2.800e+00 3.060e+00\n",
            "  2.800e-01 2.290e+00 5.640e+00 1.040e+00 3.920e+00 1.065e+03]\n",
            " [1.320e+01 1.780e+00 2.140e+00 1.120e+01 1.000e+02 2.650e+00 2.760e+00\n",
            "  2.600e-01 1.280e+00 4.380e+00 1.050e+00 3.400e+00 1.050e+03]\n",
            " [1.316e+01 2.360e+00 2.670e+00 1.860e+01 1.010e+02 2.800e+00 3.240e+00\n",
            "  3.000e-01 2.810e+00 5.680e+00 1.030e+00 3.170e+00 1.185e+03]\n",
            " [1.437e+01 1.950e+00 2.500e+00 1.680e+01 1.130e+02 3.850e+00 3.490e+00\n",
            "  2.400e-01 2.180e+00 7.800e+00 8.600e-01 3.450e+00 1.480e+03]\n",
            " [1.324e+01 2.590e+00 2.870e+00 2.100e+01 1.180e+02 2.800e+00 2.690e+00\n",
            "  3.900e-01 1.820e+00 4.320e+00 1.040e+00 2.930e+00 7.350e+02]\n",
            " [1.420e+01 1.760e+00 2.450e+00 1.520e+01 1.120e+02 3.270e+00 3.390e+00\n",
            "  3.400e-01 1.970e+00 6.750e+00 1.050e+00 2.850e+00 1.450e+03]\n",
            " [1.439e+01 1.870e+00 2.450e+00 1.460e+01 9.600e+01 2.500e+00 2.520e+00\n",
            "  3.000e-01 1.980e+00 5.250e+00 1.020e+00 3.580e+00 1.290e+03]\n",
            " [1.406e+01 2.150e+00 2.610e+00 1.760e+01 1.210e+02 2.600e+00 2.510e+00\n",
            "  3.100e-01 1.250e+00 5.050e+00 1.060e+00 3.580e+00 1.295e+03]\n",
            " [1.483e+01 1.640e+00 2.170e+00 1.400e+01 9.700e+01 2.800e+00 2.980e+00\n",
            "  2.900e-01 1.980e+00 5.200e+00 1.080e+00 2.850e+00 1.045e+03]\n",
            " [1.386e+01 1.350e+00 2.270e+00 1.600e+01 9.800e+01 2.980e+00 3.150e+00\n",
            "  2.200e-01 1.850e+00 7.220e+00 1.010e+00 3.550e+00 1.045e+03]]\n"
          ]
        }
      ],
      "source": [
        "feature_names = wine.feature_names\n",
        "target_names = wine.target_names\n",
        "print(\"Feature names:\", feature_names)\n",
        "print()\n",
        "print(\"Target names:\", target_names)\n",
        "print()\n",
        "print(\"\\nFirst 10 rows of X:\\n\", X[:10])"
      ]
    },
    {
      "cell_type": "code",
      "execution_count": 35,
      "metadata": {
        "id": "ZaRpZtyDpyKo"
      },
      "outputs": [],
      "source": [
        "#import the necessary module\n",
        "from sklearn.model_selection import train_test_split\n",
        "\n",
        "#split data set into train and test sets\n",
        "data_train, data_test, target_train, target_test = train_test_split(X,y, test_size = 0.34, random_state = 110)"
      ]
    },
    {
      "cell_type": "code",
      "execution_count": 36,
      "metadata": {
        "colab": {
          "base_uri": "https://localhost:8080/"
        },
        "id": "uUcO4G1wpyHi",
        "outputId": "4843e72d-b03c-438f-8162-ffe36a8a8f02"
      },
      "outputs": [
        {
          "output_type": "execute_result",
          "data": {
            "text/plain": [
              "array([1, 2, 1, 0, 1, 1, 1, 1, 2, 1, 1, 0, 0, 1, 0, 2, 1, 2, 0, 1, 0, 2,\n",
              "       2, 1, 0, 1, 2, 2, 1, 1, 1, 1, 1, 1, 0, 1, 0, 0, 0, 1, 1, 0, 0, 0,\n",
              "       0, 2, 2, 0, 1, 1, 1, 0, 1, 2, 0, 1, 1, 0, 0, 0, 2])"
            ]
          },
          "metadata": {},
          "execution_count": 36
        }
      ],
      "source": [
        "import numpy as np\n",
        "gnb = GaussianNB()\n",
        "\n",
        "#Train the model using the training sets\n",
        "gnb.fit(data_train, target_train)\n",
        "\n",
        "#Predict the response for test dataset\n",
        "target_pred = gnb.predict(data_test)\n",
        "target_pred"
      ]
    },
    {
      "cell_type": "code",
      "execution_count": 37,
      "metadata": {
        "colab": {
          "base_uri": "https://localhost:8080/"
        },
        "id": "1L2dTBkHpyFJ",
        "outputId": "35365c5f-f6e4-4d0d-8fc4-cb530250f5aa"
      },
      "outputs": [
        {
          "output_type": "stream",
          "name": "stdout",
          "text": [
            "Accuracy: 0.9508196721311475\n"
          ]
        }
      ],
      "source": [
        "#Import scikit-learn metrics module for accuracy calculation\n",
        "from sklearn import metrics\n",
        "\n",
        "# Model Accuracy, how often is the classifier correct?\n",
        "print(\"Accuracy:\",metrics.accuracy_score(target_test, target_pred))"
      ]
    },
    {
      "cell_type": "code",
      "execution_count": 38,
      "metadata": {
        "colab": {
          "base_uri": "https://localhost:8080/"
        },
        "id": "awbZlUfhpyCC",
        "outputId": "fffa85d9-a2dd-47be-bc40-e6d559469c22"
      },
      "outputs": [
        {
          "output_type": "execute_result",
          "data": {
            "text/plain": [
              "array([[21,  2,  0],\n",
              "       [ 0, 26,  1],\n",
              "       [ 0,  0, 11]])"
            ]
          },
          "metadata": {},
          "execution_count": 38
        }
      ],
      "source": [
        "#Import confusion_matrix from scikit-learn metrics module for confusion_matrix\n",
        "from sklearn.metrics import confusion_matrix\n",
        "confusion_matrix(target_test, target_pred)"
      ]
    },
    {
      "cell_type": "code",
      "execution_count": 39,
      "metadata": {
        "colab": {
          "base_uri": "https://localhost:8080/"
        },
        "id": "CatcGNzVpx_c",
        "outputId": "e97d8327-7001-4f94-b797-a25984cad178"
      },
      "outputs": [
        {
          "output_type": "stream",
          "name": "stdout",
          "text": [
            "precision: [1.         0.92857143 0.91666667]\n",
            "recall: [0.91304348 0.96296296 1.        ]\n"
          ]
        }
      ],
      "source": [
        "from sklearn.metrics import precision_score\n",
        "from sklearn.metrics import recall_score\n",
        "precision = precision_score(target_test, target_pred, average=None)\n",
        "recall = recall_score(target_test, target_pred, average=None)\n",
        "print('precision: {}'.format(precision))\n",
        "print('recall: {}'.format(recall))"
      ]
    }
  ],
  "metadata": {
    "colab": {
      "provenance": []
    },
    "kernelspec": {
      "display_name": "Python 3",
      "language": "python",
      "name": "python3"
    },
    "language_info": {
      "name": "python",
      "version": "3.8.0 (tags/v3.8.0:fa919fd, Oct 14 2019, 19:37:50) [MSC v.1916 64 bit (AMD64)]"
    },
    "vscode": {
      "interpreter": {
        "hash": "e0144baad0ecee903f108a3e46e51ceadd7da3fc904cfa79747d813b61464b4e"
      }
    }
  },
  "nbformat": 4,
  "nbformat_minor": 0
}