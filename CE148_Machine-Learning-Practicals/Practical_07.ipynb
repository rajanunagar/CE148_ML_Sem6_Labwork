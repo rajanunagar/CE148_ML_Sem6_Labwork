{
  "nbformat": 4,
  "nbformat_minor": 0,
  "metadata": {
    "colab": {
      "provenance": []
    },
    "kernelspec": {
      "name": "python3",
      "display_name": "Python 3"
    },
    "language_info": {
      "name": "python"
    }
  },
  "cells": [
    {
      "cell_type": "markdown",
      "source": [
        "# **Practical - 07** : Logistic Regression\n",
        "\n",
        "> ### **Objective** : Implement Logistic Regression Algorithm on the given dataset"
      ],
      "metadata": {
        "id": "TCASY2LgcR0m"
      }
    },
    {
      "cell_type": "code",
      "execution_count": null,
      "metadata": {
        "id": "SwHgg5eZx4h7"
      },
      "outputs": [],
      "source": [
        "import numpy as np\n",
        "import pandas as pd\n",
        "import io\n",
        "import matplotlib.pyplot as plt"
      ]
    },
    {
      "cell_type": "code",
      "source": [
        "from google.colab import drive\n",
        "drive.mount('/content/drive')"
      ],
      "metadata": {
        "colab": {
          "base_uri": "https://localhost:8080/"
        },
        "id": "HNiP_v-ta-nW",
        "outputId": "83eb4dd4-83f5-465a-a7d4-b4e23c79fe7c"
      },
      "execution_count": null,
      "outputs": [
        {
          "output_type": "stream",
          "name": "stdout",
          "text": [
            "Mounted at /content/drive\n"
          ]
        }
      ]
    },
    {
      "cell_type": "code",
      "source": [
        "data = pd.read_csv(\"/content/drive/MyDrive/Labs/Sem6_Labs/ML/Lab07/BuyComputer.csv\")\n",
        "\n",
        "data.drop(columns=['User ID',], axis=1, inplace = True)\n",
        "\n",
        "data.head()"
      ],
      "metadata": {
        "colab": {
          "base_uri": "https://localhost:8080/",
          "height": 206
        },
        "id": "-vIPNJQ3zSLZ",
        "outputId": "d1673f87-9248-4b36-ea02-9d310c6d5916"
      },
      "execution_count": null,
      "outputs": [
        {
          "output_type": "execute_result",
          "data": {
            "text/plain": [
              "   Age  EstimatedSalary  Purchased\n",
              "0   19            19000          0\n",
              "1   35            20000          0\n",
              "2   26            43000          0\n",
              "3   27            57000          0\n",
              "4   19            76000          0"
            ],
            "text/html": [
              "\n",
              "  <div id=\"df-5b5e4ab7-1aaa-48f1-945c-f20d5bd2f038\">\n",
              "    <div class=\"colab-df-container\">\n",
              "      <div>\n",
              "<style scoped>\n",
              "    .dataframe tbody tr th:only-of-type {\n",
              "        vertical-align: middle;\n",
              "    }\n",
              "\n",
              "    .dataframe tbody tr th {\n",
              "        vertical-align: top;\n",
              "    }\n",
              "\n",
              "    .dataframe thead th {\n",
              "        text-align: right;\n",
              "    }\n",
              "</style>\n",
              "<table border=\"1\" class=\"dataframe\">\n",
              "  <thead>\n",
              "    <tr style=\"text-align: right;\">\n",
              "      <th></th>\n",
              "      <th>Age</th>\n",
              "      <th>EstimatedSalary</th>\n",
              "      <th>Purchased</th>\n",
              "    </tr>\n",
              "  </thead>\n",
              "  <tbody>\n",
              "    <tr>\n",
              "      <th>0</th>\n",
              "      <td>19</td>\n",
              "      <td>19000</td>\n",
              "      <td>0</td>\n",
              "    </tr>\n",
              "    <tr>\n",
              "      <th>1</th>\n",
              "      <td>35</td>\n",
              "      <td>20000</td>\n",
              "      <td>0</td>\n",
              "    </tr>\n",
              "    <tr>\n",
              "      <th>2</th>\n",
              "      <td>26</td>\n",
              "      <td>43000</td>\n",
              "      <td>0</td>\n",
              "    </tr>\n",
              "    <tr>\n",
              "      <th>3</th>\n",
              "      <td>27</td>\n",
              "      <td>57000</td>\n",
              "      <td>0</td>\n",
              "    </tr>\n",
              "    <tr>\n",
              "      <th>4</th>\n",
              "      <td>19</td>\n",
              "      <td>76000</td>\n",
              "      <td>0</td>\n",
              "    </tr>\n",
              "  </tbody>\n",
              "</table>\n",
              "</div>\n",
              "      <button class=\"colab-df-convert\" onclick=\"convertToInteractive('df-5b5e4ab7-1aaa-48f1-945c-f20d5bd2f038')\"\n",
              "              title=\"Convert this dataframe to an interactive table.\"\n",
              "              style=\"display:none;\">\n",
              "        \n",
              "  <svg xmlns=\"http://www.w3.org/2000/svg\" height=\"24px\"viewBox=\"0 0 24 24\"\n",
              "       width=\"24px\">\n",
              "    <path d=\"M0 0h24v24H0V0z\" fill=\"none\"/>\n",
              "    <path d=\"M18.56 5.44l.94 2.06.94-2.06 2.06-.94-2.06-.94-.94-2.06-.94 2.06-2.06.94zm-11 1L8.5 8.5l.94-2.06 2.06-.94-2.06-.94L8.5 2.5l-.94 2.06-2.06.94zm10 10l.94 2.06.94-2.06 2.06-.94-2.06-.94-.94-2.06-.94 2.06-2.06.94z\"/><path d=\"M17.41 7.96l-1.37-1.37c-.4-.4-.92-.59-1.43-.59-.52 0-1.04.2-1.43.59L10.3 9.45l-7.72 7.72c-.78.78-.78 2.05 0 2.83L4 21.41c.39.39.9.59 1.41.59.51 0 1.02-.2 1.41-.59l7.78-7.78 2.81-2.81c.8-.78.8-2.07 0-2.86zM5.41 20L4 18.59l7.72-7.72 1.47 1.35L5.41 20z\"/>\n",
              "  </svg>\n",
              "      </button>\n",
              "      \n",
              "  <style>\n",
              "    .colab-df-container {\n",
              "      display:flex;\n",
              "      flex-wrap:wrap;\n",
              "      gap: 12px;\n",
              "    }\n",
              "\n",
              "    .colab-df-convert {\n",
              "      background-color: #E8F0FE;\n",
              "      border: none;\n",
              "      border-radius: 50%;\n",
              "      cursor: pointer;\n",
              "      display: none;\n",
              "      fill: #1967D2;\n",
              "      height: 32px;\n",
              "      padding: 0 0 0 0;\n",
              "      width: 32px;\n",
              "    }\n",
              "\n",
              "    .colab-df-convert:hover {\n",
              "      background-color: #E2EBFA;\n",
              "      box-shadow: 0px 1px 2px rgba(60, 64, 67, 0.3), 0px 1px 3px 1px rgba(60, 64, 67, 0.15);\n",
              "      fill: #174EA6;\n",
              "    }\n",
              "\n",
              "    [theme=dark] .colab-df-convert {\n",
              "      background-color: #3B4455;\n",
              "      fill: #D2E3FC;\n",
              "    }\n",
              "\n",
              "    [theme=dark] .colab-df-convert:hover {\n",
              "      background-color: #434B5C;\n",
              "      box-shadow: 0px 1px 3px 1px rgba(0, 0, 0, 0.15);\n",
              "      filter: drop-shadow(0px 1px 2px rgba(0, 0, 0, 0.3));\n",
              "      fill: #FFFFFF;\n",
              "    }\n",
              "  </style>\n",
              "\n",
              "      <script>\n",
              "        const buttonEl =\n",
              "          document.querySelector('#df-5b5e4ab7-1aaa-48f1-945c-f20d5bd2f038 button.colab-df-convert');\n",
              "        buttonEl.style.display =\n",
              "          google.colab.kernel.accessAllowed ? 'block' : 'none';\n",
              "\n",
              "        async function convertToInteractive(key) {\n",
              "          const element = document.querySelector('#df-5b5e4ab7-1aaa-48f1-945c-f20d5bd2f038');\n",
              "          const dataTable =\n",
              "            await google.colab.kernel.invokeFunction('convertToInteractive',\n",
              "                                                     [key], {});\n",
              "          if (!dataTable) return;\n",
              "\n",
              "          const docLinkHtml = 'Like what you see? Visit the ' +\n",
              "            '<a target=\"_blank\" href=https://colab.research.google.com/notebooks/data_table.ipynb>data table notebook</a>'\n",
              "            + ' to learn more about interactive tables.';\n",
              "          element.innerHTML = '';\n",
              "          dataTable['output_type'] = 'display_data';\n",
              "          await google.colab.output.renderOutput(dataTable, element);\n",
              "          const docLink = document.createElement('div');\n",
              "          docLink.innerHTML = docLinkHtml;\n",
              "          element.appendChild(docLink);\n",
              "        }\n",
              "      </script>\n",
              "    </div>\n",
              "  </div>\n",
              "  "
            ]
          },
          "metadata": {},
          "execution_count": 5
        }
      ]
    },
    {
      "cell_type": "code",
      "source": [
        "#Declare label as last column in the source file\n",
        "label = data[[\"Purchased\"]]\n",
        "print(label)"
      ],
      "metadata": {
        "id": "rElhW_Qvz_rZ",
        "colab": {
          "base_uri": "https://localhost:8080/"
        },
        "outputId": "3b1dfa7b-50c7-48eb-f11a-bd074c422b73"
      },
      "execution_count": null,
      "outputs": [
        {
          "output_type": "stream",
          "name": "stdout",
          "text": [
            "     Purchased\n",
            "0            0\n",
            "1            0\n",
            "2            0\n",
            "3            0\n",
            "4            0\n",
            "..         ...\n",
            "395          1\n",
            "396          1\n",
            "397          1\n",
            "398          0\n",
            "399          1\n",
            "\n",
            "[400 rows x 1 columns]\n"
          ]
        }
      ]
    },
    {
      "cell_type": "code",
      "source": [
        "#Declaring X as all columns excluding last\n",
        "X = data[[\"Age\", \"EstimatedSalary\"]]\n",
        "print(X)"
      ],
      "metadata": {
        "id": "6rPRmO8P0OzR",
        "colab": {
          "base_uri": "https://localhost:8080/"
        },
        "outputId": "ded53b87-44c1-46ec-c63a-ca52e7df9e37"
      },
      "execution_count": null,
      "outputs": [
        {
          "output_type": "stream",
          "name": "stdout",
          "text": [
            "     Age  EstimatedSalary\n",
            "0     19            19000\n",
            "1     35            20000\n",
            "2     26            43000\n",
            "3     27            57000\n",
            "4     19            76000\n",
            "..   ...              ...\n",
            "395   46            41000\n",
            "396   51            23000\n",
            "397   50            20000\n",
            "398   36            33000\n",
            "399   49            36000\n",
            "\n",
            "[400 rows x 2 columns]\n"
          ]
        }
      ]
    },
    {
      "cell_type": "code",
      "source": [
        "# Splitting data\n",
        "from sklearn.model_selection import train_test_split\n",
        "\n",
        "X_train, X_test, y_train, y_test = train_test_split(X,label,test_size = 0.2, random_state=117)"
      ],
      "metadata": {
        "id": "0nLjmv-A0g4h"
      },
      "execution_count": null,
      "outputs": []
    },
    {
      "cell_type": "code",
      "source": [
        "# Sacaling data\n",
        "from sklearn.preprocessing import StandardScaler\n",
        "sc = StandardScaler()\n",
        "X_train = sc.fit_transform(X_train)\n",
        "X_test = sc.fit_transform(X_test)\n"
      ],
      "metadata": {
        "id": "FzMhFFRR0vyt"
      },
      "execution_count": null,
      "outputs": []
    },
    {
      "cell_type": "code",
      "source": [
        "\n",
        "#Variabes to calculate sigmoid function\n",
        "y_pred = []\n",
        "len_x = len(X_train[0])\n",
        "w = []\n",
        "b = 0.2\n",
        "print(len_x)"
      ],
      "metadata": {
        "id": "MEAbsBEH_oLB",
        "colab": {
          "base_uri": "https://localhost:8080/"
        },
        "outputId": "71850234-00d6-48c0-8a72-4e9b0edd9556"
      },
      "execution_count": null,
      "outputs": [
        {
          "output_type": "stream",
          "name": "stdout",
          "text": [
            "2\n"
          ]
        }
      ]
    },
    {
      "cell_type": "code",
      "source": [
        "def sigmoid(z):\n",
        " return 1/(1 + np.exp(-z))"
      ],
      "metadata": {
        "id": "eR74Hsnl2-OC"
      },
      "execution_count": null,
      "outputs": []
    },
    {
      "cell_type": "code",
      "source": [
        "def log_loss(predicted,actual):\n",
        "   epsilon = 1e-15\n",
        "   predicted = [max(epsilon,i) for i in predicted] \n",
        "   predicted = [min(i,1-epsilon) for i in predicted]\n",
        "   predicted_new = np.array(predicted)\n",
        "   x = -np.mean(actual * np.log(predicted_new) + (1-actual) * np.log(1-predicted_new))\n",
        "   return x"
      ],
      "metadata": {
        "id": "QQykcUcM32ug"
      },
      "execution_count": null,
      "outputs": []
    },
    {
      "cell_type": "code",
      "source": [
        "def gradients(X, y, y_hat):\n",
        "    m = X.shape[0]\n",
        "    dw = (1/m)*np.dot(X.T, (y_hat - y))\n",
        "    db = (1/m)*np.sum((y_hat - y)) \n",
        "    return dw, db"
      ],
      "metadata": {
        "id": "M5U3P53I_3lo"
      },
      "execution_count": null,
      "outputs": []
    },
    {
      "cell_type": "code",
      "source": [
        "def normalize(X):\n",
        "  m, n = X.shape\n",
        "  for i in range(n):\n",
        "    X = (X - X.mean(axis = 0)) / X.std(axis = 0)\n",
        "  return X"
      ],
      "metadata": {
        "id": "Kr49dFXT97ug"
      },
      "execution_count": null,
      "outputs": []
    },
    {
      "cell_type": "code",
      "source": [
        "def train(X, y, bs, epochs, lr):\n",
        "    m, n = X.shape\n",
        "    w = np.zeros((n,1))\n",
        "    b = 0\n",
        "\n",
        "    y = y.values.reshape(m,1)\n",
        "    x = normalize(X)\n",
        "\n",
        "    losses = []\n",
        "\n",
        "    for epoch in range(epochs):\n",
        "        for i in range((m-1)//bs + 1):\n",
        "            start_i = i*bs\n",
        "            end_i = start_i + bs\n",
        "            xb = X[start_i:end_i]\n",
        "            yb = y[start_i:end_i]\n",
        "            y_hat = sigmoid(np.dot(xb, w) + b)\n",
        "            dw, db = gradients(xb, yb, y_hat)\n",
        "            w -= lr*dw\n",
        "            b -= lr*db\n",
        "        l = log_loss(y, sigmoid(np.dot(X, w) + b))\n",
        "        losses.append(l)\n",
        "    return w, b, losses"
      ],
      "metadata": {
        "id": "_jlF4NAjBDvZ"
      },
      "execution_count": null,
      "outputs": []
    },
    {
      "cell_type": "code",
      "source": [
        "def prediction_function(inputs):\n",
        "  x = normalize(inputs)\n",
        "  preds = sigmoid(np.dot(inputs, w) + b)\n",
        "  pred_class = []    \n",
        "  pred_class = [1 if i > 0.5 else 0 for i in preds]  \n",
        "  return np.array(pred_class)"
      ],
      "metadata": {
        "id": "OBE-BEfK3494"
      },
      "execution_count": null,
      "outputs": []
    },
    {
      "cell_type": "code",
      "source": [
        "w, b, l = train(X_train, y_train, bs=100, epochs=1000, lr=0.01)"
      ],
      "metadata": {
        "id": "o-x9AiG94oog"
      },
      "execution_count": null,
      "outputs": []
    },
    {
      "cell_type": "code",
      "source": [
        "from sklearn.metrics import accuracy_score,precision_score,recall_score\n",
        "\n",
        "y_predict = prediction_function(X_test)\n",
        "print(\"Accuracy : \",accuracy_score(y_test, y_predict))\n",
        "print(\"Precision : \",precision_score(y_test,y_predict))\n",
        "print(\"Recall : \",recall_score(y_test,y_predict))"
      ],
      "metadata": {
        "id": "Q7RpM1NrCwGg",
        "colab": {
          "base_uri": "https://localhost:8080/"
        },
        "outputId": "cb360650-0289-436a-d82d-a088897688b6"
      },
      "execution_count": null,
      "outputs": [
        {
          "output_type": "stream",
          "name": "stdout",
          "text": [
            "Accuracy :  0.8375\n",
            "Precision :  0.7586206896551724\n",
            "Recall :  0.7857142857142857\n"
          ]
        }
      ]
    },
    {
      "cell_type": "markdown",
      "source": [
        "> ## 3.1 Logistic Regression model using sklearn"
      ],
      "metadata": {
        "id": "LkVcvYfvFD7A"
      }
    },
    {
      "cell_type": "code",
      "source": [
        "from sklearn.linear_model import LogisticRegression\n",
        "LR = LogisticRegression(random_state = 0)"
      ],
      "metadata": {
        "id": "wlLjdsYgFCrX"
      },
      "execution_count": null,
      "outputs": []
    },
    {
      "cell_type": "code",
      "source": [
        "# Splitting data\n",
        "from sklearn.model_selection import train_test_split\n",
        "X_train1, X_test1, y_train1, y_test1 = train_test_split(X,label,test_size = 0.2, random_state=117)"
      ],
      "metadata": {
        "id": "hJojOfRBGWxx"
      },
      "execution_count": null,
      "outputs": []
    },
    {
      "cell_type": "code",
      "source": [
        "# Sacaling data\n",
        "from sklearn.preprocessing import StandardScaler\n",
        "sc = StandardScaler()\n",
        "X_train1 = sc.fit_transform(X_train1)\n",
        "X_test1 = sc.fit_transform(X_test1)"
      ],
      "metadata": {
        "id": "u1Ym-AD-IWBz"
      },
      "execution_count": null,
      "outputs": []
    },
    {
      "cell_type": "code",
      "source": [
        "clf = LR.fit(X_train1,y_train1)"
      ],
      "metadata": {
        "id": "qTm0Wdh7IpsR",
        "colab": {
          "base_uri": "https://localhost:8080/"
        },
        "outputId": "73f206f7-6f67-41f1-8926-30b490495df6"
      },
      "execution_count": null,
      "outputs": [
        {
          "output_type": "stream",
          "name": "stderr",
          "text": [
            "/usr/local/lib/python3.8/dist-packages/sklearn/utils/validation.py:993: DataConversionWarning: A column-vector y was passed when a 1d array was expected. Please change the shape of y to (n_samples, ), for example using ravel().\n",
            "  y = column_or_1d(y, warn=True)\n"
          ]
        }
      ]
    },
    {
      "cell_type": "code",
      "source": [
        "y_pred1 = clf.predict(X_test1)\n",
        "print(y_pred1)"
      ],
      "metadata": {
        "id": "xYYJREPMJG1a",
        "colab": {
          "base_uri": "https://localhost:8080/"
        },
        "outputId": "c4d9da18-db03-4ee5-d93c-d4575c73cadf"
      },
      "execution_count": null,
      "outputs": [
        {
          "output_type": "stream",
          "name": "stdout",
          "text": [
            "[1 0 0 0 0 0 1 1 0 0 1 0 0 1 0 1 1 0 0 1 0 0 1 1 1 0 0 0 0 0 0 1 1 1 0 0 0\n",
            " 0 1 1 0 0 1 0 0 0 0 0 0 1 0 0 1 0 0 0 0 1 0 0 1 0 0 0 0 0 0 0 0 0 1 1 0 0\n",
            " 1 1 0 0 0 0]\n"
          ]
        }
      ]
    },
    {
      "cell_type": "code",
      "source": [
        "from sklearn.metrics import accuracy_score\n",
        "\n",
        "print(accuracy_score(y_test1,y_pred1))"
      ],
      "metadata": {
        "id": "5S4gep8vJJsp",
        "colab": {
          "base_uri": "https://localhost:8080/"
        },
        "outputId": "0df5c2e2-181b-4b31-ba9d-2e301b9c0481"
      },
      "execution_count": null,
      "outputs": [
        {
          "output_type": "stream",
          "name": "stdout",
          "text": [
            "0.8375\n"
          ]
        }
      ]
    },
    {
      "cell_type": "code",
      "source": [
        "# 3 What is the accuracy, precision and recall of the model?\n",
        "from sklearn.metrics import confusion_matrix\n",
        "cm = confusion_matrix(y_test1, y_pred1)\n",
        "print(cm)"
      ],
      "metadata": {
        "colab": {
          "base_uri": "https://localhost:8080/"
        },
        "id": "ElP8iPtMHoHX",
        "outputId": "b6760f28-8e1d-4aee-94fd-81ffae6aa3a1"
      },
      "execution_count": null,
      "outputs": [
        {
          "output_type": "stream",
          "name": "stdout",
          "text": [
            "[[47  5]\n",
            " [ 8 20]]\n"
          ]
        }
      ]
    },
    {
      "cell_type": "code",
      "source": [
        "import sklearn.metrics as metrics\n",
        "print(metrics.classification_report(y_test1, y_pred1))"
      ],
      "metadata": {
        "colab": {
          "base_uri": "https://localhost:8080/"
        },
        "id": "R5oX8VBhILqb",
        "outputId": "783a0909-08c1-4da8-fbe2-920c938fc71c"
      },
      "execution_count": null,
      "outputs": [
        {
          "output_type": "stream",
          "name": "stdout",
          "text": [
            "              precision    recall  f1-score   support\n",
            "\n",
            "           0       0.85      0.90      0.88        52\n",
            "           1       0.80      0.71      0.75        28\n",
            "\n",
            "    accuracy                           0.84        80\n",
            "   macro avg       0.83      0.81      0.82        80\n",
            "weighted avg       0.84      0.84      0.84        80\n",
            "\n"
          ]
        }
      ]
    },
    {
      "cell_type": "code",
      "source": [
        "# 5 Use the model to identify if a person whose age is 28 years and his/her estimated salary is 76000 will purchase a computer?\n",
        "output = clf.predict([[28,7600]])\n",
        "# X_test = sc.transform([])\n",
        "print(output)\n",
        "#NOT purchase"
      ],
      "metadata": {
        "colab": {
          "base_uri": "https://localhost:8080/"
        },
        "id": "1ZLucCCtIQfR",
        "outputId": "c24d3819-0cf1-482c-8637-49ab971d5c21"
      },
      "execution_count": null,
      "outputs": [
        {
          "output_type": "stream",
          "name": "stdout",
          "text": [
            "[1]\n"
          ]
        }
      ]
    }
  ]
}