{
  "cells": [
    {
      "cell_type": "markdown",
      "source": [
        "# **Practical-01** : Introduction to Machine Learning Libraries in Python\n",
        "\n",
        "> ## **Objective** : To introduce different machine learning libraries available in python."
      ],
      "metadata": {
        "id": "ZsaztVqDfOtW"
      }
    },
    {
      "cell_type": "markdown",
      "metadata": {
        "id": "AcKJd_L6UV0Y"
      },
      "source": [
        "> ### Exercise"
      ]
    },
    {
      "cell_type": "code",
      "execution_count": null,
      "metadata": {
        "id": "zhKlLNQp6nes"
      },
      "outputs": [],
      "source": [
        "import numpy as np"
      ]
    },
    {
      "cell_type": "code",
      "execution_count": null,
      "metadata": {
        "colab": {
          "base_uri": "https://localhost:8080/"
        },
        "id": "ebWtSo-u6ORk",
        "outputId": "4640b214-1b95-44bf-88fc-6e6fbf0f9c47"
      },
      "outputs": [
        {
          "output_type": "stream",
          "name": "stdout",
          "text": [
            "numpy array of size 4 X 5 : \n",
            "\n",
            "[[1 2 3 4 5]\n",
            " [1 2 3 4 5]\n",
            " [1 2 3 4 5]\n",
            " [1 2 3 4 5]]\n",
            "numpy array of size 5 X 4 : \n",
            "\n",
            "[[1 2 3 4]\n",
            " [1 2 3 4]\n",
            " [1 2 3 4]\n",
            " [1 2 3 4]\n",
            " [1 2 3 4]]\n"
          ]
        }
      ],
      "source": [
        "# 1) Create Two numpy array of size 4 X 5 and 5 X 4.\n",
        "\n",
        "# numpy array of size 4 X 5\n",
        "nparr1 = np.array([[1,2,3,4,5],[1,2,3,4,5],[1,2,3,4,5],[1,2,3,4,5]])\n",
        "print(\"numpy array of size 4 X 5 : \\n\")\n",
        "print(nparr1)\n",
        "\n",
        "# numpy array of size 5 X 4\n",
        "nparr2 = np.array([[1,2,3,4],[1,2,3,4],[1,2,3,4],[1,2,3,4],[1,2,3,4]])\n",
        "print(\"numpy array of size 5 X 4 : \\n\")\n",
        "print(nparr2)"
      ]
    },
    {
      "cell_type": "code",
      "execution_count": null,
      "metadata": {
        "colab": {
          "base_uri": "https://localhost:8080/"
        },
        "id": "7vehB1hz7ewl",
        "outputId": "509d3276-dc15-4b99-9d95-634b21a24af2"
      },
      "outputs": [
        {
          "output_type": "stream",
          "name": "stdout",
          "text": [
            "numpy array of size 4 X 5 : \n",
            "\n",
            "[[       35361568               0 140439505824784 140439559019120\n",
            "  140439546218032]\n",
            " [140439505828400 140439559016320         9793120 140439559102576\n",
            "  140439558655600]\n",
            " [140439559025392 140439559021152 140439505840176 140439505825424\n",
            "  140439559026352]\n",
            " [140439505825664 140439505840496 140439505846400 140439556682352\n",
            "  140439505840688]]\n",
            "numpy array of size 5 X 4 : \n",
            "\n",
            "[[31482000        0        0        0]\n",
            " [       0        0        0        0]\n",
            " [       0        0        0        0]\n",
            " [       0        0        0        0]\n",
            " [       0        0        0        0]]\n"
          ]
        }
      ],
      "source": [
        "# 2) Randomly Initalize that array\n",
        "\n",
        "# numpy array of size 4 X 5 with randomly initialization\n",
        "rmat1 = np.empty([4,5],dtype=int)\n",
        "print(\"numpy array of size 4 X 5 : \\n\")\n",
        "print(rmat1)\n",
        "\n",
        "# numpy array of size 5 X 4 with randomly initialization\n",
        "rmat2 = np.empty([5,4],dtype=int)\n",
        "print(\"numpy array of size 5 X 4 : \\n\")\n",
        "print(rmat2)"
      ]
    },
    {
      "cell_type": "code",
      "execution_count": null,
      "metadata": {
        "colab": {
          "base_uri": "https://localhost:8080/"
        },
        "id": "HZ5f6TSo9AmE",
        "outputId": "7bc73f62-be55-4134-d739-4efab3b1e91a"
      },
      "outputs": [
        {
          "output_type": "stream",
          "name": "stdout",
          "text": [
            "[[67 61 56]\n",
            " [92 74 76]]\n"
          ]
        }
      ],
      "source": [
        "# 3) Perform matrix multiplication\n",
        "\n",
        "mat1 = np.array([[1,5,3],[2,4,6]])\n",
        "mat2 = np.array([[5,6,8],[7,8,6],[9,5,6]])\n",
        "\n",
        "print(mat1 @ mat2)"
      ]
    },
    {
      "cell_type": "code",
      "execution_count": null,
      "metadata": {
        "colab": {
          "base_uri": "https://localhost:8080/"
        },
        "id": "WCo_HlAX9rAD",
        "outputId": "0f5dc8b9-df4b-4668-c81f-171c1a56d39b"
      },
      "outputs": [
        {
          "output_type": "stream",
          "name": "stdout",
          "text": [
            "[[ 3  6]\n",
            " [ 9 12]]\n"
          ]
        }
      ],
      "source": [
        "# 4) Perform elementwise matrix multiplication\n",
        "\n",
        "mat1 = np.array([[1,2],[3,4]])\n",
        "\n",
        "print(mat1 *3)"
      ]
    },
    {
      "cell_type": "code",
      "execution_count": null,
      "metadata": {
        "colab": {
          "base_uri": "https://localhost:8080/"
        },
        "id": "rda8vkG39zW7",
        "outputId": "6071d747-cf26-4580-bc73-6f9869997eb9"
      },
      "outputs": [
        {
          "output_type": "stream",
          "name": "stdout",
          "text": [
            "Mean :  3.3333333333333335\n",
            "Median :  3.0\n"
          ]
        }
      ],
      "source": [
        "# 5) Find mean, median of the first matrix.\n",
        "\n",
        "mat1 = np.array([[1,2,5],[2,4,6]])\n",
        "\n",
        "print(\"Mean : \",np.mean(mat1))\n",
        "print(\"Median : \",np.median(mat1))"
      ]
    },
    {
      "cell_type": "code",
      "execution_count": null,
      "metadata": {
        "colab": {
          "base_uri": "https://localhost:8080/"
        },
        "id": "2lSbHIwI_Hc1",
        "outputId": "12478c54-7fd7-4b6f-ed49-4305028a8be8"
      },
      "outputs": [
        {
          "output_type": "stream",
          "name": "stdout",
          "text": [
            "Transpose of mat1: \n",
            " [[1 3]\n",
            " [2 4]]\n",
            "Determinat of mat1 :  -2.0000000000000004\n",
            "Determinat of mat2 :  0.0\n"
          ]
        }
      ],
      "source": [
        "# 6) Get the transpose of that Matrix that you created. Create a square matrix and find its deter-\n",
        "# minant.\n",
        "\n",
        "mat1 = np.array([[1,2],[3,4]])\n",
        "print(\"Transpose of mat1: \\n\",mat1.T)\n",
        "det = np.linalg.det(mat1)\n",
        "print(\"Determinat of mat1 : \",det)\n",
        "\n",
        "mat2 = np.array([[1,2,3],[4,5,6],[7,8,9]])\n",
        "det2 = np.linalg.det(mat2)\n",
        "print(\"Determinat of mat2 : \",det2)"
      ]
    },
    {
      "cell_type": "code",
      "execution_count": null,
      "metadata": {
        "colab": {
          "base_uri": "https://localhost:8080/"
        },
        "id": "Ac97YHtuVbLI",
        "outputId": "eb84e092-fc6a-421a-9228-dc17ee9e562e"
      },
      "outputs": [
        {
          "output_type": "stream",
          "name": "stdout",
          "text": [
            "Array : \n",
            " [[1 2 3 4 5]\n",
            " [1 array([7, 8, 9]) 3 4 5]\n",
            " [1 2 3 4 5]\n",
            " [1 2 3 4 5]]\n",
            "each row in the second column :  [2 array([7, 8, 9]) 2 2]\n"
          ]
        }
      ],
      "source": [
        "# 7) Obtain each row in the second column of the first array.\n",
        "\n",
        "array1 = np.array([[1,2,3,4,5],[1,np.array([7,8,9]),3,4,5],[1,2,3,4,5],[1,2,3,4,5]],dtype=object)\n",
        "print(\"Array : \\n\",array1)\n",
        "\n",
        "print(\"each row in the second column : \",array1[:,1])"
      ]
    },
    {
      "cell_type": "code",
      "execution_count": null,
      "metadata": {
        "id": "SU69c26ia6oX"
      },
      "outputs": [],
      "source": [
        "# 8) Convert Numeric entries(columns) of mtcars.csv to Mean Centered Version\n"
      ]
    },
    {
      "cell_type": "markdown",
      "metadata": {
        "id": "KKfth2OqwmSu"
      },
      "source": [
        "### **3.2 NLTK Library**"
      ]
    },
    {
      "cell_type": "markdown",
      "metadata": {
        "id": "s9loquLWw5GC"
      },
      "source": [
        "#### Exercise"
      ]
    },
    {
      "cell_type": "code",
      "execution_count": null,
      "metadata": {
        "colab": {
          "base_uri": "https://localhost:8080/"
        },
        "id": "syxShNdyw8D-",
        "outputId": "f32b07dc-d073-42d3-ae7c-b4707f3768d4"
      },
      "outputs": [
        {
          "output_type": "stream",
          "name": "stderr",
          "text": [
            "[nltk_data] Downloading package movie_reviews to /root/nltk_data...\n",
            "[nltk_data]   Unzipping corpora/movie_reviews.zip.\n"
          ]
        },
        {
          "output_type": "execute_result",
          "data": {
            "text/plain": [
              "True"
            ]
          },
          "metadata": {},
          "execution_count": 13
        }
      ],
      "source": [
        "# downloading movie reviews dataset\n",
        "import nltk\n",
        "from nltk.corpus import movie_reviews\n",
        "nltk.download('movie_reviews')"
      ]
    },
    {
      "cell_type": "code",
      "execution_count": null,
      "metadata": {
        "colab": {
          "base_uri": "https://localhost:8080/"
        },
        "id": "Gd6w91mq1e5l",
        "outputId": "8431889f-173b-475c-8a14-311bef03a4d9"
      },
      "outputs": [
        {
          "output_type": "execute_result",
          "data": {
            "text/plain": [
              "['neg/cv000_29416.txt',\n",
              " 'neg/cv001_19502.txt',\n",
              " 'neg/cv002_17424.txt',\n",
              " 'neg/cv003_12683.txt',\n",
              " 'neg/cv004_12641.txt',\n",
              " 'neg/cv005_29357.txt',\n",
              " 'neg/cv006_17022.txt',\n",
              " 'neg/cv007_4992.txt',\n",
              " 'neg/cv008_29326.txt',\n",
              " 'neg/cv009_29417.txt',\n",
              " 'neg/cv010_29063.txt',\n",
              " 'neg/cv011_13044.txt',\n",
              " 'neg/cv012_29411.txt',\n",
              " 'neg/cv013_10494.txt',\n",
              " 'neg/cv014_15600.txt',\n",
              " 'neg/cv015_29356.txt',\n",
              " 'neg/cv016_4348.txt',\n",
              " 'neg/cv017_23487.txt',\n",
              " 'neg/cv018_21672.txt',\n",
              " 'neg/cv019_16117.txt',\n",
              " 'neg/cv020_9234.txt',\n",
              " 'neg/cv021_17313.txt',\n",
              " 'neg/cv022_14227.txt',\n",
              " 'neg/cv023_13847.txt',\n",
              " 'neg/cv024_7033.txt',\n",
              " 'neg/cv025_29825.txt',\n",
              " 'neg/cv026_29229.txt',\n",
              " 'neg/cv027_26270.txt',\n",
              " 'neg/cv028_26964.txt',\n",
              " 'neg/cv029_19943.txt',\n",
              " 'neg/cv030_22893.txt',\n",
              " 'neg/cv031_19540.txt',\n",
              " 'neg/cv032_23718.txt',\n",
              " 'neg/cv033_25680.txt',\n",
              " 'neg/cv034_29446.txt',\n",
              " 'neg/cv035_3343.txt',\n",
              " 'neg/cv036_18385.txt',\n",
              " 'neg/cv037_19798.txt',\n",
              " 'neg/cv038_9781.txt',\n",
              " 'neg/cv039_5963.txt',\n",
              " 'neg/cv040_8829.txt',\n",
              " 'neg/cv041_22364.txt',\n",
              " 'neg/cv042_11927.txt',\n",
              " 'neg/cv043_16808.txt',\n",
              " 'neg/cv044_18429.txt',\n",
              " 'neg/cv045_25077.txt',\n",
              " 'neg/cv046_10613.txt',\n",
              " 'neg/cv047_18725.txt',\n",
              " 'neg/cv048_18380.txt',\n",
              " 'neg/cv049_21917.txt',\n",
              " 'neg/cv050_12128.txt',\n",
              " 'neg/cv051_10751.txt',\n",
              " 'neg/cv052_29318.txt',\n",
              " 'neg/cv053_23117.txt',\n",
              " 'neg/cv054_4101.txt',\n",
              " 'neg/cv055_8926.txt',\n",
              " 'neg/cv056_14663.txt',\n",
              " 'neg/cv057_7962.txt',\n",
              " 'neg/cv058_8469.txt',\n",
              " 'neg/cv059_28723.txt',\n",
              " 'neg/cv060_11754.txt',\n",
              " 'neg/cv061_9321.txt',\n",
              " 'neg/cv062_24556.txt',\n",
              " 'neg/cv063_28852.txt',\n",
              " 'neg/cv064_25842.txt',\n",
              " 'neg/cv065_16909.txt',\n",
              " 'neg/cv066_11668.txt',\n",
              " 'neg/cv067_21192.txt',\n",
              " 'neg/cv068_14810.txt',\n",
              " 'neg/cv069_11613.txt',\n",
              " 'neg/cv070_13249.txt',\n",
              " 'neg/cv071_12969.txt',\n",
              " 'neg/cv072_5928.txt',\n",
              " 'neg/cv073_23039.txt',\n",
              " 'neg/cv074_7188.txt',\n",
              " 'neg/cv075_6250.txt',\n",
              " 'neg/cv076_26009.txt',\n",
              " 'neg/cv077_23172.txt',\n",
              " 'neg/cv078_16506.txt',\n",
              " 'neg/cv079_12766.txt',\n",
              " 'neg/cv080_14899.txt',\n",
              " 'neg/cv081_18241.txt',\n",
              " 'neg/cv082_11979.txt',\n",
              " 'neg/cv083_25491.txt',\n",
              " 'neg/cv084_15183.txt',\n",
              " 'neg/cv085_15286.txt',\n",
              " 'neg/cv086_19488.txt',\n",
              " 'neg/cv087_2145.txt',\n",
              " 'neg/cv088_25274.txt',\n",
              " 'neg/cv089_12222.txt',\n",
              " 'neg/cv090_0049.txt',\n",
              " 'neg/cv091_7899.txt',\n",
              " 'neg/cv092_27987.txt',\n",
              " 'neg/cv093_15606.txt',\n",
              " 'neg/cv094_27868.txt',\n",
              " 'neg/cv095_28730.txt',\n",
              " 'neg/cv096_12262.txt',\n",
              " 'neg/cv097_26081.txt',\n",
              " 'neg/cv098_17021.txt',\n",
              " 'neg/cv099_11189.txt',\n",
              " 'neg/cv100_12406.txt',\n",
              " 'neg/cv101_10537.txt',\n",
              " 'neg/cv102_8306.txt',\n",
              " 'neg/cv103_11943.txt',\n",
              " 'neg/cv104_19176.txt',\n",
              " 'neg/cv105_19135.txt',\n",
              " 'neg/cv106_18379.txt',\n",
              " 'neg/cv107_25639.txt',\n",
              " 'neg/cv108_17064.txt',\n",
              " 'neg/cv109_22599.txt',\n",
              " 'neg/cv110_27832.txt',\n",
              " 'neg/cv111_12253.txt',\n",
              " 'neg/cv112_12178.txt',\n",
              " 'neg/cv113_24354.txt',\n",
              " 'neg/cv114_19501.txt',\n",
              " 'neg/cv115_26443.txt',\n",
              " 'neg/cv116_28734.txt',\n",
              " 'neg/cv117_25625.txt',\n",
              " 'neg/cv118_28837.txt',\n",
              " 'neg/cv119_9909.txt',\n",
              " 'neg/cv120_3793.txt',\n",
              " 'neg/cv121_18621.txt',\n",
              " 'neg/cv122_7891.txt',\n",
              " 'neg/cv123_12165.txt',\n",
              " 'neg/cv124_3903.txt',\n",
              " 'neg/cv125_9636.txt',\n",
              " 'neg/cv126_28821.txt',\n",
              " 'neg/cv127_16451.txt',\n",
              " 'neg/cv128_29444.txt',\n",
              " 'neg/cv129_18373.txt',\n",
              " 'neg/cv130_18521.txt',\n",
              " 'neg/cv131_11568.txt',\n",
              " 'neg/cv132_5423.txt',\n",
              " 'neg/cv133_18065.txt',\n",
              " 'neg/cv134_23300.txt',\n",
              " 'neg/cv135_12506.txt',\n",
              " 'neg/cv136_12384.txt',\n",
              " 'neg/cv137_17020.txt',\n",
              " 'neg/cv138_13903.txt',\n",
              " 'neg/cv139_14236.txt',\n",
              " 'neg/cv140_7963.txt',\n",
              " 'neg/cv141_17179.txt',\n",
              " 'neg/cv142_23657.txt',\n",
              " 'neg/cv143_21158.txt',\n",
              " 'neg/cv144_5010.txt',\n",
              " 'neg/cv145_12239.txt',\n",
              " 'neg/cv146_19587.txt',\n",
              " 'neg/cv147_22625.txt',\n",
              " 'neg/cv148_18084.txt',\n",
              " 'neg/cv149_17084.txt',\n",
              " 'neg/cv150_14279.txt',\n",
              " 'neg/cv151_17231.txt',\n",
              " 'neg/cv152_9052.txt',\n",
              " 'neg/cv153_11607.txt',\n",
              " 'neg/cv154_9562.txt',\n",
              " 'neg/cv155_7845.txt',\n",
              " 'neg/cv156_11119.txt',\n",
              " 'neg/cv157_29302.txt',\n",
              " 'neg/cv158_10914.txt',\n",
              " 'neg/cv159_29374.txt',\n",
              " 'neg/cv160_10848.txt',\n",
              " 'neg/cv161_12224.txt',\n",
              " 'neg/cv162_10977.txt',\n",
              " 'neg/cv163_10110.txt',\n",
              " 'neg/cv164_23451.txt',\n",
              " 'neg/cv165_2389.txt',\n",
              " 'neg/cv166_11959.txt',\n",
              " 'neg/cv167_18094.txt',\n",
              " 'neg/cv168_7435.txt',\n",
              " 'neg/cv169_24973.txt',\n",
              " 'neg/cv170_29808.txt',\n",
              " 'neg/cv171_15164.txt',\n",
              " 'neg/cv172_12037.txt',\n",
              " 'neg/cv173_4295.txt',\n",
              " 'neg/cv174_9735.txt',\n",
              " 'neg/cv175_7375.txt',\n",
              " 'neg/cv176_14196.txt',\n",
              " 'neg/cv177_10904.txt',\n",
              " 'neg/cv178_14380.txt',\n",
              " 'neg/cv179_9533.txt',\n",
              " 'neg/cv180_17823.txt',\n",
              " 'neg/cv181_16083.txt',\n",
              " 'neg/cv182_7791.txt',\n",
              " 'neg/cv183_19826.txt',\n",
              " 'neg/cv184_26935.txt',\n",
              " 'neg/cv185_28372.txt',\n",
              " 'neg/cv186_2396.txt',\n",
              " 'neg/cv187_14112.txt',\n",
              " 'neg/cv188_20687.txt',\n",
              " 'neg/cv189_24248.txt',\n",
              " 'neg/cv190_27176.txt',\n",
              " 'neg/cv191_29539.txt',\n",
              " 'neg/cv192_16079.txt',\n",
              " 'neg/cv193_5393.txt',\n",
              " 'neg/cv194_12855.txt',\n",
              " 'neg/cv195_16146.txt',\n",
              " 'neg/cv196_28898.txt',\n",
              " 'neg/cv197_29271.txt',\n",
              " 'neg/cv198_19313.txt',\n",
              " 'neg/cv199_9721.txt',\n",
              " 'neg/cv200_29006.txt',\n",
              " 'neg/cv201_7421.txt',\n",
              " 'neg/cv202_11382.txt',\n",
              " 'neg/cv203_19052.txt',\n",
              " 'neg/cv204_8930.txt',\n",
              " 'neg/cv205_9676.txt',\n",
              " 'neg/cv206_15893.txt',\n",
              " 'neg/cv207_29141.txt',\n",
              " 'neg/cv208_9475.txt',\n",
              " 'neg/cv209_28973.txt',\n",
              " 'neg/cv210_9557.txt',\n",
              " 'neg/cv211_9955.txt',\n",
              " 'neg/cv212_10054.txt',\n",
              " 'neg/cv213_20300.txt',\n",
              " 'neg/cv214_13285.txt',\n",
              " 'neg/cv215_23246.txt',\n",
              " 'neg/cv216_20165.txt',\n",
              " 'neg/cv217_28707.txt',\n",
              " 'neg/cv218_25651.txt',\n",
              " 'neg/cv219_19874.txt',\n",
              " 'neg/cv220_28906.txt',\n",
              " 'neg/cv221_27081.txt',\n",
              " 'neg/cv222_18720.txt',\n",
              " 'neg/cv223_28923.txt',\n",
              " 'neg/cv224_18875.txt',\n",
              " 'neg/cv225_29083.txt',\n",
              " 'neg/cv226_26692.txt',\n",
              " 'neg/cv227_25406.txt',\n",
              " 'neg/cv228_5644.txt',\n",
              " 'neg/cv229_15200.txt',\n",
              " 'neg/cv230_7913.txt',\n",
              " 'neg/cv231_11028.txt',\n",
              " 'neg/cv232_16768.txt',\n",
              " 'neg/cv233_17614.txt',\n",
              " 'neg/cv234_22123.txt',\n",
              " 'neg/cv235_10704.txt',\n",
              " 'neg/cv236_12427.txt',\n",
              " 'neg/cv237_20635.txt',\n",
              " 'neg/cv238_14285.txt',\n",
              " 'neg/cv239_29828.txt',\n",
              " 'neg/cv240_15948.txt',\n",
              " 'neg/cv241_24602.txt',\n",
              " 'neg/cv242_11354.txt',\n",
              " 'neg/cv243_22164.txt',\n",
              " 'neg/cv244_22935.txt',\n",
              " 'neg/cv245_8938.txt',\n",
              " 'neg/cv246_28668.txt',\n",
              " 'neg/cv247_14668.txt',\n",
              " 'neg/cv248_15672.txt',\n",
              " 'neg/cv249_12674.txt',\n",
              " 'neg/cv250_26462.txt',\n",
              " 'neg/cv251_23901.txt',\n",
              " 'neg/cv252_24974.txt',\n",
              " 'neg/cv253_10190.txt',\n",
              " 'neg/cv254_5870.txt',\n",
              " 'neg/cv255_15267.txt',\n",
              " 'neg/cv256_16529.txt',\n",
              " 'neg/cv257_11856.txt',\n",
              " 'neg/cv258_5627.txt',\n",
              " 'neg/cv259_11827.txt',\n",
              " 'neg/cv260_15652.txt',\n",
              " 'neg/cv261_11855.txt',\n",
              " 'neg/cv262_13812.txt',\n",
              " 'neg/cv263_20693.txt',\n",
              " 'neg/cv264_14108.txt',\n",
              " 'neg/cv265_11625.txt',\n",
              " 'neg/cv266_26644.txt',\n",
              " 'neg/cv267_16618.txt',\n",
              " 'neg/cv268_20288.txt',\n",
              " 'neg/cv269_23018.txt',\n",
              " 'neg/cv270_5873.txt',\n",
              " 'neg/cv271_15364.txt',\n",
              " 'neg/cv272_20313.txt',\n",
              " 'neg/cv273_28961.txt',\n",
              " 'neg/cv274_26379.txt',\n",
              " 'neg/cv275_28725.txt',\n",
              " 'neg/cv276_17126.txt',\n",
              " 'neg/cv277_20467.txt',\n",
              " 'neg/cv278_14533.txt',\n",
              " 'neg/cv279_19452.txt',\n",
              " 'neg/cv280_8651.txt',\n",
              " 'neg/cv281_24711.txt',\n",
              " 'neg/cv282_6833.txt',\n",
              " 'neg/cv283_11963.txt',\n",
              " 'neg/cv284_20530.txt',\n",
              " 'neg/cv285_18186.txt',\n",
              " 'neg/cv286_26156.txt',\n",
              " 'neg/cv287_17410.txt',\n",
              " 'neg/cv288_20212.txt',\n",
              " 'neg/cv289_6239.txt',\n",
              " 'neg/cv290_11981.txt',\n",
              " 'neg/cv291_26844.txt',\n",
              " 'neg/cv292_7804.txt',\n",
              " 'neg/cv293_29731.txt',\n",
              " 'neg/cv294_12695.txt',\n",
              " 'neg/cv295_17060.txt',\n",
              " 'neg/cv296_13146.txt',\n",
              " 'neg/cv297_10104.txt',\n",
              " 'neg/cv298_24487.txt',\n",
              " 'neg/cv299_17950.txt',\n",
              " 'neg/cv300_23302.txt',\n",
              " 'neg/cv301_13010.txt',\n",
              " 'neg/cv302_26481.txt',\n",
              " 'neg/cv303_27366.txt',\n",
              " 'neg/cv304_28489.txt',\n",
              " 'neg/cv305_9937.txt',\n",
              " 'neg/cv306_10859.txt',\n",
              " 'neg/cv307_26382.txt',\n",
              " 'neg/cv308_5079.txt',\n",
              " 'neg/cv309_23737.txt',\n",
              " 'neg/cv310_14568.txt',\n",
              " 'neg/cv311_17708.txt',\n",
              " 'neg/cv312_29308.txt',\n",
              " 'neg/cv313_19337.txt',\n",
              " 'neg/cv314_16095.txt',\n",
              " 'neg/cv315_12638.txt',\n",
              " 'neg/cv316_5972.txt',\n",
              " 'neg/cv317_25111.txt',\n",
              " 'neg/cv318_11146.txt',\n",
              " 'neg/cv319_16459.txt',\n",
              " 'neg/cv320_9693.txt',\n",
              " 'neg/cv321_14191.txt',\n",
              " 'neg/cv322_21820.txt',\n",
              " 'neg/cv323_29633.txt',\n",
              " 'neg/cv324_7502.txt',\n",
              " 'neg/cv325_18330.txt',\n",
              " 'neg/cv326_14777.txt',\n",
              " 'neg/cv327_21743.txt',\n",
              " 'neg/cv328_10908.txt',\n",
              " 'neg/cv329_29293.txt',\n",
              " 'neg/cv330_29675.txt',\n",
              " 'neg/cv331_8656.txt',\n",
              " 'neg/cv332_17997.txt',\n",
              " 'neg/cv333_9443.txt',\n",
              " 'neg/cv334_0074.txt',\n",
              " 'neg/cv335_16299.txt',\n",
              " 'neg/cv336_10363.txt',\n",
              " 'neg/cv337_29061.txt',\n",
              " 'neg/cv338_9183.txt',\n",
              " 'neg/cv339_22452.txt',\n",
              " 'neg/cv340_14776.txt',\n",
              " 'neg/cv341_25667.txt',\n",
              " 'neg/cv342_20917.txt',\n",
              " 'neg/cv343_10906.txt',\n",
              " 'neg/cv344_5376.txt',\n",
              " 'neg/cv345_9966.txt',\n",
              " 'neg/cv346_19198.txt',\n",
              " 'neg/cv347_14722.txt',\n",
              " 'neg/cv348_19207.txt',\n",
              " 'neg/cv349_15032.txt',\n",
              " 'neg/cv350_22139.txt',\n",
              " 'neg/cv351_17029.txt',\n",
              " 'neg/cv352_5414.txt',\n",
              " 'neg/cv353_19197.txt',\n",
              " 'neg/cv354_8573.txt',\n",
              " 'neg/cv355_18174.txt',\n",
              " 'neg/cv356_26170.txt',\n",
              " 'neg/cv357_14710.txt',\n",
              " 'neg/cv358_11557.txt',\n",
              " 'neg/cv359_6751.txt',\n",
              " 'neg/cv360_8927.txt',\n",
              " 'neg/cv361_28738.txt',\n",
              " 'neg/cv362_16985.txt',\n",
              " 'neg/cv363_29273.txt',\n",
              " 'neg/cv364_14254.txt',\n",
              " 'neg/cv365_12442.txt',\n",
              " 'neg/cv366_10709.txt',\n",
              " 'neg/cv367_24065.txt',\n",
              " 'neg/cv368_11090.txt',\n",
              " 'neg/cv369_14245.txt',\n",
              " 'neg/cv370_5338.txt',\n",
              " 'neg/cv371_8197.txt',\n",
              " 'neg/cv372_6654.txt',\n",
              " 'neg/cv373_21872.txt',\n",
              " 'neg/cv374_26455.txt',\n",
              " 'neg/cv375_9932.txt',\n",
              " 'neg/cv376_20883.txt',\n",
              " 'neg/cv377_8440.txt',\n",
              " 'neg/cv378_21982.txt',\n",
              " 'neg/cv379_23167.txt',\n",
              " 'neg/cv380_8164.txt',\n",
              " 'neg/cv381_21673.txt',\n",
              " 'neg/cv382_8393.txt',\n",
              " 'neg/cv383_14662.txt',\n",
              " 'neg/cv384_18536.txt',\n",
              " 'neg/cv385_29621.txt',\n",
              " 'neg/cv386_10229.txt',\n",
              " 'neg/cv387_12391.txt',\n",
              " 'neg/cv388_12810.txt',\n",
              " 'neg/cv389_9611.txt',\n",
              " 'neg/cv390_12187.txt',\n",
              " 'neg/cv391_11615.txt',\n",
              " 'neg/cv392_12238.txt',\n",
              " 'neg/cv393_29234.txt',\n",
              " 'neg/cv394_5311.txt',\n",
              " 'neg/cv395_11761.txt',\n",
              " 'neg/cv396_19127.txt',\n",
              " 'neg/cv397_28890.txt',\n",
              " 'neg/cv398_17047.txt',\n",
              " 'neg/cv399_28593.txt',\n",
              " 'neg/cv400_20631.txt',\n",
              " 'neg/cv401_13758.txt',\n",
              " 'neg/cv402_16097.txt',\n",
              " 'neg/cv403_6721.txt',\n",
              " 'neg/cv404_21805.txt',\n",
              " 'neg/cv405_21868.txt',\n",
              " 'neg/cv406_22199.txt',\n",
              " 'neg/cv407_23928.txt',\n",
              " 'neg/cv408_5367.txt',\n",
              " 'neg/cv409_29625.txt',\n",
              " 'neg/cv410_25624.txt',\n",
              " 'neg/cv411_16799.txt',\n",
              " 'neg/cv412_25254.txt',\n",
              " 'neg/cv413_7893.txt',\n",
              " 'neg/cv414_11161.txt',\n",
              " 'neg/cv415_23674.txt',\n",
              " 'neg/cv416_12048.txt',\n",
              " 'neg/cv417_14653.txt',\n",
              " 'neg/cv418_16562.txt',\n",
              " 'neg/cv419_14799.txt',\n",
              " 'neg/cv420_28631.txt',\n",
              " 'neg/cv421_9752.txt',\n",
              " 'neg/cv422_9632.txt',\n",
              " 'neg/cv423_12089.txt',\n",
              " 'neg/cv424_9268.txt',\n",
              " 'neg/cv425_8603.txt',\n",
              " 'neg/cv426_10976.txt',\n",
              " 'neg/cv427_11693.txt',\n",
              " 'neg/cv428_12202.txt',\n",
              " 'neg/cv429_7937.txt',\n",
              " 'neg/cv430_18662.txt',\n",
              " 'neg/cv431_7538.txt',\n",
              " 'neg/cv432_15873.txt',\n",
              " 'neg/cv433_10443.txt',\n",
              " 'neg/cv434_5641.txt',\n",
              " 'neg/cv435_24355.txt',\n",
              " 'neg/cv436_20564.txt',\n",
              " 'neg/cv437_24070.txt',\n",
              " 'neg/cv438_8500.txt',\n",
              " 'neg/cv439_17633.txt',\n",
              " 'neg/cv440_16891.txt',\n",
              " 'neg/cv441_15276.txt',\n",
              " 'neg/cv442_15499.txt',\n",
              " 'neg/cv443_22367.txt',\n",
              " 'neg/cv444_9975.txt',\n",
              " 'neg/cv445_26683.txt',\n",
              " 'neg/cv446_12209.txt',\n",
              " 'neg/cv447_27334.txt',\n",
              " 'neg/cv448_16409.txt',\n",
              " 'neg/cv449_9126.txt',\n",
              " 'neg/cv450_8319.txt',\n",
              " 'neg/cv451_11502.txt',\n",
              " 'neg/cv452_5179.txt',\n",
              " 'neg/cv453_10911.txt',\n",
              " 'neg/cv454_21961.txt',\n",
              " 'neg/cv455_28866.txt',\n",
              " 'neg/cv456_20370.txt',\n",
              " 'neg/cv457_19546.txt',\n",
              " 'neg/cv458_9000.txt',\n",
              " 'neg/cv459_21834.txt',\n",
              " 'neg/cv460_11723.txt',\n",
              " 'neg/cv461_21124.txt',\n",
              " 'neg/cv462_20788.txt',\n",
              " 'neg/cv463_10846.txt',\n",
              " 'neg/cv464_17076.txt',\n",
              " 'neg/cv465_23401.txt',\n",
              " 'neg/cv466_20092.txt',\n",
              " 'neg/cv467_26610.txt',\n",
              " 'neg/cv468_16844.txt',\n",
              " 'neg/cv469_21998.txt',\n",
              " 'neg/cv470_17444.txt',\n",
              " 'neg/cv471_18405.txt',\n",
              " 'neg/cv472_29140.txt',\n",
              " 'neg/cv473_7869.txt',\n",
              " 'neg/cv474_10682.txt',\n",
              " 'neg/cv475_22978.txt',\n",
              " 'neg/cv476_18402.txt',\n",
              " 'neg/cv477_23530.txt',\n",
              " 'neg/cv478_15921.txt',\n",
              " 'neg/cv479_5450.txt',\n",
              " 'neg/cv480_21195.txt',\n",
              " 'neg/cv481_7930.txt',\n",
              " 'neg/cv482_11233.txt',\n",
              " 'neg/cv483_18103.txt',\n",
              " 'neg/cv484_26169.txt',\n",
              " 'neg/cv485_26879.txt',\n",
              " 'neg/cv486_9788.txt',\n",
              " 'neg/cv487_11058.txt',\n",
              " 'neg/cv488_21453.txt',\n",
              " 'neg/cv489_19046.txt',\n",
              " 'neg/cv490_18986.txt',\n",
              " 'neg/cv491_12992.txt',\n",
              " 'neg/cv492_19370.txt',\n",
              " 'neg/cv493_14135.txt',\n",
              " 'neg/cv494_18689.txt',\n",
              " 'neg/cv495_16121.txt',\n",
              " 'neg/cv496_11185.txt',\n",
              " 'neg/cv497_27086.txt',\n",
              " 'neg/cv498_9288.txt',\n",
              " 'neg/cv499_11407.txt',\n",
              " 'neg/cv500_10722.txt',\n",
              " 'neg/cv501_12675.txt',\n",
              " 'neg/cv502_10970.txt',\n",
              " 'neg/cv503_11196.txt',\n",
              " 'neg/cv504_29120.txt',\n",
              " 'neg/cv505_12926.txt',\n",
              " 'neg/cv506_17521.txt',\n",
              " 'neg/cv507_9509.txt',\n",
              " 'neg/cv508_17742.txt',\n",
              " 'neg/cv509_17354.txt',\n",
              " 'neg/cv510_24758.txt',\n",
              " 'neg/cv511_10360.txt',\n",
              " 'neg/cv512_17618.txt',\n",
              " 'neg/cv513_7236.txt',\n",
              " 'neg/cv514_12173.txt',\n",
              " 'neg/cv515_18484.txt',\n",
              " 'neg/cv516_12117.txt',\n",
              " 'neg/cv517_20616.txt',\n",
              " 'neg/cv518_14798.txt',\n",
              " 'neg/cv519_16239.txt',\n",
              " 'neg/cv520_13297.txt',\n",
              " 'neg/cv521_1730.txt',\n",
              " 'neg/cv522_5418.txt',\n",
              " 'neg/cv523_18285.txt',\n",
              " 'neg/cv524_24885.txt',\n",
              " 'neg/cv525_17930.txt',\n",
              " 'neg/cv526_12868.txt',\n",
              " 'neg/cv527_10338.txt',\n",
              " 'neg/cv528_11669.txt',\n",
              " 'neg/cv529_10972.txt',\n",
              " 'neg/cv530_17949.txt',\n",
              " 'neg/cv531_26838.txt',\n",
              " 'neg/cv532_6495.txt',\n",
              " 'neg/cv533_9843.txt',\n",
              " 'neg/cv534_15683.txt',\n",
              " 'neg/cv535_21183.txt',\n",
              " 'neg/cv536_27221.txt',\n",
              " 'neg/cv537_13516.txt',\n",
              " 'neg/cv538_28485.txt',\n",
              " 'neg/cv539_21865.txt',\n",
              " 'neg/cv540_3092.txt',\n",
              " 'neg/cv541_28683.txt',\n",
              " 'neg/cv542_20359.txt',\n",
              " 'neg/cv543_5107.txt',\n",
              " 'neg/cv544_5301.txt',\n",
              " 'neg/cv545_12848.txt',\n",
              " 'neg/cv546_12723.txt',\n",
              " 'neg/cv547_18043.txt',\n",
              " 'neg/cv548_18944.txt',\n",
              " 'neg/cv549_22771.txt',\n",
              " 'neg/cv550_23226.txt',\n",
              " 'neg/cv551_11214.txt',\n",
              " 'neg/cv552_0150.txt',\n",
              " 'neg/cv553_26965.txt',\n",
              " 'neg/cv554_14678.txt',\n",
              " 'neg/cv555_25047.txt',\n",
              " 'neg/cv556_16563.txt',\n",
              " 'neg/cv557_12237.txt',\n",
              " 'neg/cv558_29376.txt',\n",
              " 'neg/cv559_0057.txt',\n",
              " 'neg/cv560_18608.txt',\n",
              " 'neg/cv561_9484.txt',\n",
              " 'neg/cv562_10847.txt',\n",
              " 'neg/cv563_18610.txt',\n",
              " 'neg/cv564_12011.txt',\n",
              " 'neg/cv565_29403.txt',\n",
              " 'neg/cv566_8967.txt',\n",
              " 'neg/cv567_29420.txt',\n",
              " 'neg/cv568_17065.txt',\n",
              " 'neg/cv569_26750.txt',\n",
              " 'neg/cv570_28960.txt',\n",
              " 'neg/cv571_29292.txt',\n",
              " 'neg/cv572_20053.txt',\n",
              " 'neg/cv573_29384.txt',\n",
              " 'neg/cv574_23191.txt',\n",
              " 'neg/cv575_22598.txt',\n",
              " 'neg/cv576_15688.txt',\n",
              " 'neg/cv577_28220.txt',\n",
              " 'neg/cv578_16825.txt',\n",
              " 'neg/cv579_12542.txt',\n",
              " 'neg/cv580_15681.txt',\n",
              " 'neg/cv581_20790.txt',\n",
              " 'neg/cv582_6678.txt',\n",
              " 'neg/cv583_29465.txt',\n",
              " 'neg/cv584_29549.txt',\n",
              " 'neg/cv585_23576.txt',\n",
              " 'neg/cv586_8048.txt',\n",
              " 'neg/cv587_20532.txt',\n",
              " 'neg/cv588_14467.txt',\n",
              " 'neg/cv589_12853.txt',\n",
              " 'neg/cv590_20712.txt',\n",
              " 'neg/cv591_24887.txt',\n",
              " 'neg/cv592_23391.txt',\n",
              " 'neg/cv593_11931.txt',\n",
              " 'neg/cv594_11945.txt',\n",
              " 'neg/cv595_26420.txt',\n",
              " 'neg/cv596_4367.txt',\n",
              " 'neg/cv597_26744.txt',\n",
              " 'neg/cv598_18184.txt',\n",
              " 'neg/cv599_22197.txt',\n",
              " 'neg/cv600_25043.txt',\n",
              " 'neg/cv601_24759.txt',\n",
              " 'neg/cv602_8830.txt',\n",
              " 'neg/cv603_18885.txt',\n",
              " 'neg/cv604_23339.txt',\n",
              " 'neg/cv605_12730.txt',\n",
              " 'neg/cv606_17672.txt',\n",
              " 'neg/cv607_8235.txt',\n",
              " 'neg/cv608_24647.txt',\n",
              " 'neg/cv609_25038.txt',\n",
              " 'neg/cv610_24153.txt',\n",
              " 'neg/cv611_2253.txt',\n",
              " 'neg/cv612_5396.txt',\n",
              " 'neg/cv613_23104.txt',\n",
              " 'neg/cv614_11320.txt',\n",
              " 'neg/cv615_15734.txt',\n",
              " 'neg/cv616_29187.txt',\n",
              " 'neg/cv617_9561.txt',\n",
              " 'neg/cv618_9469.txt',\n",
              " 'neg/cv619_13677.txt',\n",
              " 'neg/cv620_2556.txt',\n",
              " 'neg/cv621_15984.txt',\n",
              " 'neg/cv622_8583.txt',\n",
              " 'neg/cv623_16988.txt',\n",
              " 'neg/cv624_11601.txt',\n",
              " 'neg/cv625_13518.txt',\n",
              " 'neg/cv626_7907.txt',\n",
              " 'neg/cv627_12603.txt',\n",
              " 'neg/cv628_20758.txt',\n",
              " 'neg/cv629_16604.txt',\n",
              " 'neg/cv630_10152.txt',\n",
              " 'neg/cv631_4782.txt',\n",
              " 'neg/cv632_9704.txt',\n",
              " 'neg/cv633_29730.txt',\n",
              " 'neg/cv634_11989.txt',\n",
              " 'neg/cv635_0984.txt',\n",
              " 'neg/cv636_16954.txt',\n",
              " 'neg/cv637_13682.txt',\n",
              " 'neg/cv638_29394.txt',\n",
              " 'neg/cv639_10797.txt',\n",
              " 'neg/cv640_5380.txt',\n",
              " 'neg/cv641_13412.txt',\n",
              " 'neg/cv642_29788.txt',\n",
              " 'neg/cv643_29282.txt',\n",
              " 'neg/cv644_18551.txt',\n",
              " 'neg/cv645_17078.txt',\n",
              " 'neg/cv646_16817.txt',\n",
              " 'neg/cv647_15275.txt',\n",
              " 'neg/cv648_17277.txt',\n",
              " 'neg/cv649_13947.txt',\n",
              " 'neg/cv650_15974.txt',\n",
              " 'neg/cv651_11120.txt',\n",
              " 'neg/cv652_15653.txt',\n",
              " 'neg/cv653_2107.txt',\n",
              " 'neg/cv654_19345.txt',\n",
              " 'neg/cv655_12055.txt',\n",
              " 'neg/cv656_25395.txt',\n",
              " 'neg/cv657_25835.txt',\n",
              " 'neg/cv658_11186.txt',\n",
              " 'neg/cv659_21483.txt',\n",
              " 'neg/cv660_23140.txt',\n",
              " 'neg/cv661_25780.txt',\n",
              " 'neg/cv662_14791.txt',\n",
              " 'neg/cv663_14484.txt',\n",
              " 'neg/cv664_4264.txt',\n",
              " 'neg/cv665_29386.txt',\n",
              " 'neg/cv666_20301.txt',\n",
              " 'neg/cv667_19672.txt',\n",
              " 'neg/cv668_18848.txt',\n",
              " 'neg/cv669_24318.txt',\n",
              " 'neg/cv670_2666.txt',\n",
              " 'neg/cv671_5164.txt',\n",
              " 'neg/cv672_27988.txt',\n",
              " 'neg/cv673_25874.txt',\n",
              " 'neg/cv674_11593.txt',\n",
              " 'neg/cv675_22871.txt',\n",
              " 'neg/cv676_22202.txt',\n",
              " 'neg/cv677_18938.txt',\n",
              " 'neg/cv678_14887.txt',\n",
              " 'neg/cv679_28221.txt',\n",
              " 'neg/cv680_10533.txt',\n",
              " 'neg/cv681_9744.txt',\n",
              " 'neg/cv682_17947.txt',\n",
              " 'neg/cv683_13047.txt',\n",
              " 'neg/cv684_12727.txt',\n",
              " 'neg/cv685_5710.txt',\n",
              " 'neg/cv686_15553.txt',\n",
              " 'neg/cv687_22207.txt',\n",
              " 'neg/cv688_7884.txt',\n",
              " 'neg/cv689_13701.txt',\n",
              " 'neg/cv690_5425.txt',\n",
              " 'neg/cv691_5090.txt',\n",
              " 'neg/cv692_17026.txt',\n",
              " 'neg/cv693_19147.txt',\n",
              " 'neg/cv694_4526.txt',\n",
              " 'neg/cv695_22268.txt',\n",
              " 'neg/cv696_29619.txt',\n",
              " 'neg/cv697_12106.txt',\n",
              " 'neg/cv698_16930.txt',\n",
              " 'neg/cv699_7773.txt',\n",
              " 'neg/cv700_23163.txt',\n",
              " 'neg/cv701_15880.txt',\n",
              " 'neg/cv702_12371.txt',\n",
              " 'neg/cv703_17948.txt',\n",
              " 'neg/cv704_17622.txt',\n",
              " 'neg/cv705_11973.txt',\n",
              " 'neg/cv706_25883.txt',\n",
              " 'neg/cv707_11421.txt',\n",
              " 'neg/cv708_28539.txt',\n",
              " 'neg/cv709_11173.txt',\n",
              " 'neg/cv710_23745.txt',\n",
              " 'neg/cv711_12687.txt',\n",
              " 'neg/cv712_24217.txt',\n",
              " 'neg/cv713_29002.txt',\n",
              " 'neg/cv714_19704.txt',\n",
              " 'neg/cv715_19246.txt',\n",
              " 'neg/cv716_11153.txt',\n",
              " 'neg/cv717_17472.txt',\n",
              " 'neg/cv718_12227.txt',\n",
              " 'neg/cv719_5581.txt',\n",
              " 'neg/cv720_5383.txt',\n",
              " 'neg/cv721_28993.txt',\n",
              " 'neg/cv722_7571.txt',\n",
              " 'neg/cv723_9002.txt',\n",
              " 'neg/cv724_15265.txt',\n",
              " 'neg/cv725_10266.txt',\n",
              " 'neg/cv726_4365.txt',\n",
              " 'neg/cv727_5006.txt',\n",
              " 'neg/cv728_17931.txt',\n",
              " 'neg/cv729_10475.txt',\n",
              " 'neg/cv730_10729.txt',\n",
              " 'neg/cv731_3968.txt',\n",
              " 'neg/cv732_13092.txt',\n",
              " 'neg/cv733_9891.txt',\n",
              " 'neg/cv734_22821.txt',\n",
              " 'neg/cv735_20218.txt',\n",
              " 'neg/cv736_24947.txt',\n",
              " 'neg/cv737_28733.txt',\n",
              " 'neg/cv738_10287.txt',\n",
              " 'neg/cv739_12179.txt',\n",
              " 'neg/cv740_13643.txt',\n",
              " 'neg/cv741_12765.txt',\n",
              " 'neg/cv742_8279.txt',\n",
              " 'neg/cv743_17023.txt',\n",
              " 'neg/cv744_10091.txt',\n",
              " 'neg/cv745_14009.txt',\n",
              " 'neg/cv746_10471.txt',\n",
              " 'neg/cv747_18189.txt',\n",
              " 'neg/cv748_14044.txt',\n",
              " 'neg/cv749_18960.txt',\n",
              " 'neg/cv750_10606.txt',\n",
              " 'neg/cv751_17208.txt',\n",
              " 'neg/cv752_25330.txt',\n",
              " 'neg/cv753_11812.txt',\n",
              " 'neg/cv754_7709.txt',\n",
              " 'neg/cv755_24881.txt',\n",
              " 'neg/cv756_23676.txt',\n",
              " 'neg/cv757_10668.txt',\n",
              " 'neg/cv758_9740.txt',\n",
              " 'neg/cv759_15091.txt',\n",
              " 'neg/cv760_8977.txt',\n",
              " 'neg/cv761_13769.txt',\n",
              " 'neg/cv762_15604.txt',\n",
              " 'neg/cv763_16486.txt',\n",
              " 'neg/cv764_12701.txt',\n",
              " 'neg/cv765_20429.txt',\n",
              " 'neg/cv766_7983.txt',\n",
              " 'neg/cv767_15673.txt',\n",
              " 'neg/cv768_12709.txt',\n",
              " 'neg/cv769_8565.txt',\n",
              " 'neg/cv770_11061.txt',\n",
              " 'neg/cv771_28466.txt',\n",
              " 'neg/cv772_12971.txt',\n",
              " 'neg/cv773_20264.txt',\n",
              " 'neg/cv774_15488.txt',\n",
              " 'neg/cv775_17966.txt',\n",
              " 'neg/cv776_21934.txt',\n",
              " 'neg/cv777_10247.txt',\n",
              " 'neg/cv778_18629.txt',\n",
              " 'neg/cv779_18989.txt',\n",
              " 'neg/cv780_8467.txt',\n",
              " 'neg/cv781_5358.txt',\n",
              " 'neg/cv782_21078.txt',\n",
              " 'neg/cv783_14724.txt',\n",
              " 'neg/cv784_16077.txt',\n",
              " 'neg/cv785_23748.txt',\n",
              " 'neg/cv786_23608.txt',\n",
              " 'neg/cv787_15277.txt',\n",
              " 'neg/cv788_26409.txt',\n",
              " 'neg/cv789_12991.txt',\n",
              " 'neg/cv790_16202.txt',\n",
              " 'neg/cv791_17995.txt',\n",
              " 'neg/cv792_3257.txt',\n",
              " 'neg/cv793_15235.txt',\n",
              " 'neg/cv794_17353.txt',\n",
              " 'neg/cv795_10291.txt',\n",
              " 'neg/cv796_17243.txt',\n",
              " 'neg/cv797_7245.txt',\n",
              " 'neg/cv798_24779.txt',\n",
              " 'neg/cv799_19812.txt',\n",
              " 'neg/cv800_13494.txt',\n",
              " 'neg/cv801_26335.txt',\n",
              " 'neg/cv802_28381.txt',\n",
              " 'neg/cv803_8584.txt',\n",
              " 'neg/cv804_11763.txt',\n",
              " 'neg/cv805_21128.txt',\n",
              " 'neg/cv806_9405.txt',\n",
              " 'neg/cv807_23024.txt',\n",
              " 'neg/cv808_13773.txt',\n",
              " 'neg/cv809_5012.txt',\n",
              " 'neg/cv810_13660.txt',\n",
              " 'neg/cv811_22646.txt',\n",
              " 'neg/cv812_19051.txt',\n",
              " 'neg/cv813_6649.txt',\n",
              " 'neg/cv814_20316.txt',\n",
              " 'neg/cv815_23466.txt',\n",
              " 'neg/cv816_15257.txt',\n",
              " 'neg/cv817_3675.txt',\n",
              " 'neg/cv818_10698.txt',\n",
              " 'neg/cv819_9567.txt',\n",
              " 'neg/cv820_24157.txt',\n",
              " 'neg/cv821_29283.txt',\n",
              " 'neg/cv822_21545.txt',\n",
              " 'neg/cv823_17055.txt',\n",
              " 'neg/cv824_9335.txt',\n",
              " 'neg/cv825_5168.txt',\n",
              " 'neg/cv826_12761.txt',\n",
              " 'neg/cv827_19479.txt',\n",
              " 'neg/cv828_21392.txt',\n",
              " 'neg/cv829_21725.txt',\n",
              " 'neg/cv830_5778.txt',\n",
              " 'neg/cv831_16325.txt',\n",
              " 'neg/cv832_24713.txt',\n",
              " 'neg/cv833_11961.txt',\n",
              " 'neg/cv834_23192.txt',\n",
              " 'neg/cv835_20531.txt',\n",
              " 'neg/cv836_14311.txt',\n",
              " 'neg/cv837_27232.txt',\n",
              " 'neg/cv838_25886.txt',\n",
              " 'neg/cv839_22807.txt',\n",
              " 'neg/cv840_18033.txt',\n",
              " 'neg/cv841_3367.txt',\n",
              " 'neg/cv842_5702.txt',\n",
              " 'neg/cv843_17054.txt',\n",
              " 'neg/cv844_13890.txt',\n",
              " 'neg/cv845_15886.txt',\n",
              " 'neg/cv846_29359.txt',\n",
              " 'neg/cv847_20855.txt',\n",
              " 'neg/cv848_10061.txt',\n",
              " 'neg/cv849_17215.txt',\n",
              " 'neg/cv850_18185.txt',\n",
              " 'neg/cv851_21895.txt',\n",
              " 'neg/cv852_27512.txt',\n",
              " 'neg/cv853_29119.txt',\n",
              " 'neg/cv854_18955.txt',\n",
              " 'neg/cv855_22134.txt',\n",
              " 'neg/cv856_28882.txt',\n",
              " 'neg/cv857_17527.txt',\n",
              " 'neg/cv858_20266.txt',\n",
              " 'neg/cv859_15689.txt',\n",
              " 'neg/cv860_15520.txt',\n",
              " 'neg/cv861_12809.txt',\n",
              " 'neg/cv862_15924.txt',\n",
              " 'neg/cv863_7912.txt',\n",
              " 'neg/cv864_3087.txt',\n",
              " 'neg/cv865_28796.txt',\n",
              " 'neg/cv866_29447.txt',\n",
              " 'neg/cv867_18362.txt',\n",
              " 'neg/cv868_12799.txt',\n",
              " 'neg/cv869_24782.txt',\n",
              " 'neg/cv870_18090.txt',\n",
              " 'neg/cv871_25971.txt',\n",
              " 'neg/cv872_13710.txt',\n",
              " 'neg/cv873_19937.txt',\n",
              " 'neg/cv874_12182.txt',\n",
              " 'neg/cv875_5622.txt',\n",
              " 'neg/cv876_9633.txt',\n",
              " 'neg/cv877_29132.txt',\n",
              " 'neg/cv878_17204.txt',\n",
              " 'neg/cv879_16585.txt',\n",
              " 'neg/cv880_29629.txt',\n",
              " 'neg/cv881_14767.txt',\n",
              " 'neg/cv882_10042.txt',\n",
              " 'neg/cv883_27621.txt',\n",
              " 'neg/cv884_15230.txt',\n",
              " 'neg/cv885_13390.txt',\n",
              " 'neg/cv886_19210.txt',\n",
              " 'neg/cv887_5306.txt',\n",
              " 'neg/cv888_25678.txt',\n",
              " 'neg/cv889_22670.txt',\n",
              " 'neg/cv890_3515.txt',\n",
              " 'neg/cv891_6035.txt',\n",
              " 'neg/cv892_18788.txt',\n",
              " 'neg/cv893_26731.txt',\n",
              " 'neg/cv894_22140.txt',\n",
              " 'neg/cv895_22200.txt',\n",
              " 'neg/cv896_17819.txt',\n",
              " 'neg/cv897_11703.txt',\n",
              " 'neg/cv898_1576.txt',\n",
              " 'neg/cv899_17812.txt',\n",
              " 'neg/cv900_10800.txt',\n",
              " 'neg/cv901_11934.txt',\n",
              " 'neg/cv902_13217.txt',\n",
              " 'neg/cv903_18981.txt',\n",
              " 'neg/cv904_25663.txt',\n",
              " 'neg/cv905_28965.txt',\n",
              " 'neg/cv906_12332.txt',\n",
              " 'neg/cv907_3193.txt',\n",
              " 'neg/cv908_17779.txt',\n",
              " 'neg/cv909_9973.txt',\n",
              " 'neg/cv910_21930.txt',\n",
              " 'neg/cv911_21695.txt',\n",
              " 'neg/cv912_5562.txt',\n",
              " 'neg/cv913_29127.txt',\n",
              " 'neg/cv914_2856.txt',\n",
              " 'neg/cv915_9342.txt',\n",
              " 'neg/cv916_17034.txt',\n",
              " 'neg/cv917_29484.txt',\n",
              " 'neg/cv918_27080.txt',\n",
              " 'neg/cv919_18155.txt',\n",
              " 'neg/cv920_29423.txt',\n",
              " 'neg/cv921_13988.txt',\n",
              " 'neg/cv922_10185.txt',\n",
              " 'neg/cv923_11951.txt',\n",
              " 'neg/cv924_29397.txt',\n",
              " 'neg/cv925_9459.txt',\n",
              " 'neg/cv926_18471.txt',\n",
              " 'neg/cv927_11471.txt',\n",
              " 'neg/cv928_9478.txt',\n",
              " 'neg/cv929_1841.txt',\n",
              " 'neg/cv930_14949.txt',\n",
              " 'neg/cv931_18783.txt',\n",
              " 'neg/cv932_14854.txt',\n",
              " 'neg/cv933_24953.txt',\n",
              " 'neg/cv934_20426.txt',\n",
              " 'neg/cv935_24977.txt',\n",
              " 'neg/cv936_17473.txt',\n",
              " 'neg/cv937_9816.txt',\n",
              " 'neg/cv938_10706.txt',\n",
              " 'neg/cv939_11247.txt',\n",
              " 'neg/cv940_18935.txt',\n",
              " 'neg/cv941_10718.txt',\n",
              " 'neg/cv942_18509.txt',\n",
              " 'neg/cv943_23547.txt',\n",
              " 'neg/cv944_15042.txt',\n",
              " 'neg/cv945_13012.txt',\n",
              " 'neg/cv946_20084.txt',\n",
              " 'neg/cv947_11316.txt',\n",
              " 'neg/cv948_25870.txt',\n",
              " 'neg/cv949_21565.txt',\n",
              " 'neg/cv950_13478.txt',\n",
              " 'neg/cv951_11816.txt',\n",
              " 'neg/cv952_26375.txt',\n",
              " 'neg/cv953_7078.txt',\n",
              " 'neg/cv954_19932.txt',\n",
              " 'neg/cv955_26154.txt',\n",
              " 'neg/cv956_12547.txt',\n",
              " 'neg/cv957_9059.txt',\n",
              " 'neg/cv958_13020.txt',\n",
              " 'neg/cv959_16218.txt',\n",
              " 'neg/cv960_28877.txt',\n",
              " 'neg/cv961_5578.txt',\n",
              " 'neg/cv962_9813.txt',\n",
              " 'neg/cv963_7208.txt',\n",
              " 'neg/cv964_5794.txt',\n",
              " 'neg/cv965_26688.txt',\n",
              " 'neg/cv966_28671.txt',\n",
              " 'neg/cv967_5626.txt',\n",
              " 'neg/cv968_25413.txt',\n",
              " 'neg/cv969_14760.txt',\n",
              " 'neg/cv970_19532.txt',\n",
              " 'neg/cv971_11790.txt',\n",
              " 'neg/cv972_26837.txt',\n",
              " 'neg/cv973_10171.txt',\n",
              " 'neg/cv974_24303.txt',\n",
              " 'neg/cv975_11920.txt',\n",
              " 'neg/cv976_10724.txt',\n",
              " 'neg/cv977_4776.txt',\n",
              " 'neg/cv978_22192.txt',\n",
              " 'neg/cv979_2029.txt',\n",
              " 'neg/cv980_11851.txt',\n",
              " 'neg/cv981_16679.txt',\n",
              " 'neg/cv982_22209.txt',\n",
              " 'neg/cv983_24219.txt',\n",
              " 'neg/cv984_14006.txt',\n",
              " 'neg/cv985_5964.txt',\n",
              " 'neg/cv986_15092.txt',\n",
              " 'neg/cv987_7394.txt',\n",
              " 'neg/cv988_20168.txt',\n",
              " 'neg/cv989_17297.txt',\n",
              " 'neg/cv990_12443.txt',\n",
              " 'neg/cv991_19973.txt',\n",
              " 'neg/cv992_12806.txt',\n",
              " 'neg/cv993_29565.txt',\n",
              " 'neg/cv994_13229.txt',\n",
              " 'neg/cv995_23113.txt',\n",
              " 'neg/cv996_12447.txt',\n",
              " 'neg/cv997_5152.txt',\n",
              " 'neg/cv998_15691.txt',\n",
              " 'neg/cv999_14636.txt',\n",
              " ...]"
            ]
          },
          "metadata": {},
          "execution_count": 16
        }
      ],
      "source": [
        "movie_reviews.fileids()"
      ]
    },
    {
      "cell_type": "code",
      "execution_count": null,
      "metadata": {
        "colab": {
          "base_uri": "https://localhost:8080/"
        },
        "id": "eqwFtwP7TenG",
        "outputId": "bcac7dbf-77d0-4305-cf9e-6d2e9412771a"
      },
      "outputs": [
        {
          "output_type": "execute_result",
          "data": {
            "text/plain": [
              "['neg', 'pos']"
            ]
          },
          "metadata": {},
          "execution_count": 17
        }
      ],
      "source": [
        "movie_reviews.categories()"
      ]
    },
    {
      "cell_type": "code",
      "execution_count": null,
      "metadata": {
        "colab": {
          "base_uri": "https://localhost:8080/"
        },
        "id": "oI34H19iV4M9",
        "outputId": "e15c3262-75dc-4381-dea6-c36e54b6cd3e"
      },
      "outputs": [
        {
          "output_type": "stream",
          "name": "stdout",
          "text": [
            "+ve movie reviews :  1000\n",
            "-ve movie reviews :  1000\n"
          ]
        }
      ],
      "source": [
        "print(\"+ve movie reviews : \",len(movie_reviews.fileids('pos')))\n",
        "print(\"-ve movie reviews : \",len(movie_reviews.fileids('neg')))"
      ]
    },
    {
      "cell_type": "code",
      "execution_count": null,
      "metadata": {
        "id": "C7c_1hnebPCs"
      },
      "outputs": [],
      "source": [
        "import matplotlib.pyplot as plt"
      ]
    },
    {
      "cell_type": "code",
      "execution_count": null,
      "metadata": {
        "colab": {
          "base_uri": "https://localhost:8080/",
          "height": 303
        },
        "id": "5-nZTWKIcHVp",
        "outputId": "4566b616-0cff-4895-fe23-126a5112fa4d"
      },
      "outputs": [
        {
          "output_type": "display_data",
          "data": {
            "text/plain": [
              "<Figure size 360x360 with 1 Axes>"
            ],
            "image/png": "[encoded data removed]"
          },
          "metadata": {}
        }
      ],
      "source": [
        "fig = plt.figure(figsize=(5,5))\n",
        "labels = 'Positive','Negative'\n",
        "\n",
        "sizes = [len(movie_reviews.fileids('pos')),len(movie_reviews.fileids('neg'))]\n",
        "\n",
        "plt.pie(sizes,labels=labels,autopct='%1.1f%%',shadow=True,startangle=90)\n",
        "\n",
        "plt.axis('equal')\n",
        "\n",
        "plt.show()"
      ]
    },
    {
      "cell_type": "code",
      "execution_count": null,
      "metadata": {
        "colab": {
          "base_uri": "https://localhost:8080/"
        },
        "id": "gct7vMm_cqer",
        "outputId": "4027c3b4-99ae-4def-e85e-fc1b220af944"
      },
      "outputs": [
        {
          "output_type": "stream",
          "name": "stdout",
          "text": [
            "\u001b[91mplot : two teen couples go to a church party , drink and then drive . \n",
            "they get into an accident . \n",
            "one of the guys dies , but his girlfriend continues to see him in her life , and has nightmares . \n",
            "what's the deal ? \n",
            "watch the movie and \" sorta \" find out . . . \n",
            "critique : a mind-fuck movie for the teen generation that touches on a very cool idea , but presents it in a very bad package . \n",
            "which is what makes this review an even harder one to write , since i generally applaud films which attempt to break the mold , mess with your head and such ( lost highway & memento ) , but there are good and bad ways of making all types of films , and these folks just didn't snag this one correctly . \n",
            "they seem to have taken this pretty neat concept , but executed it terribly . \n",
            "so what are the problems with the movie ? \n",
            "well , its main problem is that it's simply too jumbled . \n",
            "it starts off \" normal \" but then downshifts into this \" fantasy \" world in which you , as an audience member , have no idea what's going on . \n",
            "there are dreams , there are characters coming back from the dead , there are others who look like the dead , there are strange apparitions , there are disappearances , there are a looooot of chase scenes , there are tons of weird things that happen , and most of it is simply not explained . \n",
            "now i personally don't mind trying to unravel a film every now and then , but when all it does is give me the same clue over and over again , i get kind of fed up after a while , which is this film's biggest problem . \n",
            "it's obviously got this big secret to hide , but it seems to want to hide it completely until its final five minutes . \n",
            "and do they make things entertaining , thrilling or even engaging , in the meantime ? \n",
            "not really . \n",
            "the sad part is that the arrow and i both dig on flicks like this , so we actually figured most of it out by the half-way point , so all of the strangeness after that did start to make a little bit of sense , but it still didn't the make the film all that more entertaining . \n",
            "i guess the bottom line with movies like this is that you should always make sure that the audience is \" into it \" even before they are given the secret password to enter your world of understanding . \n",
            "i mean , showing melissa sagemiller running away from visions for about 20 minutes throughout the movie is just plain lazy ! ! \n",
            "okay , we get it . . . there \n",
            "are people chasing her and we don't know who they are . \n",
            "do we really need to see it over and over again ? \n",
            "how about giving us different scenes offering further insight into all of the strangeness going down in the movie ? \n",
            "apparently , the studio took this film away from its director and chopped it up themselves , and it shows . \n",
            "there might've been a pretty decent teen mind-fuck movie in here somewhere , but i guess \" the suits \" decided that turning it into a music video with little edge , would make more sense . \n",
            "the actors are pretty good for the most part , although wes bentley just seemed to be playing the exact same character that he did in american beauty , only in a new neighborhood . \n",
            "but my biggest kudos go out to sagemiller , who holds her own throughout the entire film , and actually has you feeling her character's unraveling . \n",
            "overall , the film doesn't stick because it doesn't entertain , it's confusing , it rarely excites and it feels pretty redundant for most of its runtime , despite a pretty cool ending and explanation to all of the craziness that came before it . \n",
            "oh , and by the way , this is not a horror or teen slasher flick . . . it's \n",
            "just packaged to look that way because someone is apparently assuming that the genre is still hot with the kids . \n",
            "it also wrapped production two years ago and has been sitting on the shelves ever since . \n",
            "whatever . . . skip \n",
            "it ! \n",
            "where's joblo coming from ? \n",
            "a nightmare of elm street 3 ( 7/10 ) - blair witch 2 ( 7/10 ) - the crow ( 9/10 ) - the crow : salvation ( 4/10 ) - lost highway ( 10/10 ) - memento ( 10/10 ) - the others ( 9/10 ) - stir of echoes ( 8/10 ) \n",
            "\n"
          ]
        }
      ],
      "source": [
        "# One Negative review printed in red color text\n",
        "print('\\033[91m'+ movie_reviews.raw('neg/cv000_29416.txt'))"
      ]
    },
    {
      "cell_type": "code",
      "execution_count": null,
      "metadata": {
        "colab": {
          "base_uri": "https://localhost:8080/"
        },
        "id": "OFH9ZaqPdW46",
        "outputId": "3db49826-1672-4bb5-d227-10cfa97efe32"
      },
      "outputs": [
        {
          "output_type": "stream",
          "name": "stdout",
          "text": [
            "\u001b[92mmeteor threat set to blow away all volcanoes & twisters ! \n",
            "summer is here again ! \n",
            "this season could probably be the most ambitious = season this decade with hollywood churning out films like deep impact , = godzilla , the x-files , armageddon , the truman show , all of which has but = one main aim , to rock the box office . \n",
            "leading the pack this summer is = deep impact , one of the first few film releases from the = spielberg-katzenberg-geffen's dreamworks production company . \n",
            "following = the rather dismal showing of their previous two releases ; mousehunt and = amistad , deep impact shines with elements which could just make it one = of the biggest movies of the year . \n",
            "deep impact begins with the discovery of an earth bound comet during a = school astronomy outing by leo beiderman ( elijah wood ) which = subsequently stirred up the political community of the world . \n",
            "keeping = the information under wraps to prevent widespread panic , president beck = ( morgan freeman ) took it upon himself and his subordinates to execute a = highly secretive space project to destroy the comet before it hits = earth . \n",
            "while pursuing a sex-scandal story amongst the presidential = ranks , ambitious up and coming reporter , jenny lerner ( tea leoni ) = unfolds the wool that president beck has pulled over the citizens of the = world . \n",
            "as if the knowledge of the imminent annihilation of mankind is = not enough , jenny has to come to terms with her father ( maximillian = schell ) leaving the mother for a younger woman . =20 \n",
            "president beck announces the discovery and preparations to destroy the = comet exactly one-year later , with so much confidence that it left no = trace of panic within the american community . \n",
            "achieving fame from = announcement of the comet wolf-beiderman en-route to earth ( the name of = its discoverers ) , leo beiderman continues life in his small town as a = young celebrity . \n",
            "a team of astronauts , led by the ageing veteran = astronaut spurgeon tanner ( robert duvall ) , was secretly trained to carry = out the mission to land on the comet and create and explosion with a = nuclear device , with the hope of blowing it out of its current path = towards earth . \n",
            "despite him being the most experienced in the team , the = younger generation of astronauts in the team doubts tanner's ability due = to his age . \n",
            "but these are just problems of individuals . \n",
            "life on earth = goes on as any other day , confident that the comet will be destroyed . \n",
            "when the attempt to avert wolf-beiderman's path failed and caused the = comet to split into two : comet wolf and comet beiderman , the president = unfolds his contingency plan to evacuate part of the population , leaving = the rest to die . \n",
            "citizens are randomly chosen to live underground for 2 = years prior to impact , when the dust due to the impact around earth have = settled , by then all life on the surface would have died . \n",
            "jenny and leo = were picked but many of their loved ones were not , only a handful of = earth's population will be saved from destruction . \n",
            "=20 \n",
            "deep impact's moving moments occur in the least special-effect laced = scenes . \n",
            "while the effects are fantastic , they only form a small part of = the film , which indulges itself in the development of its main = characters ; leo , lerner and tanner . \n",
            "leo's struggle when he learns that = his girlfriend is not part of the population to be saved , lerner's = dwindling relationship with her father and her pain for the mother's = loneliness , tanner's strive to gain the respect he deserves from his = crew and his ultimate sacrifice , all form the backbone of deep impact's = moving moments . \n",
            "deep impact smells suspiciously like the previous year = release contact despite vivid differences . \n",
            "i think its probably because = they both delve in a story of global proportions and indulges in the = premise of hope , faith and life itself . \n",
            "both do not depend heavily on = eye-candy in the form of cgi effects . \n",
            "director mimi leder ( who won = numerous awards directing television series , and made her debut with = peacekeeper last year ) is definitely a director to watch . =20 \n",
            "despite this being the first of the two meteor movies this summer ( the = other being armageddon ) , i think there will be stark differences in the = approach to the subject matter . \n",
            "while the premise of both may be the = same , execution and focus of the films will in fact show that deep = impact has more focus on human elements than armageddon , which is done = by the team which brought us bad boys , crimson tide and the rock . \n",
            "=20 \n",
            "deep impact should be able to satisfy a variety of audiences ; from the = most action-craving to those who just want to immerse into its = manipulative but nonetheless dramatic premise . \n",
            "\n"
          ]
        }
      ],
      "source": [
        "# One Positive review printed in green color text\n",
        "print('\\033[92m'+ movie_reviews.raw('pos/cv944_13521.txt'))"
      ]
    },
    {
      "cell_type": "markdown",
      "metadata": {
        "id": "2nP53bNbj1JT"
      },
      "source": [
        "Tokenize the string"
      ]
    },
    {
      "cell_type": "code",
      "execution_count": null,
      "metadata": {
        "colab": {
          "base_uri": "https://localhost:8080/"
        },
        "id": "xRK0EGSde36C",
        "outputId": "4b716afe-a563-4330-a72c-1c4c458764ad"
      },
      "outputs": [
        {
          "output_type": "stream",
          "name": "stdout",
          "text": [
            "\u001b[92mmeteor threat set to blow away all volcanoes & twisters ! \n",
            "summer is here again ! \n",
            "this season could probably be the most ambitious = season this decade with hollywood churning out films like deep impact , = godzilla , the x-files , armageddon , the truman show , all of which has but = one main aim , to rock the box office . \n",
            "leading the pack this summer is = deep impact , one of the first few film releases from the = spielberg-katzenberg-geffen's dreamworks production company . \n",
            "following = the rather dismal showing of their previous two releases ; mousehunt and = amistad , deep impact shines with elements which could just make it one = of the biggest movies of the year . \n",
            "deep impact begins with the discovery of an earth bound comet during a = school astronomy outing by leo beiderman ( elijah wood ) which = subsequently stirred up the political community of the world . \n",
            "keeping = the information under wraps to prevent widespread panic , president beck = ( morgan freeman ) took it upon himself and his subordinates to execute a = highly secretive space project to destroy the comet before it hits = earth . \n",
            "while pursuing a sex-scandal story amongst the presidential = ranks , ambitious up and coming reporter , jenny lerner ( tea leoni ) = unfolds the wool that president beck has pulled over the citizens of the = world . \n",
            "as if the knowledge of the imminent annihilation of mankind is = not enough , jenny has to come to terms with her father ( maximillian = schell ) leaving the mother for a younger woman . =20 \n",
            "president beck announces the discovery and preparations to destroy the = comet exactly one-year later , with so much confidence that it left no = trace of panic within the american community . \n",
            "achieving fame from = announcement of the comet wolf-beiderman en-route to earth ( the name of = its discoverers ) , leo beiderman continues life in his small town as a = young celebrity . \n",
            "a team of astronauts , led by the ageing veteran = astronaut spurgeon tanner ( robert duvall ) , was secretly trained to carry = out the mission to land on the comet and create and explosion with a = nuclear device , with the hope of blowing it out of its current path = towards earth . \n",
            "despite him being the most experienced in the team , the = younger generation of astronauts in the team doubts tanner's ability due = to his age . \n",
            "but these are just problems of individuals . \n",
            "life on earth = goes on as any other day , confident that the comet will be destroyed . \n",
            "when the attempt to avert wolf-beiderman's path failed and caused the = comet to split into two : comet wolf and comet beiderman , the president = unfolds his contingency plan to evacuate part of the population , leaving = the rest to die . \n",
            "citizens are randomly chosen to live underground for 2 = years prior to impact , when the dust due to the impact around earth have = settled , by then all life on the surface would have died . \n",
            "jenny and leo = were picked but many of their loved ones were not , only a handful of = earth's population will be saved from destruction . \n",
            "=20 \n",
            "deep impact's moving moments occur in the least special-effect laced = scenes . \n",
            "while the effects are fantastic , they only form a small part of = the film , which indulges itself in the development of its main = characters ; leo , lerner and tanner . \n",
            "leo's struggle when he learns that = his girlfriend is not part of the population to be saved , lerner's = dwindling relationship with her father and her pain for the mother's = loneliness , tanner's strive to gain the respect he deserves from his = crew and his ultimate sacrifice , all form the backbone of deep impact's = moving moments . \n",
            "deep impact smells suspiciously like the previous year = release contact despite vivid differences . \n",
            "i think its probably because = they both delve in a story of global proportions and indulges in the = premise of hope , faith and life itself . \n",
            "both do not depend heavily on = eye-candy in the form of cgi effects . \n",
            "director mimi leder ( who won = numerous awards directing television series , and made her debut with = peacekeeper last year ) is definitely a director to watch . =20 \n",
            "despite this being the first of the two meteor movies this summer ( the = other being armageddon ) , i think there will be stark differences in the = approach to the subject matter . \n",
            "while the premise of both may be the = same , execution and focus of the films will in fact show that deep = impact has more focus on human elements than armageddon , which is done = by the team which brought us bad boys , crimson tide and the rock . \n",
            "=20 \n",
            "deep impact should be able to satisfy a variety of audiences ; from the = most action-craving to those who just want to immerse into its = manipulative but nonetheless dramatic premise . \n",
            "\n",
            "\n",
            "\u001b[94mTokenized string:\n",
            "['meteor', 'threat', 'set', 'to', 'blow', 'away', 'all', 'volcanoes', '&', 'twisters', '!', 'summer', 'is', 'here', 'again', '!', 'this', 'season', 'could', 'probably', 'be', 'the', 'most', 'ambitious', '=', 'season', 'this', 'decade', 'with', 'hollywood', 'churning', 'out', 'films', 'like', 'deep', 'impact', ',', '=', 'godzilla', ',', 'the', 'x-files', ',', 'armageddon', ',', 'the', 'truman', 'show', ',', 'all', 'of', 'which', 'has', 'but', '=', 'one', 'main', 'aim', ',', 'to', 'rock', 'the', 'box', 'office', '.', 'leading', 'the', 'pack', 'this', 'summer', 'is', '=', 'deep', 'impact', ',', 'one', 'of', 'the', 'first', 'few', 'film', 'releases', 'from', 'the', '=', \"spielberg-katzenberg-geffen's\", 'dreamworks', 'production', 'company', '.', 'following', '=', 'the', 'rather', 'dismal', 'showing', 'of', 'their', 'previous', 'two', 'releases', ';', 'mousehunt', 'and', '=', 'amistad', ',', 'deep', 'impact', 'shines', 'with', 'elements', 'which', 'could', 'just', 'make', 'it', 'one', '=', 'of', 'the', 'biggest', 'movies', 'of', 'the', 'year', '.', 'deep', 'impact', 'begins', 'with', 'the', 'discovery', 'of', 'an', 'earth', 'bound', 'comet', 'during', 'a', '=', 'school', 'astronomy', 'outing', 'by', 'leo', 'beiderman', '(', 'elijah', 'wood', ')', 'which', '=', 'subsequently', 'stirred', 'up', 'the', 'political', 'community', 'of', 'the', 'world', '.', 'keeping', '=', 'the', 'information', 'under', 'wraps', 'to', 'prevent', 'widespread', 'panic', ',', 'president', 'beck', '=', '(', 'morgan', 'freeman', ')', 'took', 'it', 'upon', 'himself', 'and', 'his', 'subordinates', 'to', 'execute', 'a', '=', 'highly', 'secretive', 'space', 'project', 'to', 'destroy', 'the', 'comet', 'before', 'it', 'hits', '=', 'earth', '.', 'while', 'pursuing', 'a', 'sex-scandal', 'story', 'amongst', 'the', 'presidential', '=', 'ranks', ',', 'ambitious', 'up', 'and', 'coming', 'reporter', ',', 'jenny', 'lerner', '(', 'tea', 'leoni', ')', '=', 'unfolds', 'the', 'wool', 'that', 'president', 'beck', 'has', 'pulled', 'over', 'the', 'citizens', 'of', 'the', '=', 'world', '.', 'as', 'if', 'the', 'knowledge', 'of', 'the', 'imminent', 'annihilation', 'of', 'mankind', 'is', '=', 'not', 'enough', ',', 'jenny', 'has', 'to', 'come', 'to', 'terms', 'with', 'her', 'father', '(', 'maximillian', '=', 'schell', ')', 'leaving', 'the', 'mother', 'for', 'a', 'younger', 'woman', '.', '=20', 'president', 'beck', 'announces', 'the', 'discovery', 'and', 'preparations', 'to', 'destroy', 'the', '=', 'comet', 'exactly', 'one-year', 'later', ',', 'with', 'so', 'much', 'confidence', 'that', 'it', 'left', 'no', '=', 'trace', 'of', 'panic', 'within', 'the', 'american', 'community', '.', 'achieving', 'fame', 'from', '=', 'announcement', 'of', 'the', 'comet', 'wolf-beiderman', 'en-route', 'to', 'earth', '(', 'the', 'name', 'of', '=', 'its', 'discoverers', ')', ',', 'leo', 'beiderman', 'continues', 'life', 'in', 'his', 'small', 'town', 'as', 'a', '=', 'young', 'celebrity', '.', 'a', 'team', 'of', 'astronauts', ',', 'led', 'by', 'the', 'ageing', 'veteran', '=', 'astronaut', 'spurgeon', 'tanner', '(', 'robert', 'duvall', ')', ',', 'was', 'secretly', 'trained', 'to', 'carry', '=', 'out', 'the', 'mission', 'to', 'land', 'on', 'the', 'comet', 'and', 'create', 'and', 'explosion', 'with', 'a', '=', 'nuclear', 'device', ',', 'with', 'the', 'hope', 'of', 'blowing', 'it', 'out', 'of', 'its', 'current', 'path', '=', 'towards', 'earth', '.', 'despite', 'him', 'being', 'the', 'most', 'experienced', 'in', 'the', 'team', ',', 'the', '=', 'younger', 'generation', 'of', 'astronauts', 'in', 'the', 'team', 'doubts', \"tanner's\", 'ability', 'due', '=', 'to', 'his', 'age', '.', 'but', 'these', 'are', 'just', 'problems', 'of', 'individuals', '.', 'life', 'on', 'earth', '=', 'goes', 'on', 'as', 'any', 'other', 'day', ',', 'confident', 'that', 'the', 'comet', 'will', 'be', 'destroyed', '.', 'when', 'the', 'attempt', 'to', 'avert', \"wolf-beiderman's\", 'path', 'failed', 'and', 'caused', 'the', '=', 'comet', 'to', 'split', 'into', 'two', ':', 'comet', 'wolf', 'and', 'comet', 'beiderman', ',', 'the', 'president', '=', 'unfolds', 'his', 'contingency', 'plan', 'to', 'evacuate', 'part', 'of', 'the', 'population', ',', 'leaving', '=', 'the', 'rest', 'to', 'die', '.', 'citizens', 'are', 'randomly', 'chosen', 'to', 'live', 'underground', 'for', '2', '=', 'years', 'prior', 'to', 'impact', ',', 'when', 'the', 'dust', 'due', 'to', 'the', 'impact', 'around', 'earth', 'have', '=', 'settled', ',', 'by', 'then', 'all', 'life', 'on', 'the', 'surface', 'would', 'have', 'died', '.', 'jenny', 'and', 'leo', '=', 'were', 'picked', 'but', 'many', 'of', 'their', 'loved', 'ones', 'were', 'not', ',', 'only', 'a', 'handful', 'of', '=', \"earth's\", 'population', 'will', 'be', 'saved', 'from', 'destruction', '.', '=20', 'deep', \"impact's\", 'moving', 'moments', 'occur', 'in', 'the', 'least', 'special-effect', 'laced', '=', 'scenes', '.', 'while', 'the', 'effects', 'are', 'fantastic', ',', 'they', 'only', 'form', 'a', 'small', 'part', 'of', '=', 'the', 'film', ',', 'which', 'indulges', 'itself', 'in', 'the', 'development', 'of', 'its', 'main', '=', 'characters', ';', 'leo', ',', 'lerner', 'and', 'tanner', '.', \"leo's\", 'struggle', 'when', 'he', 'learns', 'that', '=', 'his', 'girlfriend', 'is', 'not', 'part', 'of', 'the', 'population', 'to', 'be', 'saved', ',', \"lerner's\", '=', 'dwindling', 'relationship', 'with', 'her', 'father', 'and', 'her', 'pain', 'for', 'the', \"mother's\", '=', 'loneliness', ',', \"tanner's\", 'strive', 'to', 'gain', 'the', 'respect', 'he', 'deserves', 'from', 'his', '=', 'crew', 'and', 'his', 'ultimate', 'sacrifice', ',', 'all', 'form', 'the', 'backbone', 'of', 'deep', \"impact's\", '=', 'moving', 'moments', '.', 'deep', 'impact', 'smells', 'suspiciously', 'like', 'the', 'previous', 'year', '=', 'release', 'contact', 'despite', 'vivid', 'differences', '.', 'i', 'think', 'its', 'probably', 'because', '=', 'they', 'both', 'delve', 'in', 'a', 'story', 'of', 'global', 'proportions', 'and', 'indulges', 'in', 'the', '=', 'premise', 'of', 'hope', ',', 'faith', 'and', 'life', 'itself', '.', 'both', 'do', 'not', 'depend', 'heavily', 'on', '=', 'eye-candy', 'in', 'the', 'form', 'of', 'cgi', 'effects', '.', 'director', 'mimi', 'leder', '(', 'who', 'won', '=', 'numerous', 'awards', 'directing', 'television', 'series', ',', 'and', 'made', 'her', 'debut', 'with', '=', 'peacekeeper', 'last', 'year', ')', 'is', 'definitely', 'a', 'director', 'to', 'watch', '.', '=20', 'despite', 'this', 'being', 'the', 'first', 'of', 'the', 'two', 'meteor', 'movies', 'this', 'summer', '(', 'the', '=', 'other', 'being', 'armageddon', ')', ',', 'i', 'think', 'there', 'will', 'be', 'stark', 'differences', 'in', 'the', '=', 'approach', 'to', 'the', 'subject', 'matter', '.', 'while', 'the', 'premise', 'of', 'both', 'may', 'be', 'the', '=', 'same', ',', 'execution', 'and', 'focus', 'of', 'the', 'films', 'will', 'in', 'fact', 'show', 'that', 'deep', '=', 'impact', 'has', 'more', 'focus', 'on', 'human', 'elements', 'than', 'armageddon', ',', 'which', 'is', 'done', '=', 'by', 'the', 'team', 'which', 'brought', 'us', 'bad', 'boys', ',', 'crimson', 'tide', 'and', 'the', 'rock', '.', '=20', 'deep', 'impact', 'should', 'be', 'able', 'to', 'satisfy', 'a', 'variety', 'of', 'audiences', ';', 'from', 'the', '=', 'most', 'action-craving', 'to', 'those', 'who', 'just', 'want', 'to', 'immerse', 'into', 'its', '=', 'manipulative', 'but', 'nonetheless', 'dramatic', 'premise', '.']\n"
          ]
        }
      ],
      "source": [
        "review = movie_reviews.raw('pos/cv944_13521.txt')\n",
        "print('\\033[92m'+review)\n",
        "\n",
        "review_tokens = review.split()\n",
        "\n",
        "print()\n",
        "print('\\033[94m'+'Tokenized string:')\n",
        "print(review_tokens)"
      ]
    },
    {
      "cell_type": "markdown",
      "source": [
        "---"
      ],
      "metadata": {
        "id": "jVtJnYztgtz8"
      }
    },
    {
      "cell_type": "markdown",
      "metadata": {
        "id": "3xL-_dykj-VB"
      },
      "source": [
        "## Remove stop words and punctuations"
      ]
    },
    {
      "cell_type": "code",
      "execution_count": null,
      "metadata": {
        "colab": {
          "base_uri": "https://localhost:8080/"
        },
        "id": "wpZ54hMqkJWu",
        "outputId": "b38f9d5a-cb80-49df-b2c6-760ff96c42c3"
      },
      "outputs": [
        {
          "output_type": "stream",
          "name": "stderr",
          "text": [
            "[nltk_data] Downloading package stopwords to /root/nltk_data...\n",
            "[nltk_data]   Unzipping corpora/stopwords.zip.\n"
          ]
        },
        {
          "output_type": "execute_result",
          "data": {
            "text/plain": [
              "True"
            ]
          },
          "metadata": {},
          "execution_count": 25
        }
      ],
      "source": [
        "from nltk.corpus import stopwords\n",
        "import string\n",
        "\n",
        "nltk.download('stopwords')"
      ]
    },
    {
      "cell_type": "code",
      "execution_count": null,
      "metadata": {
        "colab": {
          "base_uri": "https://localhost:8080/"
        },
        "id": "jc2fyEIKj_Tu",
        "outputId": "490e2c75-b5c3-455d-93b7-4ffac99c903b"
      },
      "outputs": [
        {
          "output_type": "stream",
          "name": "stdout",
          "text": [
            "Stop words\n",
            "\n",
            "['i', 'me', 'my', 'myself', 'we', 'our', 'ours', 'ourselves', 'you', \"you're\", \"you've\", \"you'll\", \"you'd\", 'your', 'yours', 'yourself', 'yourselves', 'he', 'him', 'his', 'himself', 'she', \"she's\", 'her', 'hers', 'herself', 'it', \"it's\", 'its', 'itself', 'they', 'them', 'their', 'theirs', 'themselves', 'what', 'which', 'who', 'whom', 'this', 'that', \"that'll\", 'these', 'those', 'am', 'is', 'are', 'was', 'were', 'be', 'been', 'being', 'have', 'has', 'had', 'having', 'do', 'does', 'did', 'doing', 'a', 'an', 'the', 'and', 'but', 'if', 'or', 'because', 'as', 'until', 'while', 'of', 'at', 'by', 'for', 'with', 'about', 'against', 'between', 'into', 'through', 'during', 'before', 'after', 'above', 'below', 'to', 'from', 'up', 'down', 'in', 'out', 'on', 'off', 'over', 'under', 'again', 'further', 'then', 'once', 'here', 'there', 'when', 'where', 'why', 'how', 'all', 'any', 'both', 'each', 'few', 'more', 'most', 'other', 'some', 'such', 'no', 'nor', 'not', 'only', 'own', 'same', 'so', 'than', 'too', 'very', 's', 't', 'can', 'will', 'just', 'don', \"don't\", 'should', \"should've\", 'now', 'd', 'll', 'm', 'o', 're', 've', 'y', 'ain', 'aren', \"aren't\", 'couldn', \"couldn't\", 'didn', \"didn't\", 'doesn', \"doesn't\", 'hadn', \"hadn't\", 'hasn', \"hasn't\", 'haven', \"haven't\", 'isn', \"isn't\", 'ma', 'mightn', \"mightn't\", 'mustn', \"mustn't\", 'needn', \"needn't\", 'shan', \"shan't\", 'shouldn', \"shouldn't\", 'wasn', \"wasn't\", 'weren', \"weren't\", 'won', \"won't\", 'wouldn', \"wouldn't\"]\n",
            "\n",
            "Punctuation\n",
            "\n",
            "!\"#$%&'()*+,-./:;<=>?@[\\]^_`{|}~\n"
          ]
        }
      ],
      "source": [
        "stopwords_english = stopwords.words('english')\n",
        "print('Stop words\\n')\n",
        "print(stopwords_english)\n",
        "print('\\nPunctuation\\n')\n",
        "print(string.punctuation)"
      ]
    },
    {
      "cell_type": "code",
      "execution_count": null,
      "metadata": {
        "colab": {
          "base_uri": "https://localhost:8080/"
        },
        "id": "fI5-AqOMkfzm",
        "outputId": "851aae5e-e679-45db-bf02-ece1c30b72e7"
      },
      "outputs": [
        {
          "output_type": "stream",
          "name": "stdout",
          "text": [
            "\u001b[92m\n",
            "['meteor', 'threat', 'set', 'to', 'blow', 'away', 'all', 'volcanoes', '&', 'twisters', '!', 'summer', 'is', 'here', 'again', '!', 'this', 'season', 'could', 'probably', 'be', 'the', 'most', 'ambitious', '=', 'season', 'this', 'decade', 'with', 'hollywood', 'churning', 'out', 'films', 'like', 'deep', 'impact', ',', '=', 'godzilla', ',', 'the', 'x-files', ',', 'armageddon', ',', 'the', 'truman', 'show', ',', 'all', 'of', 'which', 'has', 'but', '=', 'one', 'main', 'aim', ',', 'to', 'rock', 'the', 'box', 'office', '.', 'leading', 'the', 'pack', 'this', 'summer', 'is', '=', 'deep', 'impact', ',', 'one', 'of', 'the', 'first', 'few', 'film', 'releases', 'from', 'the', '=', \"spielberg-katzenberg-geffen's\", 'dreamworks', 'production', 'company', '.', 'following', '=', 'the', 'rather', 'dismal', 'showing', 'of', 'their', 'previous', 'two', 'releases', ';', 'mousehunt', 'and', '=', 'amistad', ',', 'deep', 'impact', 'shines', 'with', 'elements', 'which', 'could', 'just', 'make', 'it', 'one', '=', 'of', 'the', 'biggest', 'movies', 'of', 'the', 'year', '.', 'deep', 'impact', 'begins', 'with', 'the', 'discovery', 'of', 'an', 'earth', 'bound', 'comet', 'during', 'a', '=', 'school', 'astronomy', 'outing', 'by', 'leo', 'beiderman', '(', 'elijah', 'wood', ')', 'which', '=', 'subsequently', 'stirred', 'up', 'the', 'political', 'community', 'of', 'the', 'world', '.', 'keeping', '=', 'the', 'information', 'under', 'wraps', 'to', 'prevent', 'widespread', 'panic', ',', 'president', 'beck', '=', '(', 'morgan', 'freeman', ')', 'took', 'it', 'upon', 'himself', 'and', 'his', 'subordinates', 'to', 'execute', 'a', '=', 'highly', 'secretive', 'space', 'project', 'to', 'destroy', 'the', 'comet', 'before', 'it', 'hits', '=', 'earth', '.', 'while', 'pursuing', 'a', 'sex-scandal', 'story', 'amongst', 'the', 'presidential', '=', 'ranks', ',', 'ambitious', 'up', 'and', 'coming', 'reporter', ',', 'jenny', 'lerner', '(', 'tea', 'leoni', ')', '=', 'unfolds', 'the', 'wool', 'that', 'president', 'beck', 'has', 'pulled', 'over', 'the', 'citizens', 'of', 'the', '=', 'world', '.', 'as', 'if', 'the', 'knowledge', 'of', 'the', 'imminent', 'annihilation', 'of', 'mankind', 'is', '=', 'not', 'enough', ',', 'jenny', 'has', 'to', 'come', 'to', 'terms', 'with', 'her', 'father', '(', 'maximillian', '=', 'schell', ')', 'leaving', 'the', 'mother', 'for', 'a', 'younger', 'woman', '.', '=20', 'president', 'beck', 'announces', 'the', 'discovery', 'and', 'preparations', 'to', 'destroy', 'the', '=', 'comet', 'exactly', 'one-year', 'later', ',', 'with', 'so', 'much', 'confidence', 'that', 'it', 'left', 'no', '=', 'trace', 'of', 'panic', 'within', 'the', 'american', 'community', '.', 'achieving', 'fame', 'from', '=', 'announcement', 'of', 'the', 'comet', 'wolf-beiderman', 'en-route', 'to', 'earth', '(', 'the', 'name', 'of', '=', 'its', 'discoverers', ')', ',', 'leo', 'beiderman', 'continues', 'life', 'in', 'his', 'small', 'town', 'as', 'a', '=', 'young', 'celebrity', '.', 'a', 'team', 'of', 'astronauts', ',', 'led', 'by', 'the', 'ageing', 'veteran', '=', 'astronaut', 'spurgeon', 'tanner', '(', 'robert', 'duvall', ')', ',', 'was', 'secretly', 'trained', 'to', 'carry', '=', 'out', 'the', 'mission', 'to', 'land', 'on', 'the', 'comet', 'and', 'create', 'and', 'explosion', 'with', 'a', '=', 'nuclear', 'device', ',', 'with', 'the', 'hope', 'of', 'blowing', 'it', 'out', 'of', 'its', 'current', 'path', '=', 'towards', 'earth', '.', 'despite', 'him', 'being', 'the', 'most', 'experienced', 'in', 'the', 'team', ',', 'the', '=', 'younger', 'generation', 'of', 'astronauts', 'in', 'the', 'team', 'doubts', \"tanner's\", 'ability', 'due', '=', 'to', 'his', 'age', '.', 'but', 'these', 'are', 'just', 'problems', 'of', 'individuals', '.', 'life', 'on', 'earth', '=', 'goes', 'on', 'as', 'any', 'other', 'day', ',', 'confident', 'that', 'the', 'comet', 'will', 'be', 'destroyed', '.', 'when', 'the', 'attempt', 'to', 'avert', \"wolf-beiderman's\", 'path', 'failed', 'and', 'caused', 'the', '=', 'comet', 'to', 'split', 'into', 'two', ':', 'comet', 'wolf', 'and', 'comet', 'beiderman', ',', 'the', 'president', '=', 'unfolds', 'his', 'contingency', 'plan', 'to', 'evacuate', 'part', 'of', 'the', 'population', ',', 'leaving', '=', 'the', 'rest', 'to', 'die', '.', 'citizens', 'are', 'randomly', 'chosen', 'to', 'live', 'underground', 'for', '2', '=', 'years', 'prior', 'to', 'impact', ',', 'when', 'the', 'dust', 'due', 'to', 'the', 'impact', 'around', 'earth', 'have', '=', 'settled', ',', 'by', 'then', 'all', 'life', 'on', 'the', 'surface', 'would', 'have', 'died', '.', 'jenny', 'and', 'leo', '=', 'were', 'picked', 'but', 'many', 'of', 'their', 'loved', 'ones', 'were', 'not', ',', 'only', 'a', 'handful', 'of', '=', \"earth's\", 'population', 'will', 'be', 'saved', 'from', 'destruction', '.', '=20', 'deep', \"impact's\", 'moving', 'moments', 'occur', 'in', 'the', 'least', 'special-effect', 'laced', '=', 'scenes', '.', 'while', 'the', 'effects', 'are', 'fantastic', ',', 'they', 'only', 'form', 'a', 'small', 'part', 'of', '=', 'the', 'film', ',', 'which', 'indulges', 'itself', 'in', 'the', 'development', 'of', 'its', 'main', '=', 'characters', ';', 'leo', ',', 'lerner', 'and', 'tanner', '.', \"leo's\", 'struggle', 'when', 'he', 'learns', 'that', '=', 'his', 'girlfriend', 'is', 'not', 'part', 'of', 'the', 'population', 'to', 'be', 'saved', ',', \"lerner's\", '=', 'dwindling', 'relationship', 'with', 'her', 'father', 'and', 'her', 'pain', 'for', 'the', \"mother's\", '=', 'loneliness', ',', \"tanner's\", 'strive', 'to', 'gain', 'the', 'respect', 'he', 'deserves', 'from', 'his', '=', 'crew', 'and', 'his', 'ultimate', 'sacrifice', ',', 'all', 'form', 'the', 'backbone', 'of', 'deep', \"impact's\", '=', 'moving', 'moments', '.', 'deep', 'impact', 'smells', 'suspiciously', 'like', 'the', 'previous', 'year', '=', 'release', 'contact', 'despite', 'vivid', 'differences', '.', 'i', 'think', 'its', 'probably', 'because', '=', 'they', 'both', 'delve', 'in', 'a', 'story', 'of', 'global', 'proportions', 'and', 'indulges', 'in', 'the', '=', 'premise', 'of', 'hope', ',', 'faith', 'and', 'life', 'itself', '.', 'both', 'do', 'not', 'depend', 'heavily', 'on', '=', 'eye-candy', 'in', 'the', 'form', 'of', 'cgi', 'effects', '.', 'director', 'mimi', 'leder', '(', 'who', 'won', '=', 'numerous', 'awards', 'directing', 'television', 'series', ',', 'and', 'made', 'her', 'debut', 'with', '=', 'peacekeeper', 'last', 'year', ')', 'is', 'definitely', 'a', 'director', 'to', 'watch', '.', '=20', 'despite', 'this', 'being', 'the', 'first', 'of', 'the', 'two', 'meteor', 'movies', 'this', 'summer', '(', 'the', '=', 'other', 'being', 'armageddon', ')', ',', 'i', 'think', 'there', 'will', 'be', 'stark', 'differences', 'in', 'the', '=', 'approach', 'to', 'the', 'subject', 'matter', '.', 'while', 'the', 'premise', 'of', 'both', 'may', 'be', 'the', '=', 'same', ',', 'execution', 'and', 'focus', 'of', 'the', 'films', 'will', 'in', 'fact', 'show', 'that', 'deep', '=', 'impact', 'has', 'more', 'focus', 'on', 'human', 'elements', 'than', 'armageddon', ',', 'which', 'is', 'done', '=', 'by', 'the', 'team', 'which', 'brought', 'us', 'bad', 'boys', ',', 'crimson', 'tide', 'and', 'the', 'rock', '.', '=20', 'deep', 'impact', 'should', 'be', 'able', 'to', 'satisfy', 'a', 'variety', 'of', 'audiences', ';', 'from', 'the', '=', 'most', 'action-craving', 'to', 'those', 'who', 'just', 'want', 'to', 'immerse', 'into', 'its', '=', 'manipulative', 'but', 'nonetheless', 'dramatic', 'premise', '.']\n",
            "\u001b[94m\n",
            "removed stop words and puntuations:\n",
            "\n",
            "['meteor', 'threat', 'set', 'blow', 'away', 'volcanoes', 'twisters', 'summer', 'season', 'could', 'probably', 'ambitious', 'season', 'decade', 'hollywood', 'churning', 'films', 'like', 'deep', 'impact', 'godzilla', 'x-files', 'armageddon', 'truman', 'show', 'one', 'main', 'aim', 'rock', 'box', 'office', 'leading', 'pack', 'summer', 'deep', 'impact', 'one', 'first', 'film', 'releases', \"spielberg-katzenberg-geffen's\", 'dreamworks', 'production', 'company', 'following', 'rather', 'dismal', 'showing', 'previous', 'two', 'releases', 'mousehunt', 'amistad', 'deep', 'impact', 'shines', 'elements', 'could', 'make', 'one', 'biggest', 'movies', 'year', 'deep', 'impact', 'begins', 'discovery', 'earth', 'bound', 'comet', 'school', 'astronomy', 'outing', 'leo', 'beiderman', 'elijah', 'wood', 'subsequently', 'stirred', 'political', 'community', 'world', 'keeping', 'information', 'wraps', 'prevent', 'widespread', 'panic', 'president', 'beck', 'morgan', 'freeman', 'took', 'upon', 'subordinates', 'execute', 'highly', 'secretive', 'space', 'project', 'destroy', 'comet', 'hits', 'earth', 'pursuing', 'sex-scandal', 'story', 'amongst', 'presidential', 'ranks', 'ambitious', 'coming', 'reporter', 'jenny', 'lerner', 'tea', 'leoni', 'unfolds', 'wool', 'president', 'beck', 'pulled', 'citizens', 'world', 'knowledge', 'imminent', 'annihilation', 'mankind', 'enough', 'jenny', 'come', 'terms', 'father', 'maximillian', 'schell', 'leaving', 'mother', 'younger', 'woman', '=20', 'president', 'beck', 'announces', 'discovery', 'preparations', 'destroy', 'comet', 'exactly', 'one-year', 'later', 'much', 'confidence', 'left', 'trace', 'panic', 'within', 'american', 'community', 'achieving', 'fame', 'announcement', 'comet', 'wolf-beiderman', 'en-route', 'earth', 'name', 'discoverers', 'leo', 'beiderman', 'continues', 'life', 'small', 'town', 'young', 'celebrity', 'team', 'astronauts', 'led', 'ageing', 'veteran', 'astronaut', 'spurgeon', 'tanner', 'robert', 'duvall', 'secretly', 'trained', 'carry', 'mission', 'land', 'comet', 'create', 'explosion', 'nuclear', 'device', 'hope', 'blowing', 'current', 'path', 'towards', 'earth', 'despite', 'experienced', 'team', 'younger', 'generation', 'astronauts', 'team', 'doubts', \"tanner's\", 'ability', 'due', 'age', 'problems', 'individuals', 'life', 'earth', 'goes', 'day', 'confident', 'comet', 'destroyed', 'attempt', 'avert', \"wolf-beiderman's\", 'path', 'failed', 'caused', 'comet', 'split', 'two', 'comet', 'wolf', 'comet', 'beiderman', 'president', 'unfolds', 'contingency', 'plan', 'evacuate', 'part', 'population', 'leaving', 'rest', 'die', 'citizens', 'randomly', 'chosen', 'live', 'underground', '2', 'years', 'prior', 'impact', 'dust', 'due', 'impact', 'around', 'earth', 'settled', 'life', 'surface', 'would', 'died', 'jenny', 'leo', 'picked', 'many', 'loved', 'ones', 'handful', \"earth's\", 'population', 'saved', 'destruction', '=20', 'deep', \"impact's\", 'moving', 'moments', 'occur', 'least', 'special-effect', 'laced', 'scenes', 'effects', 'fantastic', 'form', 'small', 'part', 'film', 'indulges', 'development', 'main', 'characters', 'leo', 'lerner', 'tanner', \"leo's\", 'struggle', 'learns', 'girlfriend', 'part', 'population', 'saved', \"lerner's\", 'dwindling', 'relationship', 'father', 'pain', \"mother's\", 'loneliness', \"tanner's\", 'strive', 'gain', 'respect', 'deserves', 'crew', 'ultimate', 'sacrifice', 'form', 'backbone', 'deep', \"impact's\", 'moving', 'moments', 'deep', 'impact', 'smells', 'suspiciously', 'like', 'previous', 'year', 'release', 'contact', 'despite', 'vivid', 'differences', 'think', 'probably', 'delve', 'story', 'global', 'proportions', 'indulges', 'premise', 'hope', 'faith', 'life', 'depend', 'heavily', 'eye-candy', 'form', 'cgi', 'effects', 'director', 'mimi', 'leder', 'numerous', 'awards', 'directing', 'television', 'series', 'made', 'debut', 'peacekeeper', 'last', 'year', 'definitely', 'director', 'watch', '=20', 'despite', 'first', 'two', 'meteor', 'movies', 'summer', 'armageddon', 'think', 'stark', 'differences', 'approach', 'subject', 'matter', 'premise', 'may', 'execution', 'focus', 'films', 'fact', 'show', 'deep', 'impact', 'focus', 'human', 'elements', 'armageddon', 'done', 'team', 'brought', 'us', 'bad', 'boys', 'crimson', 'tide', 'rock', '=20', 'deep', 'impact', 'able', 'satisfy', 'variety', 'audiences', 'action-craving', 'want', 'immerse', 'manipulative', 'nonetheless', 'dramatic', 'premise']\n"
          ]
        }
      ],
      "source": [
        "print('\\033[92m')\n",
        "print(review_tokens)\n",
        "\n",
        "review_clean = []\n",
        "\n",
        "for word in review_tokens:\n",
        "  if( word not in stopwords_english and word not in string.punctuation ):\n",
        "    review_clean.append(word)\n",
        "\n",
        "print('\\033[94m')\n",
        "print('removed stop words and puntuations:\\n')\n",
        "print(review_clean)"
      ]
    },
    {
      "cell_type": "markdown",
      "metadata": {
        "id": "d191YFZImhLh"
      },
      "source": [
        "Stemming"
      ]
    },
    {
      "cell_type": "code",
      "execution_count": null,
      "metadata": {
        "id": "h1hVOxrMmjYW"
      },
      "outputs": [],
      "source": [
        "from nltk.stem import PorterStemmer"
      ]
    },
    {
      "cell_type": "code",
      "execution_count": null,
      "metadata": {
        "colab": {
          "base_uri": "https://localhost:8080/"
        },
        "id": "PPNorVSMnT6i",
        "outputId": "4404905d-f903-4c0e-efb5-26eab8847a03"
      },
      "outputs": [
        {
          "output_type": "stream",
          "name": "stdout",
          "text": [
            "\u001b[92m\n",
            "['meteor', 'threat', 'set', 'blow', 'away', 'volcanoes', 'twisters', 'summer', 'season', 'could', 'probably', 'ambitious', 'season', 'decade', 'hollywood', 'churning', 'films', 'like', 'deep', 'impact', 'godzilla', 'x-files', 'armageddon', 'truman', 'show', 'one', 'main', 'aim', 'rock', 'box', 'office', 'leading', 'pack', 'summer', 'deep', 'impact', 'one', 'first', 'film', 'releases', \"spielberg-katzenberg-geffen's\", 'dreamworks', 'production', 'company', 'following', 'rather', 'dismal', 'showing', 'previous', 'two', 'releases', 'mousehunt', 'amistad', 'deep', 'impact', 'shines', 'elements', 'could', 'make', 'one', 'biggest', 'movies', 'year', 'deep', 'impact', 'begins', 'discovery', 'earth', 'bound', 'comet', 'school', 'astronomy', 'outing', 'leo', 'beiderman', 'elijah', 'wood', 'subsequently', 'stirred', 'political', 'community', 'world', 'keeping', 'information', 'wraps', 'prevent', 'widespread', 'panic', 'president', 'beck', 'morgan', 'freeman', 'took', 'upon', 'subordinates', 'execute', 'highly', 'secretive', 'space', 'project', 'destroy', 'comet', 'hits', 'earth', 'pursuing', 'sex-scandal', 'story', 'amongst', 'presidential', 'ranks', 'ambitious', 'coming', 'reporter', 'jenny', 'lerner', 'tea', 'leoni', 'unfolds', 'wool', 'president', 'beck', 'pulled', 'citizens', 'world', 'knowledge', 'imminent', 'annihilation', 'mankind', 'enough', 'jenny', 'come', 'terms', 'father', 'maximillian', 'schell', 'leaving', 'mother', 'younger', 'woman', '=20', 'president', 'beck', 'announces', 'discovery', 'preparations', 'destroy', 'comet', 'exactly', 'one-year', 'later', 'much', 'confidence', 'left', 'trace', 'panic', 'within', 'american', 'community', 'achieving', 'fame', 'announcement', 'comet', 'wolf-beiderman', 'en-route', 'earth', 'name', 'discoverers', 'leo', 'beiderman', 'continues', 'life', 'small', 'town', 'young', 'celebrity', 'team', 'astronauts', 'led', 'ageing', 'veteran', 'astronaut', 'spurgeon', 'tanner', 'robert', 'duvall', 'secretly', 'trained', 'carry', 'mission', 'land', 'comet', 'create', 'explosion', 'nuclear', 'device', 'hope', 'blowing', 'current', 'path', 'towards', 'earth', 'despite', 'experienced', 'team', 'younger', 'generation', 'astronauts', 'team', 'doubts', \"tanner's\", 'ability', 'due', 'age', 'problems', 'individuals', 'life', 'earth', 'goes', 'day', 'confident', 'comet', 'destroyed', 'attempt', 'avert', \"wolf-beiderman's\", 'path', 'failed', 'caused', 'comet', 'split', 'two', 'comet', 'wolf', 'comet', 'beiderman', 'president', 'unfolds', 'contingency', 'plan', 'evacuate', 'part', 'population', 'leaving', 'rest', 'die', 'citizens', 'randomly', 'chosen', 'live', 'underground', '2', 'years', 'prior', 'impact', 'dust', 'due', 'impact', 'around', 'earth', 'settled', 'life', 'surface', 'would', 'died', 'jenny', 'leo', 'picked', 'many', 'loved', 'ones', 'handful', \"earth's\", 'population', 'saved', 'destruction', '=20', 'deep', \"impact's\", 'moving', 'moments', 'occur', 'least', 'special-effect', 'laced', 'scenes', 'effects', 'fantastic', 'form', 'small', 'part', 'film', 'indulges', 'development', 'main', 'characters', 'leo', 'lerner', 'tanner', \"leo's\", 'struggle', 'learns', 'girlfriend', 'part', 'population', 'saved', \"lerner's\", 'dwindling', 'relationship', 'father', 'pain', \"mother's\", 'loneliness', \"tanner's\", 'strive', 'gain', 'respect', 'deserves', 'crew', 'ultimate', 'sacrifice', 'form', 'backbone', 'deep', \"impact's\", 'moving', 'moments', 'deep', 'impact', 'smells', 'suspiciously', 'like', 'previous', 'year', 'release', 'contact', 'despite', 'vivid', 'differences', 'think', 'probably', 'delve', 'story', 'global', 'proportions', 'indulges', 'premise', 'hope', 'faith', 'life', 'depend', 'heavily', 'eye-candy', 'form', 'cgi', 'effects', 'director', 'mimi', 'leder', 'numerous', 'awards', 'directing', 'television', 'series', 'made', 'debut', 'peacekeeper', 'last', 'year', 'definitely', 'director', 'watch', '=20', 'despite', 'first', 'two', 'meteor', 'movies', 'summer', 'armageddon', 'think', 'stark', 'differences', 'approach', 'subject', 'matter', 'premise', 'may', 'execution', 'focus', 'films', 'fact', 'show', 'deep', 'impact', 'focus', 'human', 'elements', 'armageddon', 'done', 'team', 'brought', 'us', 'bad', 'boys', 'crimson', 'tide', 'rock', '=20', 'deep', 'impact', 'able', 'satisfy', 'variety', 'audiences', 'action-craving', 'want', 'immerse', 'manipulative', 'nonetheless', 'dramatic', 'premise']\n",
            "\u001b[94m\n",
            "stemmed words:\n",
            "['meteor', 'threat', 'set', 'blow', 'away', 'volcano', 'twister', 'summer', 'season', 'could', 'probabl', 'ambiti', 'season', 'decad', 'hollywood', 'churn', 'film', 'like', 'deep', 'impact', 'godzilla', 'x-file', 'armageddon', 'truman', 'show', 'one', 'main', 'aim', 'rock', 'box', 'offic', 'lead', 'pack', 'summer', 'deep', 'impact', 'one', 'first', 'film', 'releas', \"spielberg-katzenberg-geffen'\", 'dreamwork', 'product', 'compani', 'follow', 'rather', 'dismal', 'show', 'previou', 'two', 'releas', 'mousehunt', 'amistad', 'deep', 'impact', 'shine', 'element', 'could', 'make', 'one', 'biggest', 'movi', 'year', 'deep', 'impact', 'begin', 'discoveri', 'earth', 'bound', 'comet', 'school', 'astronomi', 'outing', 'leo', 'beiderman', 'elijah', 'wood', 'subsequ', 'stir', 'polit', 'commun', 'world', 'keep', 'inform', 'wrap', 'prevent', 'widespread', 'panic', 'presid', 'beck', 'morgan', 'freeman', 'took', 'upon', 'subordin', 'execut', 'highli', 'secret', 'space', 'project', 'destroy', 'comet', 'hit', 'earth', 'pursu', 'sex-scand', 'stori', 'amongst', 'presidenti', 'rank', 'ambiti', 'come', 'report', 'jenni', 'lerner', 'tea', 'leoni', 'unfold', 'wool', 'presid', 'beck', 'pull', 'citizen', 'world', 'knowledg', 'immin', 'annihil', 'mankind', 'enough', 'jenni', 'come', 'term', 'father', 'maximillian', 'schell', 'leav', 'mother', 'younger', 'woman', '=20', 'presid', 'beck', 'announc', 'discoveri', 'prepar', 'destroy', 'comet', 'exactli', 'one-year', 'later', 'much', 'confid', 'left', 'trace', 'panic', 'within', 'american', 'commun', 'achiev', 'fame', 'announc', 'comet', 'wolf-beiderman', 'en-rout', 'earth', 'name', 'discover', 'leo', 'beiderman', 'continu', 'life', 'small', 'town', 'young', 'celebr', 'team', 'astronaut', 'led', 'age', 'veteran', 'astronaut', 'spurgeon', 'tanner', 'robert', 'duval', 'secretli', 'train', 'carri', 'mission', 'land', 'comet', 'creat', 'explos', 'nuclear', 'devic', 'hope', 'blow', 'current', 'path', 'toward', 'earth', 'despit', 'experienc', 'team', 'younger', 'gener', 'astronaut', 'team', 'doubt', \"tanner'\", 'abil', 'due', 'age', 'problem', 'individu', 'life', 'earth', 'goe', 'day', 'confid', 'comet', 'destroy', 'attempt', 'avert', \"wolf-beiderman'\", 'path', 'fail', 'caus', 'comet', 'split', 'two', 'comet', 'wolf', 'comet', 'beiderman', 'presid', 'unfold', 'conting', 'plan', 'evacu', 'part', 'popul', 'leav', 'rest', 'die', 'citizen', 'randomli', 'chosen', 'live', 'underground', '2', 'year', 'prior', 'impact', 'dust', 'due', 'impact', 'around', 'earth', 'settl', 'life', 'surfac', 'would', 'die', 'jenni', 'leo', 'pick', 'mani', 'love', 'one', 'hand', \"earth'\", 'popul', 'save', 'destruct', '=20', 'deep', \"impact'\", 'move', 'moment', 'occur', 'least', 'special-effect', 'lace', 'scene', 'effect', 'fantast', 'form', 'small', 'part', 'film', 'indulg', 'develop', 'main', 'charact', 'leo', 'lerner', 'tanner', \"leo'\", 'struggl', 'learn', 'girlfriend', 'part', 'popul', 'save', \"lerner'\", 'dwindl', 'relationship', 'father', 'pain', \"mother'\", 'loneli', \"tanner'\", 'strive', 'gain', 'respect', 'deserv', 'crew', 'ultim', 'sacrific', 'form', 'backbon', 'deep', \"impact'\", 'move', 'moment', 'deep', 'impact', 'smell', 'suspici', 'like', 'previou', 'year', 'releas', 'contact', 'despit', 'vivid', 'differ', 'think', 'probabl', 'delv', 'stori', 'global', 'proport', 'indulg', 'premis', 'hope', 'faith', 'life', 'depend', 'heavili', 'eye-candi', 'form', 'cgi', 'effect', 'director', 'mimi', 'leder', 'numer', 'award', 'direct', 'televis', 'seri', 'made', 'debut', 'peacekeep', 'last', 'year', 'definit', 'director', 'watch', '=20', 'despit', 'first', 'two', 'meteor', 'movi', 'summer', 'armageddon', 'think', 'stark', 'differ', 'approach', 'subject', 'matter', 'premis', 'may', 'execut', 'focu', 'film', 'fact', 'show', 'deep', 'impact', 'focu', 'human', 'element', 'armageddon', 'done', 'team', 'brought', 'us', 'bad', 'boy', 'crimson', 'tide', 'rock', '=20', 'deep', 'impact', 'abl', 'satisfi', 'varieti', 'audienc', 'action-crav', 'want', 'immers', 'manipul', 'nonetheless', 'dramat', 'premis']\n"
          ]
        }
      ],
      "source": [
        "print('\\033[92m')\n",
        "print(review_clean)\n",
        "\n",
        "stemmer = PorterStemmer()\n",
        "\n",
        "review_stem = []\n",
        "\n",
        "for word in review_clean:\n",
        "  stem_word = stemmer.stem(word)\n",
        "  review_stem.append(stem_word)\n",
        "\n",
        "print('\\033[94m')\n",
        "print('stemmed words:')\n",
        "print(review_stem)"
      ]
    },
    {
      "cell_type": "code",
      "execution_count": null,
      "metadata": {
        "colab": {
          "base_uri": "https://localhost:8080/"
        },
        "id": "c1B3ILQNogS-",
        "outputId": "3bb235be-7bf5-4d80-ead9-ab7ffa8e05a7"
      },
      "outputs": [
        {
          "output_type": "stream",
          "name": "stderr",
          "text": [
            "[nltk_data] Downloading package wordnet to /root/nltk_data...\n",
            "[nltk_data] Downloading package omw-1.4 to /root/nltk_data...\n"
          ]
        },
        {
          "output_type": "execute_result",
          "data": {
            "text/plain": [
              "True"
            ]
          },
          "metadata": {},
          "execution_count": 30
        }
      ],
      "source": [
        "from nltk.stem import WordNetLemmatizer\n",
        "nltk.download('wordnet')\n",
        "nltk.download('omw-1.4')"
      ]
    },
    {
      "cell_type": "code",
      "execution_count": null,
      "metadata": {
        "colab": {
          "base_uri": "https://localhost:8080/"
        },
        "id": "OxJmnWSmos2d",
        "outputId": "7e716074-b8dc-4fd0-c82f-0fcbee67b9df"
      },
      "outputs": [
        {
          "output_type": "stream",
          "name": "stdout",
          "text": [
            "\u001b[92m\n",
            "['meteor', 'threat', 'set', 'blow', 'away', 'volcanoes', 'twisters', 'summer', 'season', 'could', 'probably', 'ambitious', 'season', 'decade', 'hollywood', 'churning', 'films', 'like', 'deep', 'impact', 'godzilla', 'x-files', 'armageddon', 'truman', 'show', 'one', 'main', 'aim', 'rock', 'box', 'office', 'leading', 'pack', 'summer', 'deep', 'impact', 'one', 'first', 'film', 'releases', \"spielberg-katzenberg-geffen's\", 'dreamworks', 'production', 'company', 'following', 'rather', 'dismal', 'showing', 'previous', 'two', 'releases', 'mousehunt', 'amistad', 'deep', 'impact', 'shines', 'elements', 'could', 'make', 'one', 'biggest', 'movies', 'year', 'deep', 'impact', 'begins', 'discovery', 'earth', 'bound', 'comet', 'school', 'astronomy', 'outing', 'leo', 'beiderman', 'elijah', 'wood', 'subsequently', 'stirred', 'political', 'community', 'world', 'keeping', 'information', 'wraps', 'prevent', 'widespread', 'panic', 'president', 'beck', 'morgan', 'freeman', 'took', 'upon', 'subordinates', 'execute', 'highly', 'secretive', 'space', 'project', 'destroy', 'comet', 'hits', 'earth', 'pursuing', 'sex-scandal', 'story', 'amongst', 'presidential', 'ranks', 'ambitious', 'coming', 'reporter', 'jenny', 'lerner', 'tea', 'leoni', 'unfolds', 'wool', 'president', 'beck', 'pulled', 'citizens', 'world', 'knowledge', 'imminent', 'annihilation', 'mankind', 'enough', 'jenny', 'come', 'terms', 'father', 'maximillian', 'schell', 'leaving', 'mother', 'younger', 'woman', '=20', 'president', 'beck', 'announces', 'discovery', 'preparations', 'destroy', 'comet', 'exactly', 'one-year', 'later', 'much', 'confidence', 'left', 'trace', 'panic', 'within', 'american', 'community', 'achieving', 'fame', 'announcement', 'comet', 'wolf-beiderman', 'en-route', 'earth', 'name', 'discoverers', 'leo', 'beiderman', 'continues', 'life', 'small', 'town', 'young', 'celebrity', 'team', 'astronauts', 'led', 'ageing', 'veteran', 'astronaut', 'spurgeon', 'tanner', 'robert', 'duvall', 'secretly', 'trained', 'carry', 'mission', 'land', 'comet', 'create', 'explosion', 'nuclear', 'device', 'hope', 'blowing', 'current', 'path', 'towards', 'earth', 'despite', 'experienced', 'team', 'younger', 'generation', 'astronauts', 'team', 'doubts', \"tanner's\", 'ability', 'due', 'age', 'problems', 'individuals', 'life', 'earth', 'goes', 'day', 'confident', 'comet', 'destroyed', 'attempt', 'avert', \"wolf-beiderman's\", 'path', 'failed', 'caused', 'comet', 'split', 'two', 'comet', 'wolf', 'comet', 'beiderman', 'president', 'unfolds', 'contingency', 'plan', 'evacuate', 'part', 'population', 'leaving', 'rest', 'die', 'citizens', 'randomly', 'chosen', 'live', 'underground', '2', 'years', 'prior', 'impact', 'dust', 'due', 'impact', 'around', 'earth', 'settled', 'life', 'surface', 'would', 'died', 'jenny', 'leo', 'picked', 'many', 'loved', 'ones', 'handful', \"earth's\", 'population', 'saved', 'destruction', '=20', 'deep', \"impact's\", 'moving', 'moments', 'occur', 'least', 'special-effect', 'laced', 'scenes', 'effects', 'fantastic', 'form', 'small', 'part', 'film', 'indulges', 'development', 'main', 'characters', 'leo', 'lerner', 'tanner', \"leo's\", 'struggle', 'learns', 'girlfriend', 'part', 'population', 'saved', \"lerner's\", 'dwindling', 'relationship', 'father', 'pain', \"mother's\", 'loneliness', \"tanner's\", 'strive', 'gain', 'respect', 'deserves', 'crew', 'ultimate', 'sacrifice', 'form', 'backbone', 'deep', \"impact's\", 'moving', 'moments', 'deep', 'impact', 'smells', 'suspiciously', 'like', 'previous', 'year', 'release', 'contact', 'despite', 'vivid', 'differences', 'think', 'probably', 'delve', 'story', 'global', 'proportions', 'indulges', 'premise', 'hope', 'faith', 'life', 'depend', 'heavily', 'eye-candy', 'form', 'cgi', 'effects', 'director', 'mimi', 'leder', 'numerous', 'awards', 'directing', 'television', 'series', 'made', 'debut', 'peacekeeper', 'last', 'year', 'definitely', 'director', 'watch', '=20', 'despite', 'first', 'two', 'meteor', 'movies', 'summer', 'armageddon', 'think', 'stark', 'differences', 'approach', 'subject', 'matter', 'premise', 'may', 'execution', 'focus', 'films', 'fact', 'show', 'deep', 'impact', 'focus', 'human', 'elements', 'armageddon', 'done', 'team', 'brought', 'us', 'bad', 'boys', 'crimson', 'tide', 'rock', '=20', 'deep', 'impact', 'able', 'satisfy', 'variety', 'audiences', 'action-craving', 'want', 'immerse', 'manipulative', 'nonetheless', 'dramatic', 'premise']\n",
            "\u001b[94m\n",
            "lemmatized words:\n",
            "['meteor', 'threat', 'set', 'blow', 'away', 'volcano', 'twister', 'summer', 'season', 'could', 'probably', 'ambitious', 'season', 'decade', 'hollywood', 'churning', 'film', 'like', 'deep', 'impact', 'godzilla', 'x-files', 'armageddon', 'truman', 'show', 'one', 'main', 'aim', 'rock', 'box', 'office', 'leading', 'pack', 'summer', 'deep', 'impact', 'one', 'first', 'film', 'release', \"spielberg-katzenberg-geffen's\", 'dreamworks', 'production', 'company', 'following', 'rather', 'dismal', 'showing', 'previous', 'two', 'release', 'mousehunt', 'amistad', 'deep', 'impact', 'shine', 'element', 'could', 'make', 'one', 'biggest', 'movie', 'year', 'deep', 'impact', 'begin', 'discovery', 'earth', 'bound', 'comet', 'school', 'astronomy', 'outing', 'leo', 'beiderman', 'elijah', 'wood', 'subsequently', 'stirred', 'political', 'community', 'world', 'keeping', 'information', 'wrap', 'prevent', 'widespread', 'panic', 'president', 'beck', 'morgan', 'freeman', 'took', 'upon', 'subordinate', 'execute', 'highly', 'secretive', 'space', 'project', 'destroy', 'comet', 'hit', 'earth', 'pursuing', 'sex-scandal', 'story', 'amongst', 'presidential', 'rank', 'ambitious', 'coming', 'reporter', 'jenny', 'lerner', 'tea', 'leoni', 'unfolds', 'wool', 'president', 'beck', 'pulled', 'citizen', 'world', 'knowledge', 'imminent', 'annihilation', 'mankind', 'enough', 'jenny', 'come', 'term', 'father', 'maximillian', 'schell', 'leaving', 'mother', 'younger', 'woman', '=20', 'president', 'beck', 'announces', 'discovery', 'preparation', 'destroy', 'comet', 'exactly', 'one-year', 'later', 'much', 'confidence', 'left', 'trace', 'panic', 'within', 'american', 'community', 'achieving', 'fame', 'announcement', 'comet', 'wolf-beiderman', 'en-route', 'earth', 'name', 'discoverer', 'leo', 'beiderman', 'continues', 'life', 'small', 'town', 'young', 'celebrity', 'team', 'astronaut', 'led', 'ageing', 'veteran', 'astronaut', 'spurgeon', 'tanner', 'robert', 'duvall', 'secretly', 'trained', 'carry', 'mission', 'land', 'comet', 'create', 'explosion', 'nuclear', 'device', 'hope', 'blowing', 'current', 'path', 'towards', 'earth', 'despite', 'experienced', 'team', 'younger', 'generation', 'astronaut', 'team', 'doubt', \"tanner's\", 'ability', 'due', 'age', 'problem', 'individual', 'life', 'earth', 'go', 'day', 'confident', 'comet', 'destroyed', 'attempt', 'avert', \"wolf-beiderman's\", 'path', 'failed', 'caused', 'comet', 'split', 'two', 'comet', 'wolf', 'comet', 'beiderman', 'president', 'unfolds', 'contingency', 'plan', 'evacuate', 'part', 'population', 'leaving', 'rest', 'die', 'citizen', 'randomly', 'chosen', 'live', 'underground', '2', 'year', 'prior', 'impact', 'dust', 'due', 'impact', 'around', 'earth', 'settled', 'life', 'surface', 'would', 'died', 'jenny', 'leo', 'picked', 'many', 'loved', 'one', 'handful', \"earth's\", 'population', 'saved', 'destruction', '=20', 'deep', \"impact's\", 'moving', 'moment', 'occur', 'least', 'special-effect', 'laced', 'scene', 'effect', 'fantastic', 'form', 'small', 'part', 'film', 'indulges', 'development', 'main', 'character', 'leo', 'lerner', 'tanner', \"leo's\", 'struggle', 'learns', 'girlfriend', 'part', 'population', 'saved', \"lerner's\", 'dwindling', 'relationship', 'father', 'pain', \"mother's\", 'loneliness', \"tanner's\", 'strive', 'gain', 'respect', 'deserves', 'crew', 'ultimate', 'sacrifice', 'form', 'backbone', 'deep', \"impact's\", 'moving', 'moment', 'deep', 'impact', 'smell', 'suspiciously', 'like', 'previous', 'year', 'release', 'contact', 'despite', 'vivid', 'difference', 'think', 'probably', 'delve', 'story', 'global', 'proportion', 'indulges', 'premise', 'hope', 'faith', 'life', 'depend', 'heavily', 'eye-candy', 'form', 'cgi', 'effect', 'director', 'mimi', 'leder', 'numerous', 'award', 'directing', 'television', 'series', 'made', 'debut', 'peacekeeper', 'last', 'year', 'definitely', 'director', 'watch', '=20', 'despite', 'first', 'two', 'meteor', 'movie', 'summer', 'armageddon', 'think', 'stark', 'difference', 'approach', 'subject', 'matter', 'premise', 'may', 'execution', 'focus', 'film', 'fact', 'show', 'deep', 'impact', 'focus', 'human', 'element', 'armageddon', 'done', 'team', 'brought', 'u', 'bad', 'boy', 'crimson', 'tide', 'rock', '=20', 'deep', 'impact', 'able', 'satisfy', 'variety', 'audience', 'action-craving', 'want', 'immerse', 'manipulative', 'nonetheless', 'dramatic', 'premise']\n"
          ]
        }
      ],
      "source": [
        "print('\\033[92m')\n",
        "print(review_clean)\n",
        "\n",
        "wordnet_lemmatizer = WordNetLemmatizer()\n",
        "\n",
        "review_lem = []\n",
        "\n",
        "for word in review_clean:\n",
        "  lem_words = wordnet_lemmatizer.lemmatize(word)\n",
        "  review_lem.append(lem_words)\n",
        "\n",
        "print('\\033[94m')\n",
        "print('lemmatized words:')\n",
        "print(review_lem)"
      ]
    },
    {
      "cell_type": "markdown",
      "metadata": {
        "id": "Rx-ydDLpp21t"
      },
      "source": [
        "**3.3 Pandas Library**"
      ]
    },
    {
      "cell_type": "markdown",
      "metadata": {
        "id": "PY2SrHOfqAy5"
      },
      "source": [
        "Exercise"
      ]
    },
    {
      "cell_type": "code",
      "execution_count": null,
      "metadata": {
        "id": "AO4j9D3yqCZm"
      },
      "outputs": [],
      "source": [
        "import numpy as np\n",
        "import pandas as pd\n",
        "import matplotlib.pyplot as plt"
      ]
    },
    {
      "cell_type": "code",
      "execution_count": null,
      "metadata": {
        "colab": {
          "base_uri": "https://localhost:8080/"
        },
        "id": "lhz3zTimowVV",
        "outputId": "9440307a-b5ff-4db0-fc87-278eaf8a23de"
      },
      "outputs": [
        {
          "output_type": "stream",
          "name": "stdout",
          "text": [
            "Mounted at /content/drive\n"
          ]
        }
      ],
      "source": [
        "from google.colab import drive\n",
        "drive.mount('/content/drive')"
      ]
    },
    {
      "cell_type": "code",
      "source": [
        "data=pd.read_csv('/content/drive/MyDrive/SEM_^/ML/Lab-1/Iris.csv')\n",
        "display(data)"
      ],
      "metadata": {
        "id": "g-y6LKX5i5lJ"
      },
      "execution_count": null,
      "outputs": []
    },
    {
      "cell_type": "code",
      "source": [
        "# 1)Draw Scatter Plot between SepalLengthCm and SepalWidthCm for “Iris.csv” file with\n",
        "# proper labelling.\n",
        "\n",
        "plt.scatter(data['SepalLengthCm'],data['SepalWidthCm'])\n",
        "plt.xlabel(\"SepalLengthCm\")\n",
        "plt.ylabel(\"SepalWidthCm\")\n",
        "plt.show()"
      ],
      "metadata": {
        "id": "_6TYlFAgkljG"
      },
      "execution_count": null,
      "outputs": []
    },
    {
      "cell_type": "code",
      "execution_count": null,
      "metadata": {
        "colab": {
          "base_uri": "https://localhost:8080/",
          "height": 279
        },
        "id": "mvr01Bd3tHx6",
        "outputId": "9021e364-c1f0-43c6-ce66-f6a39cb4854a"
      },
      "outputs": [
        {
          "data": {
            "image/png": "[encoded data removed]",
            "text/plain": [
              "<Figure size 432x288 with 1 Axes>"
            ]
          },
          "metadata": {
            "needs_background": "light"
          },
          "output_type": "display_data"
        }
      ],
      "source": [
        "# 2) Draw Histogram of SepalLengthCm with proper labelling.\n",
        "\n",
        "plt.hist(data['SepalLengthCm'])\n",
        "plt.xlabel('SepalLengthCm')\n",
        "plt.show()"
      ]
    },
    {
      "cell_type": "code",
      "execution_count": null,
      "metadata": {
        "colab": {
          "base_uri": "https://localhost:8080/",
          "height": 279
        },
        "id": "n_0KtiIeuVnv",
        "outputId": "9ab04349-7ced-47db-93d7-ab6cf0b83b91"
      },
      "outputs": [
        {
          "data": {
            "image/png": "[encoded data removed]",
            "text/plain": [
              "<Figure size 432x288 with 1 Axes>"
            ]
          },
          "metadata": {
            "needs_background": "light"
          },
          "output_type": "display_data"
        }
      ],
      "source": [
        "# 3) Plot bar chart of Species.\n",
        "\n",
        "plt.bar(data['Species'],height = data['Id'])\n",
        "plt.xlabel('Species')\n",
        "plt.ylabel('Id')\n",
        "plt.show()"
      ]
    },
    {
      "cell_type": "code",
      "execution_count": null,
      "metadata": {
        "colab": {
          "base_uri": "https://localhost:8080/"
        },
        "id": "_NS17zqxvzW_",
        "outputId": "64a2d13c-d88a-46ef-c669-5419757ae1c5"
      },
      "outputs": [
        {
          "name": "stdout",
          "output_type": "stream",
          "text": [
            "Total Null Data:\n",
            " Id               0\n",
            "SepalLengthCm    0\n",
            "SepalWidthCm     0\n",
            "PetalLengthCm    0\n",
            "PetalWidthCm     0\n",
            "Species          0\n",
            "dtype: int64\n"
          ]
        }
      ],
      "source": [
        "# 4) Count total null values for each column in this dataset.\n",
        "\n",
        "print(\"Total Null Data:\\n\",data.isnull().sum())"
      ]
    },
    {
      "cell_type": "code",
      "execution_count": null,
      "metadata": {
        "colab": {
          "base_uri": "https://localhost:8080/",
          "height": 580
        },
        "id": "KXBGJ8gawHOx",
        "outputId": "50fc9aa5-c90a-4d72-f7c0-5d8ec2fe55ff"
      },
      "outputs": [
        {
          "name": "stdout",
          "output_type": "stream",
          "text": [
            "first 5 rows of SepalLengthCm.\n"
          ]
        },
        {
          "data": {
            "text/plain": [
              "0    5.1\n",
              "1    4.9\n",
              "2    4.7\n",
              "3    4.6\n",
              "4    5.0\n",
              "Name: SepalLengthCm, dtype: float64"
            ]
          },
          "metadata": {},
          "output_type": "display_data"
        },
        {
          "name": "stdout",
          "output_type": "stream",
          "text": [
            "\n",
            "from 5th row and onwards and entire column of Iris.csv dataset\n"
          ]
        },
        {
          "data": {
            "text/html": [
              "\n",
              "  <div id=\"df-ecd743a3-5a61-457a-abbb-fd0ce210e627\">\n",
              "    <div class=\"colab-df-container\">\n",
              "      <div>\n",
              "<style scoped>\n",
              "    .dataframe tbody tr th:only-of-type {\n",
              "        vertical-align: middle;\n",
              "    }\n",
              "\n",
              "    .dataframe tbody tr th {\n",
              "        vertical-align: top;\n",
              "    }\n",
              "\n",
              "    .dataframe thead th {\n",
              "        text-align: right;\n",
              "    }\n",
              "</style>\n",
              "<table border=\"1\" class=\"dataframe\">\n",
              "  <thead>\n",
              "    <tr style=\"text-align: right;\">\n",
              "      <th></th>\n",
              "      <th>Id</th>\n",
              "      <th>SepalLengthCm</th>\n",
              "      <th>SepalWidthCm</th>\n",
              "      <th>PetalLengthCm</th>\n",
              "      <th>PetalWidthCm</th>\n",
              "      <th>Species</th>\n",
              "    </tr>\n",
              "  </thead>\n",
              "  <tbody>\n",
              "    <tr>\n",
              "      <th>5</th>\n",
              "      <td>6</td>\n",
              "      <td>5.4</td>\n",
              "      <td>3.9</td>\n",
              "      <td>1.7</td>\n",
              "      <td>0.4</td>\n",
              "      <td>Iris-setosa</td>\n",
              "    </tr>\n",
              "    <tr>\n",
              "      <th>6</th>\n",
              "      <td>7</td>\n",
              "      <td>4.6</td>\n",
              "      <td>3.4</td>\n",
              "      <td>1.4</td>\n",
              "      <td>0.3</td>\n",
              "      <td>Iris-setosa</td>\n",
              "    </tr>\n",
              "    <tr>\n",
              "      <th>7</th>\n",
              "      <td>8</td>\n",
              "      <td>5.0</td>\n",
              "      <td>3.4</td>\n",
              "      <td>1.5</td>\n",
              "      <td>0.2</td>\n",
              "      <td>Iris-setosa</td>\n",
              "    </tr>\n",
              "    <tr>\n",
              "      <th>8</th>\n",
              "      <td>9</td>\n",
              "      <td>4.4</td>\n",
              "      <td>2.9</td>\n",
              "      <td>1.4</td>\n",
              "      <td>0.2</td>\n",
              "      <td>Iris-setosa</td>\n",
              "    </tr>\n",
              "    <tr>\n",
              "      <th>9</th>\n",
              "      <td>10</td>\n",
              "      <td>4.9</td>\n",
              "      <td>3.1</td>\n",
              "      <td>1.5</td>\n",
              "      <td>0.1</td>\n",
              "      <td>Iris-setosa</td>\n",
              "    </tr>\n",
              "    <tr>\n",
              "      <th>...</th>\n",
              "      <td>...</td>\n",
              "      <td>...</td>\n",
              "      <td>...</td>\n",
              "      <td>...</td>\n",
              "      <td>...</td>\n",
              "      <td>...</td>\n",
              "    </tr>\n",
              "    <tr>\n",
              "      <th>145</th>\n",
              "      <td>146</td>\n",
              "      <td>6.7</td>\n",
              "      <td>3.0</td>\n",
              "      <td>5.2</td>\n",
              "      <td>2.3</td>\n",
              "      <td>Iris-virginica</td>\n",
              "    </tr>\n",
              "    <tr>\n",
              "      <th>146</th>\n",
              "      <td>147</td>\n",
              "      <td>6.3</td>\n",
              "      <td>2.5</td>\n",
              "      <td>5.0</td>\n",
              "      <td>1.9</td>\n",
              "      <td>Iris-virginica</td>\n",
              "    </tr>\n",
              "    <tr>\n",
              "      <th>147</th>\n",
              "      <td>148</td>\n",
              "      <td>6.5</td>\n",
              "      <td>3.0</td>\n",
              "      <td>5.2</td>\n",
              "      <td>2.0</td>\n",
              "      <td>Iris-virginica</td>\n",
              "    </tr>\n",
              "    <tr>\n",
              "      <th>148</th>\n",
              "      <td>149</td>\n",
              "      <td>6.2</td>\n",
              "      <td>3.4</td>\n",
              "      <td>5.4</td>\n",
              "      <td>2.3</td>\n",
              "      <td>Iris-virginica</td>\n",
              "    </tr>\n",
              "    <tr>\n",
              "      <th>149</th>\n",
              "      <td>150</td>\n",
              "      <td>5.9</td>\n",
              "      <td>3.0</td>\n",
              "      <td>5.1</td>\n",
              "      <td>1.8</td>\n",
              "      <td>Iris-virginica</td>\n",
              "    </tr>\n",
              "  </tbody>\n",
              "</table>\n",
              "<p>145 rows × 6 columns</p>\n",
              "</div>\n",
              "      <button class=\"colab-df-convert\" onclick=\"convertToInteractive('df-ecd743a3-5a61-457a-abbb-fd0ce210e627')\"\n",
              "              title=\"Convert this dataframe to an interactive table.\"\n",
              "              style=\"display:none;\">\n",
              "        \n",
              "  <svg xmlns=\"http://www.w3.org/2000/svg\" height=\"24px\"viewBox=\"0 0 24 24\"\n",
              "       width=\"24px\">\n",
              "    <path d=\"M0 0h24v24H0V0z\" fill=\"none\"/>\n",
              "    <path d=\"M18.56 5.44l.94 2.06.94-2.06 2.06-.94-2.06-.94-.94-2.06-.94 2.06-2.06.94zm-11 1L8.5 8.5l.94-2.06 2.06-.94-2.06-.94L8.5 2.5l-.94 2.06-2.06.94zm10 10l.94 2.06.94-2.06 2.06-.94-2.06-.94-.94-2.06-.94 2.06-2.06.94z\"/><path d=\"M17.41 7.96l-1.37-1.37c-.4-.4-.92-.59-1.43-.59-.52 0-1.04.2-1.43.59L10.3 9.45l-7.72 7.72c-.78.78-.78 2.05 0 2.83L4 21.41c.39.39.9.59 1.41.59.51 0 1.02-.2 1.41-.59l7.78-7.78 2.81-2.81c.8-.78.8-2.07 0-2.86zM5.41 20L4 18.59l7.72-7.72 1.47 1.35L5.41 20z\"/>\n",
              "  </svg>\n",
              "      </button>\n",
              "      \n",
              "  <style>\n",
              "    .colab-df-container {\n",
              "      display:flex;\n",
              "      flex-wrap:wrap;\n",
              "      gap: 12px;\n",
              "    }\n",
              "\n",
              "    .colab-df-convert {\n",
              "      background-color: #E8F0FE;\n",
              "      border: none;\n",
              "      border-radius: 50%;\n",
              "      cursor: pointer;\n",
              "      display: none;\n",
              "      fill: #1967D2;\n",
              "      height: 32px;\n",
              "      padding: 0 0 0 0;\n",
              "      width: 32px;\n",
              "    }\n",
              "\n",
              "    .colab-df-convert:hover {\n",
              "      background-color: #E2EBFA;\n",
              "      box-shadow: 0px 1px 2px rgba(60, 64, 67, 0.3), 0px 1px 3px 1px rgba(60, 64, 67, 0.15);\n",
              "      fill: #174EA6;\n",
              "    }\n",
              "\n",
              "    [theme=dark] .colab-df-convert {\n",
              "      background-color: #3B4455;\n",
              "      fill: #D2E3FC;\n",
              "    }\n",
              "\n",
              "    [theme=dark] .colab-df-convert:hover {\n",
              "      background-color: #434B5C;\n",
              "      box-shadow: 0px 1px 3px 1px rgba(0, 0, 0, 0.15);\n",
              "      filter: drop-shadow(0px 1px 2px rgba(0, 0, 0, 0.3));\n",
              "      fill: #FFFFFF;\n",
              "    }\n",
              "  </style>\n",
              "\n",
              "      <script>\n",
              "        const buttonEl =\n",
              "          document.querySelector('#df-ecd743a3-5a61-457a-abbb-fd0ce210e627 button.colab-df-convert');\n",
              "        buttonEl.style.display =\n",
              "          google.colab.kernel.accessAllowed ? 'block' : 'none';\n",
              "\n",
              "        async function convertToInteractive(key) {\n",
              "          const element = document.querySelector('#df-ecd743a3-5a61-457a-abbb-fd0ce210e627');\n",
              "          const dataTable =\n",
              "            await google.colab.kernel.invokeFunction('convertToInteractive',\n",
              "                                                     [key], {});\n",
              "          if (!dataTable) return;\n",
              "\n",
              "          const docLinkHtml = 'Like what you see? Visit the ' +\n",
              "            '<a target=\"_blank\" href=https://colab.research.google.com/notebooks/data_table.ipynb>data table notebook</a>'\n",
              "            + ' to learn more about interactive tables.';\n",
              "          element.innerHTML = '';\n",
              "          dataTable['output_type'] = 'display_data';\n",
              "          await google.colab.output.renderOutput(dataTable, element);\n",
              "          const docLink = document.createElement('div');\n",
              "          docLink.innerHTML = docLinkHtml;\n",
              "          element.appendChild(docLink);\n",
              "        }\n",
              "      </script>\n",
              "    </div>\n",
              "  </div>\n",
              "  "
            ],
            "text/plain": [
              "      Id  SepalLengthCm  SepalWidthCm  PetalLengthCm  PetalWidthCm  \\\n",
              "5      6            5.4           3.9            1.7           0.4   \n",
              "6      7            4.6           3.4            1.4           0.3   \n",
              "7      8            5.0           3.4            1.5           0.2   \n",
              "8      9            4.4           2.9            1.4           0.2   \n",
              "9     10            4.9           3.1            1.5           0.1   \n",
              "..   ...            ...           ...            ...           ...   \n",
              "145  146            6.7           3.0            5.2           2.3   \n",
              "146  147            6.3           2.5            5.0           1.9   \n",
              "147  148            6.5           3.0            5.2           2.0   \n",
              "148  149            6.2           3.4            5.4           2.3   \n",
              "149  150            5.9           3.0            5.1           1.8   \n",
              "\n",
              "            Species  \n",
              "5       Iris-setosa  \n",
              "6       Iris-setosa  \n",
              "7       Iris-setosa  \n",
              "8       Iris-setosa  \n",
              "9       Iris-setosa  \n",
              "..              ...  \n",
              "145  Iris-virginica  \n",
              "146  Iris-virginica  \n",
              "147  Iris-virginica  \n",
              "148  Iris-virginica  \n",
              "149  Iris-virginica  \n",
              "\n",
              "[145 rows x 6 columns]"
            ]
          },
          "metadata": {},
          "output_type": "display_data"
        }
      ],
      "source": [
        "# 5) \n",
        "\n",
        "# i) Print first 5 rows of SepalLengthCm. \n",
        "\n",
        "print('first 5 rows of SepalLengthCm.')\n",
        "display(data.loc[:4,'SepalLengthCm'])\n",
        "\n",
        "# ii) Print from 5th row and onwards and entire column of Iris.csv dataset.\n",
        "print()\n",
        "print('from 5th row and onwards and entire column of Iris.csv dataset')\n",
        "display(data.loc[5:])"
      ]
    },
    {
      "cell_type": "markdown",
      "metadata": {
        "id": "yfS_0Lk-Gf8v"
      },
      "source": [
        "**3.4 Scikit Learn Library**"
      ]
    },
    {
      "cell_type": "code",
      "execution_count": null,
      "metadata": {
        "id": "g_8wKm_RGkVB"
      },
      "outputs": [],
      "source": [
        "import numpy as np\n",
        "import matplotlib as plt\n",
        "from sklearn import datasets #various toy datasets\n",
        "from sklearn import metrics #Check accuracy of model\n",
        "from sklearn.linear_model import LogisticRegression #various supervised and unsupervised learning algorithms"
      ]
    },
    {
      "cell_type": "code",
      "execution_count": null,
      "metadata": {
        "id": "FOpo0eE8HR7F"
      },
      "outputs": [],
      "source": [
        "breast_cancer = datasets.load_breast_cancer()"
      ]
    },
    {
      "cell_type": "code",
      "execution_count": null,
      "metadata": {
        "colab": {
          "base_uri": "https://localhost:8080/"
        },
        "id": "WPjRD1zfJNUN",
        "outputId": "82f1d7e2-6383-48bd-a70f-4f609abd706e"
      },
      "outputs": [
        {
          "output_type": "stream",
          "name": "stdout",
          "text": [
            "Feature names: ['mean radius' 'mean texture' 'mean perimeter' 'mean area'\n",
            " 'mean smoothness' 'mean compactness' 'mean concavity'\n",
            " 'mean concave points' 'mean symmetry' 'mean fractal dimension'\n",
            " 'radius error' 'texture error' 'perimeter error' 'area error'\n",
            " 'smoothness error' 'compactness error' 'concavity error'\n",
            " 'concave points error' 'symmetry error' 'fractal dimension error'\n",
            " 'worst radius' 'worst texture' 'worst perimeter' 'worst area'\n",
            " 'worst smoothness' 'worst compactness' 'worst concavity'\n",
            " 'worst concave points' 'worst symmetry' 'worst fractal dimension']\n",
            "\n",
            "Target names: ['malignant' 'benign']\n",
            "\n",
            "\n",
            "First 10 rows of X:\n",
            " [[1.799e+01 1.038e+01 1.228e+02 1.001e+03 1.184e-01 2.776e-01 3.001e-01\n",
            "  1.471e-01 2.419e-01 7.871e-02 1.095e+00 9.053e-01 8.589e+00 1.534e+02\n",
            "  6.399e-03 4.904e-02 5.373e-02 1.587e-02 3.003e-02 6.193e-03 2.538e+01\n",
            "  1.733e+01 1.846e+02 2.019e+03 1.622e-01 6.656e-01 7.119e-01 2.654e-01\n",
            "  4.601e-01 1.189e-01]\n",
            " [2.057e+01 1.777e+01 1.329e+02 1.326e+03 8.474e-02 7.864e-02 8.690e-02\n",
            "  7.017e-02 1.812e-01 5.667e-02 5.435e-01 7.339e-01 3.398e+00 7.408e+01\n",
            "  5.225e-03 1.308e-02 1.860e-02 1.340e-02 1.389e-02 3.532e-03 2.499e+01\n",
            "  2.341e+01 1.588e+02 1.956e+03 1.238e-01 1.866e-01 2.416e-01 1.860e-01\n",
            "  2.750e-01 8.902e-02]\n",
            " [1.969e+01 2.125e+01 1.300e+02 1.203e+03 1.096e-01 1.599e-01 1.974e-01\n",
            "  1.279e-01 2.069e-01 5.999e-02 7.456e-01 7.869e-01 4.585e+00 9.403e+01\n",
            "  6.150e-03 4.006e-02 3.832e-02 2.058e-02 2.250e-02 4.571e-03 2.357e+01\n",
            "  2.553e+01 1.525e+02 1.709e+03 1.444e-01 4.245e-01 4.504e-01 2.430e-01\n",
            "  3.613e-01 8.758e-02]\n",
            " [1.142e+01 2.038e+01 7.758e+01 3.861e+02 1.425e-01 2.839e-01 2.414e-01\n",
            "  1.052e-01 2.597e-01 9.744e-02 4.956e-01 1.156e+00 3.445e+00 2.723e+01\n",
            "  9.110e-03 7.458e-02 5.661e-02 1.867e-02 5.963e-02 9.208e-03 1.491e+01\n",
            "  2.650e+01 9.887e+01 5.677e+02 2.098e-01 8.663e-01 6.869e-01 2.575e-01\n",
            "  6.638e-01 1.730e-01]\n",
            " [2.029e+01 1.434e+01 1.351e+02 1.297e+03 1.003e-01 1.328e-01 1.980e-01\n",
            "  1.043e-01 1.809e-01 5.883e-02 7.572e-01 7.813e-01 5.438e+00 9.444e+01\n",
            "  1.149e-02 2.461e-02 5.688e-02 1.885e-02 1.756e-02 5.115e-03 2.254e+01\n",
            "  1.667e+01 1.522e+02 1.575e+03 1.374e-01 2.050e-01 4.000e-01 1.625e-01\n",
            "  2.364e-01 7.678e-02]\n",
            " [1.245e+01 1.570e+01 8.257e+01 4.771e+02 1.278e-01 1.700e-01 1.578e-01\n",
            "  8.089e-02 2.087e-01 7.613e-02 3.345e-01 8.902e-01 2.217e+00 2.719e+01\n",
            "  7.510e-03 3.345e-02 3.672e-02 1.137e-02 2.165e-02 5.082e-03 1.547e+01\n",
            "  2.375e+01 1.034e+02 7.416e+02 1.791e-01 5.249e-01 5.355e-01 1.741e-01\n",
            "  3.985e-01 1.244e-01]\n",
            " [1.825e+01 1.998e+01 1.196e+02 1.040e+03 9.463e-02 1.090e-01 1.127e-01\n",
            "  7.400e-02 1.794e-01 5.742e-02 4.467e-01 7.732e-01 3.180e+00 5.391e+01\n",
            "  4.314e-03 1.382e-02 2.254e-02 1.039e-02 1.369e-02 2.179e-03 2.288e+01\n",
            "  2.766e+01 1.532e+02 1.606e+03 1.442e-01 2.576e-01 3.784e-01 1.932e-01\n",
            "  3.063e-01 8.368e-02]\n",
            " [1.371e+01 2.083e+01 9.020e+01 5.779e+02 1.189e-01 1.645e-01 9.366e-02\n",
            "  5.985e-02 2.196e-01 7.451e-02 5.835e-01 1.377e+00 3.856e+00 5.096e+01\n",
            "  8.805e-03 3.029e-02 2.488e-02 1.448e-02 1.486e-02 5.412e-03 1.706e+01\n",
            "  2.814e+01 1.106e+02 8.970e+02 1.654e-01 3.682e-01 2.678e-01 1.556e-01\n",
            "  3.196e-01 1.151e-01]\n",
            " [1.300e+01 2.182e+01 8.750e+01 5.198e+02 1.273e-01 1.932e-01 1.859e-01\n",
            "  9.353e-02 2.350e-01 7.389e-02 3.063e-01 1.002e+00 2.406e+00 2.432e+01\n",
            "  5.731e-03 3.502e-02 3.553e-02 1.226e-02 2.143e-02 3.749e-03 1.549e+01\n",
            "  3.073e+01 1.062e+02 7.393e+02 1.703e-01 5.401e-01 5.390e-01 2.060e-01\n",
            "  4.378e-01 1.072e-01]\n",
            " [1.246e+01 2.404e+01 8.397e+01 4.759e+02 1.186e-01 2.396e-01 2.273e-01\n",
            "  8.543e-02 2.030e-01 8.243e-02 2.976e-01 1.599e+00 2.039e+00 2.394e+01\n",
            "  7.149e-03 7.217e-02 7.743e-02 1.432e-02 1.789e-02 1.008e-02 1.509e+01\n",
            "  4.068e+01 9.765e+01 7.114e+02 1.853e-01 1.058e+00 1.105e+00 2.210e-01\n",
            "  4.366e-01 2.075e-01]]\n"
          ]
        }
      ],
      "source": [
        "X = breast_cancer.data\n",
        "y= breast_cancer.target\n",
        "\n",
        "feature_names = breast_cancer.feature_names\n",
        "target_names = breast_cancer.target_names\n",
        "print(\"Feature names:\", feature_names)\n",
        "print()\n",
        "print(\"Target names:\", target_names)\n",
        "print()\n",
        "print(\"\\nFirst 10 rows of X:\\n\", X[:10])"
      ]
    },
    {
      "cell_type": "code",
      "execution_count": 1,
      "metadata": {
        "id": "r_IF0oQyJ5iv"
      },
      "outputs": [],
      "source": [
        "from sklearn.model_selection import train_test_split"
      ]
    },
    {
      "cell_type": "code",
      "execution_count": 2,
      "metadata": {
        "id": "nJggYW_KKReI",
        "colab": {
          "base_uri": "https://localhost:8080/",
          "height": 200
        },
        "outputId": "28b9c2e8-7ee6-4c57-c0ea-83cb80362ac3"
      },
      "outputs": [
        {
          "output_type": "error",
          "ename": "NameError",
          "evalue": "ignored",
          "traceback": [
            "\u001b[0;31m---------------------------------------------------------------------------\u001b[0m",
            "\u001b[0;31mNameError\u001b[0m                                 Traceback (most recent call last)",
            "\u001b[0;32m<ipython-input-2-577470f63ff2>\u001b[0m in \u001b[0;36m<module>\u001b[0;34m\u001b[0m\n\u001b[1;32m      1\u001b[0m X_train, X_test, y_train, y_test = train_test_split(\n\u001b[0;32m----> 2\u001b[0;31m \u001b[0mX\u001b[0m\u001b[0;34m,\u001b[0m \u001b[0my\u001b[0m\u001b[0;34m,\u001b[0m \u001b[0mtest_size\u001b[0m \u001b[0;34m=\u001b[0m \u001b[0;36m0.4\u001b[0m\u001b[0;34m,\u001b[0m \u001b[0mrandom_state\u001b[0m\u001b[0;34m=\u001b[0m\u001b[0;36m1\u001b[0m\u001b[0;34m\u001b[0m\u001b[0;34m\u001b[0m\u001b[0m\n\u001b[0m\u001b[1;32m      3\u001b[0m )\n",
            "\u001b[0;31mNameError\u001b[0m: name 'X' is not defined"
          ]
        }
      ],
      "source": [
        "X_train, X_test, y_train, y_test = train_test_split(\n",
        "X, y, test_size = 0.4, random_state=1\n",
        ")"
      ]
    }
  ],
  "metadata": {
    "colab": {
      "provenance": []
    },
    "kernelspec": {
      "display_name": "Python 3",
      "language": "python",
      "name": "python3"
    },
    "language_info": {
      "name": "python",
      "version": "3.10.0"
    },
    "vscode": {
      "interpreter": {
        "hash": "c19fa61d258bb2b35aae2ada233c33e2817c1ce895aa48acba720c6bf7cbe3cb"
      }
    }
  },
  "nbformat": 4,
  "nbformat_minor": 0
}